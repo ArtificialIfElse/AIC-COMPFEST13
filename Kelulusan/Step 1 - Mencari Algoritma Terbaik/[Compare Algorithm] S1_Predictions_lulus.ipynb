{
  "nbformat": 4,
  "nbformat_minor": 0,
  "metadata": {
    "colab": {
      "name": "S1_Predictions_lulus.ipynb",
      "provenance": [],
      "collapsed_sections": []
    },
    "kernelspec": {
      "name": "python3",
      "display_name": "Python 3"
    },
    "language_info": {
      "name": "python"
    }
  },
  "cells": [
    {
      "cell_type": "markdown",
      "metadata": {
        "id": "mKA71T8LtMWK"
      },
      "source": [
        "# Prediksi Predikat Lulus"
      ]
    },
    {
      "cell_type": "markdown",
      "metadata": {
        "id": "LlRRFFjKtQyZ"
      },
      "source": [
        "## Drive - Colab"
      ]
    },
    {
      "cell_type": "code",
      "metadata": {
        "id": "-lwOOFQks92i"
      },
      "source": [
        "from google.colab import drive\n",
        "from google.colab import files"
      ],
      "execution_count": null,
      "outputs": []
    },
    {
      "cell_type": "code",
      "metadata": {
        "colab": {
          "base_uri": "https://localhost:8080/"
        },
        "id": "ioogqPWCtV-I",
        "outputId": "d69c014d-93d0-440a-985f-a09041b2d538"
      },
      "source": [
        "drive.mount('/content/drive')"
      ],
      "execution_count": null,
      "outputs": [
        {
          "output_type": "stream",
          "text": [
            "Mounted at /content/drive\n"
          ],
          "name": "stdout"
        }
      ]
    },
    {
      "cell_type": "code",
      "metadata": {
        "colab": {
          "base_uri": "https://localhost:8080/"
        },
        "id": "pEtFRTzktZpQ",
        "outputId": "3826be36-5ac5-4776-b8e4-456849f88bc0"
      },
      "source": [
        "%cd /content/drive/MyDrive/ai_contest/Kelulusan/olah"
      ],
      "execution_count": null,
      "outputs": [
        {
          "output_type": "stream",
          "text": [
            "/content/drive/MyDrive/ai_contest/Kelulusan/olah\n"
          ],
          "name": "stdout"
        }
      ]
    },
    {
      "cell_type": "markdown",
      "metadata": {
        "id": "OGTziFvptwmi"
      },
      "source": [
        "## Import Modules "
      ]
    },
    {
      "cell_type": "code",
      "metadata": {
        "id": "uWAzvruAtyDs"
      },
      "source": [
        "import matplotlib.pyplot as plt\n",
        "import pandas as pd\n",
        "import numpy as np"
      ],
      "execution_count": null,
      "outputs": []
    },
    {
      "cell_type": "markdown",
      "metadata": {
        "id": "KdfapdCutpG8"
      },
      "source": [
        "## S1 "
      ]
    },
    {
      "cell_type": "code",
      "metadata": {
        "id": "tXWVYydxtmaw"
      },
      "source": [
        "df = pd.read_csv('new_lulus_sarjana.csv')"
      ],
      "execution_count": null,
      "outputs": []
    },
    {
      "cell_type": "code",
      "metadata": {
        "colab": {
          "base_uri": "https://localhost:8080/",
          "height": 202
        },
        "id": "VTOiwqTRtvOH",
        "outputId": "8bab7f01-8442-47f4-f81d-8a6d8bc1f7ed"
      },
      "source": [
        "df.head()"
      ],
      "execution_count": null,
      "outputs": [
        {
          "output_type": "execute_result",
          "data": {
            "text/html": [
              "<div>\n",
              "<style scoped>\n",
              "    .dataframe tbody tr th:only-of-type {\n",
              "        vertical-align: middle;\n",
              "    }\n",
              "\n",
              "    .dataframe tbody tr th {\n",
              "        vertical-align: top;\n",
              "    }\n",
              "\n",
              "    .dataframe thead th {\n",
              "        text-align: right;\n",
              "    }\n",
              "</style>\n",
              "<table border=\"1\" class=\"dataframe\">\n",
              "  <thead>\n",
              "    <tr style=\"text-align: right;\">\n",
              "      <th></th>\n",
              "      <th>IP1</th>\n",
              "      <th>IP2</th>\n",
              "      <th>IP3</th>\n",
              "      <th>IP4</th>\n",
              "      <th>IP5</th>\n",
              "      <th>IP6</th>\n",
              "      <th>IP7</th>\n",
              "      <th>IP8</th>\n",
              "      <th>Average</th>\n",
              "      <th>Predikat</th>\n",
              "    </tr>\n",
              "  </thead>\n",
              "  <tbody>\n",
              "    <tr>\n",
              "      <th>0</th>\n",
              "      <td>3.16</td>\n",
              "      <td>3.42</td>\n",
              "      <td>3.00</td>\n",
              "      <td>3.48</td>\n",
              "      <td>3.97</td>\n",
              "      <td>3.66</td>\n",
              "      <td>2.52</td>\n",
              "      <td>3.84</td>\n",
              "      <td>3.38</td>\n",
              "      <td>Sangat Memuaskan</td>\n",
              "    </tr>\n",
              "    <tr>\n",
              "      <th>1</th>\n",
              "      <td>3.60</td>\n",
              "      <td>3.54</td>\n",
              "      <td>3.79</td>\n",
              "      <td>3.82</td>\n",
              "      <td>3.80</td>\n",
              "      <td>3.86</td>\n",
              "      <td>3.52</td>\n",
              "      <td>3.58</td>\n",
              "      <td>3.69</td>\n",
              "      <td>Cumlaude</td>\n",
              "    </tr>\n",
              "    <tr>\n",
              "      <th>2</th>\n",
              "      <td>3.65</td>\n",
              "      <td>3.65</td>\n",
              "      <td>3.75</td>\n",
              "      <td>3.86</td>\n",
              "      <td>3.82</td>\n",
              "      <td>3.80</td>\n",
              "      <td>3.60</td>\n",
              "      <td>3.74</td>\n",
              "      <td>3.73</td>\n",
              "      <td>Cumlaude</td>\n",
              "    </tr>\n",
              "    <tr>\n",
              "      <th>3</th>\n",
              "      <td>3.70</td>\n",
              "      <td>3.82</td>\n",
              "      <td>3.85</td>\n",
              "      <td>3.67</td>\n",
              "      <td>3.88</td>\n",
              "      <td>3.85</td>\n",
              "      <td>3.66</td>\n",
              "      <td>3.84</td>\n",
              "      <td>3.78</td>\n",
              "      <td>Cumlaude</td>\n",
              "    </tr>\n",
              "    <tr>\n",
              "      <th>4</th>\n",
              "      <td>3.98</td>\n",
              "      <td>3.62</td>\n",
              "      <td>3.77</td>\n",
              "      <td>3.70</td>\n",
              "      <td>3.93</td>\n",
              "      <td>3.79</td>\n",
              "      <td>3.77</td>\n",
              "      <td>3.55</td>\n",
              "      <td>3.77</td>\n",
              "      <td>Cumlaude</td>\n",
              "    </tr>\n",
              "  </tbody>\n",
              "</table>\n",
              "</div>"
            ],
            "text/plain": [
              "    IP1   IP2   IP3   IP4   IP5   IP6   IP7   IP8  Average          Predikat\n",
              "0  3.16  3.42  3.00  3.48  3.97  3.66  2.52  3.84     3.38  Sangat Memuaskan\n",
              "1  3.60  3.54  3.79  3.82  3.80  3.86  3.52  3.58     3.69          Cumlaude\n",
              "2  3.65  3.65  3.75  3.86  3.82  3.80  3.60  3.74     3.73          Cumlaude\n",
              "3  3.70  3.82  3.85  3.67  3.88  3.85  3.66  3.84     3.78          Cumlaude\n",
              "4  3.98  3.62  3.77  3.70  3.93  3.79  3.77  3.55     3.77          Cumlaude"
            ]
          },
          "metadata": {
            "tags": []
          },
          "execution_count": 8
        }
      ]
    },
    {
      "cell_type": "code",
      "metadata": {
        "colab": {
          "base_uri": "https://localhost:8080/"
        },
        "id": "i-X3f86qt4Y3",
        "outputId": "535ed113-9d07-49b9-c77c-5f3b4f36b6a4"
      },
      "source": [
        "df.Predikat.value_counts()"
      ],
      "execution_count": null,
      "outputs": [
        {
          "output_type": "execute_result",
          "data": {
            "text/plain": [
              "Memuaskan           3773\n",
              "Sangat Memuaskan    3539\n",
              "Cumlaude            2029\n",
              "Tidak Lulus          659\n",
              "Name: Predikat, dtype: int64"
            ]
          },
          "metadata": {
            "tags": []
          },
          "execution_count": 9
        }
      ]
    },
    {
      "cell_type": "code",
      "metadata": {
        "colab": {
          "base_uri": "https://localhost:8080/"
        },
        "id": "FyxLBZ5-t7f3",
        "outputId": "95946f39-588d-4c30-a599-62836dd75ae1"
      },
      "source": [
        "df.info()"
      ],
      "execution_count": null,
      "outputs": [
        {
          "output_type": "stream",
          "text": [
            "<class 'pandas.core.frame.DataFrame'>\n",
            "RangeIndex: 10000 entries, 0 to 9999\n",
            "Data columns (total 10 columns):\n",
            " #   Column    Non-Null Count  Dtype  \n",
            "---  ------    --------------  -----  \n",
            " 0   IP1       10000 non-null  float64\n",
            " 1   IP2       10000 non-null  float64\n",
            " 2   IP3       10000 non-null  float64\n",
            " 3   IP4       10000 non-null  float64\n",
            " 4   IP5       10000 non-null  float64\n",
            " 5   IP6       10000 non-null  float64\n",
            " 6   IP7       10000 non-null  float64\n",
            " 7   IP8       10000 non-null  float64\n",
            " 8   Average   10000 non-null  float64\n",
            " 9   Predikat  10000 non-null  object \n",
            "dtypes: float64(9), object(1)\n",
            "memory usage: 781.4+ KB\n"
          ],
          "name": "stdout"
        }
      ]
    },
    {
      "cell_type": "code",
      "metadata": {
        "colab": {
          "base_uri": "https://localhost:8080/",
          "height": 371
        },
        "id": "gJp6s94buBDv",
        "outputId": "578fa49e-b037-4947-d594-a0b754eb7f0c"
      },
      "source": [
        "df['Predikat'].value_counts().plot(kind='bar')"
      ],
      "execution_count": null,
      "outputs": [
        {
          "output_type": "execute_result",
          "data": {
            "text/plain": [
              "<matplotlib.axes._subplots.AxesSubplot at 0x7f877370ae50>"
            ]
          },
          "metadata": {
            "tags": []
          },
          "execution_count": 11
        },
        {
          "output_type": "display_data",
          "data": {
            "image/png": "[encoded data removed]",
            "text/plain": [
              "<Figure size 432x288 with 1 Axes>"
            ]
          },
          "metadata": {
            "tags": [],
            "needs_background": "light"
          }
        }
      ]
    },
    {
      "cell_type": "markdown",
      "metadata": {
        "id": "kjiNquwz4VEH"
      },
      "source": [
        "## Sarjana"
      ]
    },
    {
      "cell_type": "code",
      "metadata": {
        "id": "KNA6kwuTunf4"
      },
      "source": [
        "df_new = df.drop(['IP7', 'IP8'], axis=1)"
      ],
      "execution_count": null,
      "outputs": []
    },
    {
      "cell_type": "code",
      "metadata": {
        "id": "fCywet5Iu2xP"
      },
      "source": [
        "# Backup\n",
        "df_new.to_csv('nilai_sarjana_predict.csv', index=False)"
      ],
      "execution_count": null,
      "outputs": []
    },
    {
      "cell_type": "markdown",
      "metadata": {
        "id": "kmaD_ZTAwk0c"
      },
      "source": [
        "## Label Encoding"
      ]
    },
    {
      "cell_type": "code",
      "metadata": {
        "id": "waV62jvPwfze"
      },
      "source": [
        "df = pd.read_csv('nilai_sarjana_predict.csv', index_col=None)"
      ],
      "execution_count": null,
      "outputs": []
    },
    {
      "cell_type": "code",
      "metadata": {
        "colab": {
          "base_uri": "https://localhost:8080/",
          "height": 206
        },
        "id": "jGxf7i07wqpf",
        "outputId": "98e0787e-7aad-4f54-8fa1-5393b7a30f8f"
      },
      "source": [
        "df.head()"
      ],
      "execution_count": null,
      "outputs": [
        {
          "output_type": "execute_result",
          "data": {
            "text/html": [
              "<div>\n",
              "<style scoped>\n",
              "    .dataframe tbody tr th:only-of-type {\n",
              "        vertical-align: middle;\n",
              "    }\n",
              "\n",
              "    .dataframe tbody tr th {\n",
              "        vertical-align: top;\n",
              "    }\n",
              "\n",
              "    .dataframe thead th {\n",
              "        text-align: right;\n",
              "    }\n",
              "</style>\n",
              "<table border=\"1\" class=\"dataframe\">\n",
              "  <thead>\n",
              "    <tr style=\"text-align: right;\">\n",
              "      <th></th>\n",
              "      <th>IP1</th>\n",
              "      <th>IP2</th>\n",
              "      <th>IP3</th>\n",
              "      <th>IP4</th>\n",
              "      <th>IP5</th>\n",
              "      <th>IP6</th>\n",
              "      <th>Average</th>\n",
              "      <th>Predikat</th>\n",
              "    </tr>\n",
              "  </thead>\n",
              "  <tbody>\n",
              "    <tr>\n",
              "      <th>0</th>\n",
              "      <td>3.16</td>\n",
              "      <td>3.42</td>\n",
              "      <td>3.00</td>\n",
              "      <td>3.48</td>\n",
              "      <td>3.97</td>\n",
              "      <td>3.66</td>\n",
              "      <td>3.38</td>\n",
              "      <td>Sangat Memuaskan</td>\n",
              "    </tr>\n",
              "    <tr>\n",
              "      <th>1</th>\n",
              "      <td>3.60</td>\n",
              "      <td>3.54</td>\n",
              "      <td>3.79</td>\n",
              "      <td>3.82</td>\n",
              "      <td>3.80</td>\n",
              "      <td>3.86</td>\n",
              "      <td>3.69</td>\n",
              "      <td>Cumlaude</td>\n",
              "    </tr>\n",
              "    <tr>\n",
              "      <th>2</th>\n",
              "      <td>3.65</td>\n",
              "      <td>3.65</td>\n",
              "      <td>3.75</td>\n",
              "      <td>3.86</td>\n",
              "      <td>3.82</td>\n",
              "      <td>3.80</td>\n",
              "      <td>3.73</td>\n",
              "      <td>Cumlaude</td>\n",
              "    </tr>\n",
              "    <tr>\n",
              "      <th>3</th>\n",
              "      <td>3.70</td>\n",
              "      <td>3.82</td>\n",
              "      <td>3.85</td>\n",
              "      <td>3.67</td>\n",
              "      <td>3.88</td>\n",
              "      <td>3.85</td>\n",
              "      <td>3.78</td>\n",
              "      <td>Cumlaude</td>\n",
              "    </tr>\n",
              "    <tr>\n",
              "      <th>4</th>\n",
              "      <td>3.98</td>\n",
              "      <td>3.62</td>\n",
              "      <td>3.77</td>\n",
              "      <td>3.70</td>\n",
              "      <td>3.93</td>\n",
              "      <td>3.79</td>\n",
              "      <td>3.77</td>\n",
              "      <td>Cumlaude</td>\n",
              "    </tr>\n",
              "  </tbody>\n",
              "</table>\n",
              "</div>"
            ],
            "text/plain": [
              "    IP1   IP2   IP3   IP4   IP5   IP6  Average          Predikat\n",
              "0  3.16  3.42  3.00  3.48  3.97  3.66     3.38  Sangat Memuaskan\n",
              "1  3.60  3.54  3.79  3.82  3.80  3.86     3.69          Cumlaude\n",
              "2  3.65  3.65  3.75  3.86  3.82  3.80     3.73          Cumlaude\n",
              "3  3.70  3.82  3.85  3.67  3.88  3.85     3.78          Cumlaude\n",
              "4  3.98  3.62  3.77  3.70  3.93  3.79     3.77          Cumlaude"
            ]
          },
          "metadata": {
            "tags": []
          },
          "execution_count": 105
        }
      ]
    },
    {
      "cell_type": "code",
      "metadata": {
        "colab": {
          "base_uri": "https://localhost:8080/"
        },
        "id": "rc1a4nVXxQ0O",
        "outputId": "8a1d3efc-e23d-41bd-8729-7d55fcbe6e19"
      },
      "source": [
        "df.Predikat.unique()"
      ],
      "execution_count": null,
      "outputs": [
        {
          "output_type": "execute_result",
          "data": {
            "text/plain": [
              "array(['Sangat Memuaskan', 'Cumlaude', 'Memuaskan', 'Tidak Lulus'],\n",
              "      dtype=object)"
            ]
          },
          "metadata": {
            "tags": []
          },
          "execution_count": 106
        }
      ]
    },
    {
      "cell_type": "code",
      "metadata": {
        "colab": {
          "base_uri": "https://localhost:8080/",
          "height": 206
        },
        "id": "bkkBVglxw9Om",
        "outputId": "56e4feb1-b67f-4c9a-bc87-127ba7c3104f"
      },
      "source": [
        "from sklearn.preprocessing import LabelEncoder\n",
        "le = LabelEncoder()\n",
        "df['Predikat'] = le.fit_transform(df['Predikat'])\n",
        "df.head()"
      ],
      "execution_count": null,
      "outputs": [
        {
          "output_type": "execute_result",
          "data": {
            "text/html": [
              "<div>\n",
              "<style scoped>\n",
              "    .dataframe tbody tr th:only-of-type {\n",
              "        vertical-align: middle;\n",
              "    }\n",
              "\n",
              "    .dataframe tbody tr th {\n",
              "        vertical-align: top;\n",
              "    }\n",
              "\n",
              "    .dataframe thead th {\n",
              "        text-align: right;\n",
              "    }\n",
              "</style>\n",
              "<table border=\"1\" class=\"dataframe\">\n",
              "  <thead>\n",
              "    <tr style=\"text-align: right;\">\n",
              "      <th></th>\n",
              "      <th>IP1</th>\n",
              "      <th>IP2</th>\n",
              "      <th>IP3</th>\n",
              "      <th>IP4</th>\n",
              "      <th>IP5</th>\n",
              "      <th>IP6</th>\n",
              "      <th>Average</th>\n",
              "      <th>Predikat</th>\n",
              "    </tr>\n",
              "  </thead>\n",
              "  <tbody>\n",
              "    <tr>\n",
              "      <th>0</th>\n",
              "      <td>3.16</td>\n",
              "      <td>3.42</td>\n",
              "      <td>3.00</td>\n",
              "      <td>3.48</td>\n",
              "      <td>3.97</td>\n",
              "      <td>3.66</td>\n",
              "      <td>3.38</td>\n",
              "      <td>2</td>\n",
              "    </tr>\n",
              "    <tr>\n",
              "      <th>1</th>\n",
              "      <td>3.60</td>\n",
              "      <td>3.54</td>\n",
              "      <td>3.79</td>\n",
              "      <td>3.82</td>\n",
              "      <td>3.80</td>\n",
              "      <td>3.86</td>\n",
              "      <td>3.69</td>\n",
              "      <td>0</td>\n",
              "    </tr>\n",
              "    <tr>\n",
              "      <th>2</th>\n",
              "      <td>3.65</td>\n",
              "      <td>3.65</td>\n",
              "      <td>3.75</td>\n",
              "      <td>3.86</td>\n",
              "      <td>3.82</td>\n",
              "      <td>3.80</td>\n",
              "      <td>3.73</td>\n",
              "      <td>0</td>\n",
              "    </tr>\n",
              "    <tr>\n",
              "      <th>3</th>\n",
              "      <td>3.70</td>\n",
              "      <td>3.82</td>\n",
              "      <td>3.85</td>\n",
              "      <td>3.67</td>\n",
              "      <td>3.88</td>\n",
              "      <td>3.85</td>\n",
              "      <td>3.78</td>\n",
              "      <td>0</td>\n",
              "    </tr>\n",
              "    <tr>\n",
              "      <th>4</th>\n",
              "      <td>3.98</td>\n",
              "      <td>3.62</td>\n",
              "      <td>3.77</td>\n",
              "      <td>3.70</td>\n",
              "      <td>3.93</td>\n",
              "      <td>3.79</td>\n",
              "      <td>3.77</td>\n",
              "      <td>0</td>\n",
              "    </tr>\n",
              "  </tbody>\n",
              "</table>\n",
              "</div>"
            ],
            "text/plain": [
              "    IP1   IP2   IP3   IP4   IP5   IP6  Average  Predikat\n",
              "0  3.16  3.42  3.00  3.48  3.97  3.66     3.38         2\n",
              "1  3.60  3.54  3.79  3.82  3.80  3.86     3.69         0\n",
              "2  3.65  3.65  3.75  3.86  3.82  3.80     3.73         0\n",
              "3  3.70  3.82  3.85  3.67  3.88  3.85     3.78         0\n",
              "4  3.98  3.62  3.77  3.70  3.93  3.79     3.77         0"
            ]
          },
          "metadata": {
            "tags": []
          },
          "execution_count": 148
        }
      ]
    },
    {
      "cell_type": "code",
      "metadata": {
        "colab": {
          "base_uri": "https://localhost:8080/"
        },
        "id": "EwSboVygxKyH",
        "outputId": "d638c00e-43da-4916-bf67-59b423df1ee6"
      },
      "source": [
        "df.Predikat.unique()"
      ],
      "execution_count": null,
      "outputs": [
        {
          "output_type": "execute_result",
          "data": {
            "text/plain": [
              "array([2, 0, 1, 3])"
            ]
          },
          "metadata": {
            "tags": []
          },
          "execution_count": 108
        }
      ]
    },
    {
      "cell_type": "markdown",
      "metadata": {
        "id": "Y0e8amEXxZvK"
      },
      "source": [
        "Keterangan:\n",
        "* Cumlaude: 0\n",
        "* Memuaskan: 1\n",
        "* Sangat Memuaskan: 2\n",
        "* Tidak Lulus: 3"
      ]
    },
    {
      "cell_type": "code",
      "metadata": {
        "colab": {
          "base_uri": "https://localhost:8080/"
        },
        "id": "mpJwEa6nxW5O",
        "outputId": "92ff6248-cf28-447c-c228-92133cab2822"
      },
      "source": [
        "df.Predikat.value_counts()"
      ],
      "execution_count": null,
      "outputs": [
        {
          "output_type": "execute_result",
          "data": {
            "text/plain": [
              "1    3773\n",
              "2    3539\n",
              "0    2029\n",
              "3     659\n",
              "Name: Predikat, dtype: int64"
            ]
          },
          "metadata": {
            "tags": []
          },
          "execution_count": 109
        }
      ]
    },
    {
      "cell_type": "markdown",
      "metadata": {
        "id": "cyFKSligxk6N"
      },
      "source": [
        "## Predict"
      ]
    },
    {
      "cell_type": "code",
      "metadata": {
        "id": "W9q60s1dxjEv"
      },
      "source": [
        "from sklearn.model_selection import train_test_split"
      ],
      "execution_count": null,
      "outputs": []
    },
    {
      "cell_type": "code",
      "metadata": {
        "id": "EPVc6qoFxomf"
      },
      "source": [
        "X = df.drop(['Average', 'Predikat'], axis=1)\n",
        "y = df['Predikat']"
      ],
      "execution_count": null,
      "outputs": []
    },
    {
      "cell_type": "code",
      "metadata": {
        "colab": {
          "base_uri": "https://localhost:8080/",
          "height": 424
        },
        "id": "4f4D5FE6xw8m",
        "outputId": "1f94bb2a-f53d-4178-ea74-dc1e586ada92"
      },
      "source": [
        "X"
      ],
      "execution_count": null,
      "outputs": [
        {
          "output_type": "execute_result",
          "data": {
            "text/html": [
              "<div>\n",
              "<style scoped>\n",
              "    .dataframe tbody tr th:only-of-type {\n",
              "        vertical-align: middle;\n",
              "    }\n",
              "\n",
              "    .dataframe tbody tr th {\n",
              "        vertical-align: top;\n",
              "    }\n",
              "\n",
              "    .dataframe thead th {\n",
              "        text-align: right;\n",
              "    }\n",
              "</style>\n",
              "<table border=\"1\" class=\"dataframe\">\n",
              "  <thead>\n",
              "    <tr style=\"text-align: right;\">\n",
              "      <th></th>\n",
              "      <th>IP1</th>\n",
              "      <th>IP2</th>\n",
              "      <th>IP3</th>\n",
              "      <th>IP4</th>\n",
              "      <th>IP5</th>\n",
              "      <th>IP6</th>\n",
              "    </tr>\n",
              "  </thead>\n",
              "  <tbody>\n",
              "    <tr>\n",
              "      <th>0</th>\n",
              "      <td>3.16</td>\n",
              "      <td>3.42</td>\n",
              "      <td>3.00</td>\n",
              "      <td>3.48</td>\n",
              "      <td>3.97</td>\n",
              "      <td>3.66</td>\n",
              "    </tr>\n",
              "    <tr>\n",
              "      <th>1</th>\n",
              "      <td>3.60</td>\n",
              "      <td>3.54</td>\n",
              "      <td>3.79</td>\n",
              "      <td>3.82</td>\n",
              "      <td>3.80</td>\n",
              "      <td>3.86</td>\n",
              "    </tr>\n",
              "    <tr>\n",
              "      <th>2</th>\n",
              "      <td>3.65</td>\n",
              "      <td>3.65</td>\n",
              "      <td>3.75</td>\n",
              "      <td>3.86</td>\n",
              "      <td>3.82</td>\n",
              "      <td>3.80</td>\n",
              "    </tr>\n",
              "    <tr>\n",
              "      <th>3</th>\n",
              "      <td>3.70</td>\n",
              "      <td>3.82</td>\n",
              "      <td>3.85</td>\n",
              "      <td>3.67</td>\n",
              "      <td>3.88</td>\n",
              "      <td>3.85</td>\n",
              "    </tr>\n",
              "    <tr>\n",
              "      <th>4</th>\n",
              "      <td>3.98</td>\n",
              "      <td>3.62</td>\n",
              "      <td>3.77</td>\n",
              "      <td>3.70</td>\n",
              "      <td>3.93</td>\n",
              "      <td>3.79</td>\n",
              "    </tr>\n",
              "    <tr>\n",
              "      <th>...</th>\n",
              "      <td>...</td>\n",
              "      <td>...</td>\n",
              "      <td>...</td>\n",
              "      <td>...</td>\n",
              "      <td>...</td>\n",
              "      <td>...</td>\n",
              "    </tr>\n",
              "    <tr>\n",
              "      <th>9995</th>\n",
              "      <td>2.93</td>\n",
              "      <td>2.84</td>\n",
              "      <td>2.13</td>\n",
              "      <td>0.73</td>\n",
              "      <td>3.19</td>\n",
              "      <td>1.19</td>\n",
              "    </tr>\n",
              "    <tr>\n",
              "      <th>9996</th>\n",
              "      <td>2.93</td>\n",
              "      <td>3.70</td>\n",
              "      <td>1.23</td>\n",
              "      <td>1.81</td>\n",
              "      <td>2.73</td>\n",
              "      <td>2.20</td>\n",
              "    </tr>\n",
              "    <tr>\n",
              "      <th>9997</th>\n",
              "      <td>3.72</td>\n",
              "      <td>3.37</td>\n",
              "      <td>1.57</td>\n",
              "      <td>3.70</td>\n",
              "      <td>0.03</td>\n",
              "      <td>2.00</td>\n",
              "    </tr>\n",
              "    <tr>\n",
              "      <th>9998</th>\n",
              "      <td>0.49</td>\n",
              "      <td>0.20</td>\n",
              "      <td>3.30</td>\n",
              "      <td>1.33</td>\n",
              "      <td>2.66</td>\n",
              "      <td>2.52</td>\n",
              "    </tr>\n",
              "    <tr>\n",
              "      <th>9999</th>\n",
              "      <td>3.80</td>\n",
              "      <td>0.19</td>\n",
              "      <td>0.47</td>\n",
              "      <td>3.12</td>\n",
              "      <td>1.88</td>\n",
              "      <td>1.94</td>\n",
              "    </tr>\n",
              "  </tbody>\n",
              "</table>\n",
              "<p>10000 rows × 6 columns</p>\n",
              "</div>"
            ],
            "text/plain": [
              "       IP1   IP2   IP3   IP4   IP5   IP6\n",
              "0     3.16  3.42  3.00  3.48  3.97  3.66\n",
              "1     3.60  3.54  3.79  3.82  3.80  3.86\n",
              "2     3.65  3.65  3.75  3.86  3.82  3.80\n",
              "3     3.70  3.82  3.85  3.67  3.88  3.85\n",
              "4     3.98  3.62  3.77  3.70  3.93  3.79\n",
              "...    ...   ...   ...   ...   ...   ...\n",
              "9995  2.93  2.84  2.13  0.73  3.19  1.19\n",
              "9996  2.93  3.70  1.23  1.81  2.73  2.20\n",
              "9997  3.72  3.37  1.57  3.70  0.03  2.00\n",
              "9998  0.49  0.20  3.30  1.33  2.66  2.52\n",
              "9999  3.80  0.19  0.47  3.12  1.88  1.94\n",
              "\n",
              "[10000 rows x 6 columns]"
            ]
          },
          "metadata": {
            "tags": []
          },
          "execution_count": 112
        }
      ]
    },
    {
      "cell_type": "code",
      "metadata": {
        "colab": {
          "base_uri": "https://localhost:8080/"
        },
        "id": "aSJnDqDjxxr2",
        "outputId": "5f31be60-b50d-4ef2-d8e6-585a5534bb7f"
      },
      "source": [
        "y"
      ],
      "execution_count": null,
      "outputs": [
        {
          "output_type": "execute_result",
          "data": {
            "text/plain": [
              "0       2\n",
              "1       0\n",
              "2       0\n",
              "3       0\n",
              "4       0\n",
              "       ..\n",
              "9995    3\n",
              "9996    1\n",
              "9997    1\n",
              "9998    3\n",
              "9999    3\n",
              "Name: Predikat, Length: 10000, dtype: int64"
            ]
          },
          "metadata": {
            "tags": []
          },
          "execution_count": 113
        }
      ]
    },
    {
      "cell_type": "code",
      "metadata": {
        "id": "DPKeXduexybf"
      },
      "source": [
        "X_train, X_test, y_train, y_test = train_test_split(X, y, test_size=0.2, \n",
        "                                                    random_state=42)"
      ],
      "execution_count": null,
      "outputs": []
    },
    {
      "cell_type": "markdown",
      "metadata": {
        "id": "Qpl3St7Nx7lr"
      },
      "source": [
        "## Random Forest"
      ]
    },
    {
      "cell_type": "code",
      "metadata": {
        "id": "F81276Hox6YI"
      },
      "source": [
        "from sklearn.ensemble import RandomForestClassifier\n",
        "clf = RandomForestClassifier()"
      ],
      "execution_count": null,
      "outputs": []
    },
    {
      "cell_type": "code",
      "metadata": {
        "colab": {
          "base_uri": "https://localhost:8080/"
        },
        "id": "qypGzWSix_6n",
        "outputId": "0ca35db3-861f-4965-8303-2ce75e067336"
      },
      "source": [
        "clf.fit(X_train, y_train)"
      ],
      "execution_count": null,
      "outputs": [
        {
          "output_type": "execute_result",
          "data": {
            "text/plain": [
              "RandomForestClassifier(bootstrap=True, ccp_alpha=0.0, class_weight=None,\n",
              "                       criterion='gini', max_depth=None, max_features='auto',\n",
              "                       max_leaf_nodes=None, max_samples=None,\n",
              "                       min_impurity_decrease=0.0, min_impurity_split=None,\n",
              "                       min_samples_leaf=1, min_samples_split=2,\n",
              "                       min_weight_fraction_leaf=0.0, n_estimators=100,\n",
              "                       n_jobs=None, oob_score=False, random_state=None,\n",
              "                       verbose=0, warm_start=False)"
            ]
          },
          "metadata": {
            "tags": []
          },
          "execution_count": 167
        }
      ]
    },
    {
      "cell_type": "code",
      "metadata": {
        "id": "FeArLOQeyD-W"
      },
      "source": [
        "rf_pred = clf.predict(X_test)"
      ],
      "execution_count": null,
      "outputs": []
    },
    {
      "cell_type": "code",
      "metadata": {
        "colab": {
          "base_uri": "https://localhost:8080/"
        },
        "id": "18ksFo0cyJ_G",
        "outputId": "a09e4950-c685-4872-bf77-67a7874b7128"
      },
      "source": [
        "y_pred"
      ],
      "execution_count": null,
      "outputs": [
        {
          "output_type": "execute_result",
          "data": {
            "text/plain": [
              "array([1, 2, 0, ..., 1, 2, 2])"
            ]
          },
          "metadata": {
            "tags": []
          },
          "execution_count": 118
        }
      ]
    },
    {
      "cell_type": "markdown",
      "metadata": {
        "id": "Oov7o8Q7yNSa"
      },
      "source": [
        "### Evaluate"
      ]
    },
    {
      "cell_type": "code",
      "metadata": {
        "colab": {
          "base_uri": "https://localhost:8080/"
        },
        "id": "SpLa7a_XyLvA",
        "outputId": "343d5998-f16e-4496-d511-1276862954f9"
      },
      "source": [
        "clf.score(X_train, y_train)"
      ],
      "execution_count": null,
      "outputs": [
        {
          "output_type": "execute_result",
          "data": {
            "text/plain": [
              "1.0"
            ]
          },
          "metadata": {
            "tags": []
          },
          "execution_count": 119
        }
      ]
    },
    {
      "cell_type": "code",
      "metadata": {
        "colab": {
          "base_uri": "https://localhost:8080/"
        },
        "id": "g6mQeehEySEe",
        "outputId": "471a1fd6-a4cf-46f8-bb6a-e1d3cf24777b"
      },
      "source": [
        "clf.score(X_test, y_test)"
      ],
      "execution_count": null,
      "outputs": [
        {
          "output_type": "execute_result",
          "data": {
            "text/plain": [
              "0.876"
            ]
          },
          "metadata": {
            "tags": []
          },
          "execution_count": 120
        }
      ]
    },
    {
      "cell_type": "code",
      "metadata": {
        "id": "jC8lLfKnyTuW"
      },
      "source": [
        "from sklearn.metrics import classification_report, confusion_matrix, accuracy_score"
      ],
      "execution_count": null,
      "outputs": []
    },
    {
      "cell_type": "code",
      "metadata": {
        "id": "POZLQQiTyepm"
      },
      "source": [
        "def test_acc(model):\n",
        "  print(f\"{model} score\")\n",
        "  print('\\n')\n",
        "  print(\"Classification Report:\")\n",
        "  print(classification_report(y_test, y_pred))\n",
        "  print('\\n')\n",
        "  print(\"Confusion Matrix:\")\n",
        "  print(confusion_matrix(y_test, y_pred))\n",
        "  print('\\n')\n",
        "  print(\"Accuracy Score:\")\n",
        "  print(accuracy_score(y_test, y_pred))"
      ],
      "execution_count": null,
      "outputs": []
    },
    {
      "cell_type": "code",
      "metadata": {
        "colab": {
          "base_uri": "https://localhost:8080/"
        },
        "id": "qqNUx5KcybdH",
        "outputId": "4cc8b02b-af75-4c35-eb0f-10652387eddd"
      },
      "source": [
        "test_acc(clf)"
      ],
      "execution_count": null,
      "outputs": [
        {
          "output_type": "stream",
          "text": [
            "RandomForestClassifier(bootstrap=True, ccp_alpha=0.0, class_weight=None,\n",
            "                       criterion='gini', max_depth=None, max_features='auto',\n",
            "                       max_leaf_nodes=None, max_samples=None,\n",
            "                       min_impurity_decrease=0.0, min_impurity_split=None,\n",
            "                       min_samples_leaf=1, min_samples_split=2,\n",
            "                       min_weight_fraction_leaf=0.0, n_estimators=100,\n",
            "                       n_jobs=None, oob_score=False, random_state=None,\n",
            "                       verbose=0, warm_start=False) score\n",
            "\n",
            "\n",
            "Classification Report:\n",
            "              precision    recall  f1-score   support\n",
            "\n",
            "           0       1.00      0.99      0.99       404\n",
            "           1       0.82      0.87      0.84       740\n",
            "           2       0.88      0.88      0.88       725\n",
            "           3       0.81      0.58      0.68       131\n",
            "\n",
            "    accuracy                           0.88      2000\n",
            "   macro avg       0.88      0.83      0.85      2000\n",
            "weighted avg       0.88      0.88      0.87      2000\n",
            "\n",
            "\n",
            "\n",
            "Confusion Matrix:\n",
            "[[398   0   6   0]\n",
            " [  0 643  79  18]\n",
            " [  1  89 635   0]\n",
            " [  0  55   0  76]]\n",
            "\n",
            "\n",
            "Accuracy Score:\n",
            "0.876\n"
          ],
          "name": "stdout"
        }
      ]
    },
    {
      "cell_type": "markdown",
      "metadata": {
        "id": "zrgz8vj-zWLk"
      },
      "source": [
        "### Find best tree"
      ]
    },
    {
      "cell_type": "code",
      "metadata": {
        "colab": {
          "base_uri": "https://localhost:8080/"
        },
        "id": "RGdhsePTy9H-",
        "outputId": "69437ae6-32ec-47c9-a10f-2401e4ec21be"
      },
      "source": [
        "np.random.seed(42)\n",
        "for i in range(10, 100, 10):\n",
        "  print(f\"Test model dengan {i} estimators...\")\n",
        "  model = RandomForestClassifier(n_estimators=i).fit(X_train, y_train)\n",
        "  print(f\"Model accuracy: {model.score(X_test, y_test) *100}%\")\n",
        "  print(\"\")"
      ],
      "execution_count": null,
      "outputs": [
        {
          "output_type": "stream",
          "text": [
            "Test model dengan 10 estimators...\n",
            "Model accuracy: 85.39999999999999%\n",
            "\n",
            "Test model dengan 20 estimators...\n",
            "Model accuracy: 86.65%\n",
            "\n",
            "Test model dengan 30 estimators...\n",
            "Model accuracy: 87.05000000000001%\n",
            "\n",
            "Test model dengan 40 estimators...\n",
            "Model accuracy: 87.1%\n",
            "\n",
            "Test model dengan 50 estimators...\n",
            "Model accuracy: 87.25%\n",
            "\n",
            "Test model dengan 60 estimators...\n",
            "Model accuracy: 87.35000000000001%\n",
            "\n",
            "Test model dengan 70 estimators...\n",
            "Model accuracy: 87.4%\n",
            "\n",
            "Test model dengan 80 estimators...\n",
            "Model accuracy: 87.75%\n",
            "\n",
            "Test model dengan 90 estimators...\n",
            "Model accuracy: 87.6%\n",
            "\n"
          ],
          "name": "stdout"
        }
      ]
    },
    {
      "cell_type": "code",
      "metadata": {
        "colab": {
          "base_uri": "https://localhost:8080/"
        },
        "id": "feVEJyJlzXiH",
        "outputId": "6a8ad16f-c503-4946-fa98-9c07e422ee6d"
      },
      "source": [
        "np.random.seed(42)\n",
        "from sklearn.model_selection import GridSearchCV\n",
        "\n",
        "params = {'n_estimators': [i for i in range(10, 100, 10)]}\n",
        "\n",
        "# Setup grid\n",
        "grid = GridSearchCV(RandomForestClassifier(),\n",
        "                    params,\n",
        "                    cv=5)\n",
        "\n",
        "# Fit grid search to data\n",
        "grid.fit(X, y)\n",
        "\n",
        "# Find best params\n",
        "grid.best_params_"
      ],
      "execution_count": null,
      "outputs": [
        {
          "output_type": "execute_result",
          "data": {
            "text/plain": [
              "{'n_estimators': 80}"
            ]
          },
          "metadata": {
            "tags": []
          },
          "execution_count": 125
        }
      ]
    },
    {
      "cell_type": "markdown",
      "metadata": {
        "id": "3j0T1qlJz791"
      },
      "source": [
        "### Final Model"
      ]
    },
    {
      "cell_type": "code",
      "metadata": {
        "colab": {
          "base_uri": "https://localhost:8080/"
        },
        "id": "LJI-eJTSzxQG",
        "outputId": "24883ab6-c2fe-49d9-95a9-5d22d26f7252"
      },
      "source": [
        "clf = RandomForestClassifier(n_estimators=80, random_state=42)\n",
        "clf.fit(X_train, y_train)\n",
        "y_preds = clf.predict(X_test)\n",
        "clf.score(X_test, y_test)"
      ],
      "execution_count": null,
      "outputs": [
        {
          "output_type": "execute_result",
          "data": {
            "text/plain": [
              "0.8725"
            ]
          },
          "metadata": {
            "tags": []
          },
          "execution_count": 126
        }
      ]
    },
    {
      "cell_type": "markdown",
      "metadata": {
        "id": "F35dkmJX0POf"
      },
      "source": [
        "### Export model"
      ]
    },
    {
      "cell_type": "code",
      "metadata": {
        "id": "RS-z91un0E2u"
      },
      "source": [
        "import pickle"
      ],
      "execution_count": null,
      "outputs": []
    },
    {
      "cell_type": "code",
      "metadata": {
        "id": "eWRvOXvs0RiG"
      },
      "source": [
        "pickle.dump(clf, open(\"model_random_forest_sarjana.pkl\", \"wb\"))"
      ],
      "execution_count": null,
      "outputs": []
    },
    {
      "cell_type": "markdown",
      "metadata": {
        "id": "fATFej7Z0XPg"
      },
      "source": [
        "### Testing"
      ]
    },
    {
      "cell_type": "code",
      "metadata": {
        "id": "sWOi7-UW0WGP"
      },
      "source": [
        "del clf"
      ],
      "execution_count": null,
      "outputs": []
    },
    {
      "cell_type": "code",
      "metadata": {
        "id": "HDTIpik60Za2"
      },
      "source": [
        "rf_model = pickle.load(open('model_random_forest_sarjana.pkl', 'rb'))"
      ],
      "execution_count": null,
      "outputs": []
    },
    {
      "cell_type": "code",
      "metadata": {
        "colab": {
          "base_uri": "https://localhost:8080/"
        },
        "id": "8sCKTfQ10ezO",
        "outputId": "41b64c7f-001d-4f88-cfeb-92f6bb868260"
      },
      "source": [
        "y_example = rf_model.predict([[3.9, 3.6, 3.7, 3.6, 3.5, 3.8]])\n",
        "y_example"
      ],
      "execution_count": null,
      "outputs": [
        {
          "output_type": "execute_result",
          "data": {
            "text/plain": [
              "array([0])"
            ]
          },
          "metadata": {
            "tags": []
          },
          "execution_count": 131
        }
      ]
    },
    {
      "cell_type": "code",
      "metadata": {
        "colab": {
          "base_uri": "https://localhost:8080/"
        },
        "id": "he1NgEBl0mmW",
        "outputId": "2f9ccda8-8e9d-4573-dc44-43543a7f0945"
      },
      "source": [
        "y_example1 = rf_model.predict([[3.0, 3.25, 3.10, 3.2, 2.9, 3.2]])\n",
        "y_example1"
      ],
      "execution_count": null,
      "outputs": [
        {
          "output_type": "execute_result",
          "data": {
            "text/plain": [
              "array([2])"
            ]
          },
          "metadata": {
            "tags": []
          },
          "execution_count": 132
        }
      ]
    },
    {
      "cell_type": "code",
      "metadata": {
        "colab": {
          "base_uri": "https://localhost:8080/"
        },
        "id": "zZBuin3d0nzu",
        "outputId": "01cef1e6-82ee-478e-f926-75fdb2f31822"
      },
      "source": [
        "y_example2 = rf_model.predict([[2.0, 2.25, 2.10, 2.2, 2.9, 2.35]])\n",
        "y_example2"
      ],
      "execution_count": null,
      "outputs": [
        {
          "output_type": "execute_result",
          "data": {
            "text/plain": [
              "array([1])"
            ]
          },
          "metadata": {
            "tags": []
          },
          "execution_count": 133
        }
      ]
    },
    {
      "cell_type": "code",
      "metadata": {
        "colab": {
          "base_uri": "https://localhost:8080/"
        },
        "id": "PFP2_MZY04GF",
        "outputId": "35c6821f-be36-44f6-c8f7-3ec0a8355f01"
      },
      "source": [
        "y_example3 = rf_model.predict([[1.0, 1.25, 1.10, 1.2, 1.9, 1.35]])\n",
        "y_example3"
      ],
      "execution_count": null,
      "outputs": [
        {
          "output_type": "execute_result",
          "data": {
            "text/plain": [
              "array([3])"
            ]
          },
          "metadata": {
            "tags": []
          },
          "execution_count": 134
        }
      ]
    },
    {
      "cell_type": "markdown",
      "metadata": {
        "id": "PtcFWxeF1BRI"
      },
      "source": [
        "## KNN"
      ]
    },
    {
      "cell_type": "code",
      "metadata": {
        "id": "75mzIgpn0-t1"
      },
      "source": [
        "from sklearn.neighbors import KNeighborsClassifier"
      ],
      "execution_count": null,
      "outputs": []
    },
    {
      "cell_type": "code",
      "metadata": {
        "colab": {
          "base_uri": "https://localhost:8080/",
          "height": 376
        },
        "id": "NfHl6cpp7sIl",
        "outputId": "5aa37587-1c98-4ae0-e265-02509a64a6a2"
      },
      "source": [
        "from yellowbrick.cluster import KElbowVisualizer\n",
        "from sklearn.cluster import KMeans\n",
        "\n",
        "kmeans = KMeans()\n",
        "visualizer = KElbowVisualizer(kmeans, k=(2,5))\n",
        "visualizer.fit(df)\n",
        "visualizer.poof()"
      ],
      "execution_count": null,
      "outputs": [
        {
          "output_type": "display_data",
          "data": {
            "image/png": "[encoded data removed]",
            "text/plain": [
              "<Figure size 576x396 with 2 Axes>"
            ]
          },
          "metadata": {
            "tags": []
          }
        }
      ]
    },
    {
      "cell_type": "code",
      "metadata": {
        "colab": {
          "base_uri": "https://localhost:8080/"
        },
        "id": "r57RgwgG3OtV",
        "outputId": "e0ab4489-3c91-4417-de6a-b1f254d0b3b9"
      },
      "source": [
        "knn = KNeighborsClassifier(n_neighbors=4)\n",
        "knn.fit(X_train, y_train)"
      ],
      "execution_count": null,
      "outputs": [
        {
          "output_type": "execute_result",
          "data": {
            "text/plain": [
              "KNeighborsClassifier(algorithm='auto', leaf_size=30, metric='minkowski',\n",
              "                     metric_params=None, n_jobs=None, n_neighbors=4, p=2,\n",
              "                     weights='uniform')"
            ]
          },
          "metadata": {
            "tags": []
          },
          "execution_count": 136
        }
      ]
    },
    {
      "cell_type": "code",
      "metadata": {
        "id": "ImICEy-y6yQN"
      },
      "source": [
        "knn_pred = knn.predict(X_test)"
      ],
      "execution_count": null,
      "outputs": []
    },
    {
      "cell_type": "code",
      "metadata": {
        "colab": {
          "base_uri": "https://localhost:8080/"
        },
        "id": "yR8lgiqs60qM",
        "outputId": "1e42bb7a-55bd-45a0-86bc-70863bb491e0"
      },
      "source": [
        "accuracy_score(y_pred, y_test)"
      ],
      "execution_count": null,
      "outputs": [
        {
          "output_type": "execute_result",
          "data": {
            "text/plain": [
              "0.854"
            ]
          },
          "metadata": {
            "tags": []
          },
          "execution_count": 140
        }
      ]
    },
    {
      "cell_type": "code",
      "metadata": {
        "colab": {
          "base_uri": "https://localhost:8080/"
        },
        "id": "vRuz-2UQ31hl",
        "outputId": "d0ec9d85-165a-4251-ee98-7e2193150a1a"
      },
      "source": [
        "test_acc(knn)"
      ],
      "execution_count": null,
      "outputs": [
        {
          "output_type": "stream",
          "text": [
            "KNeighborsClassifier(algorithm='auto', leaf_size=30, metric='minkowski',\n",
            "                     metric_params=None, n_jobs=None, n_neighbors=4, p=2,\n",
            "                     weights='uniform') score\n",
            "\n",
            "\n",
            "Classification Report:\n",
            "              precision    recall  f1-score   support\n",
            "\n",
            "           0       0.99      0.99      0.99       404\n",
            "           1       0.77      0.88      0.82       740\n",
            "           2       0.88      0.83      0.85       725\n",
            "           3       0.88      0.40      0.55       131\n",
            "\n",
            "    accuracy                           0.85      2000\n",
            "   macro avg       0.88      0.78      0.80      2000\n",
            "weighted avg       0.86      0.85      0.85      2000\n",
            "\n",
            "\n",
            "\n",
            "Confusion Matrix:\n",
            "[[400   0   4   0]\n",
            " [  0 654  79   7]\n",
            " [  6 118 601   0]\n",
            " [  0  78   0  53]]\n",
            "\n",
            "\n",
            "Accuracy Score:\n",
            "0.854\n"
          ],
          "name": "stdout"
        }
      ]
    },
    {
      "cell_type": "code",
      "metadata": {
        "colab": {
          "base_uri": "https://localhost:8080/"
        },
        "id": "_eySmUye6YzZ",
        "outputId": "3ec655f5-9567-492e-ab60-0133844504df"
      },
      "source": [
        "y_pred = knn.predict([[2.0, 2.25, 2.10, 2.2, 2.9, 2.35]])\n",
        "y_pred"
      ],
      "execution_count": null,
      "outputs": [
        {
          "output_type": "execute_result",
          "data": {
            "text/plain": [
              "array([1])"
            ]
          },
          "metadata": {
            "tags": []
          },
          "execution_count": 138
        }
      ]
    },
    {
      "cell_type": "markdown",
      "metadata": {
        "id": "oLpr7PeqAjLm"
      },
      "source": [
        "## Decision Tree"
      ]
    },
    {
      "cell_type": "code",
      "metadata": {
        "id": "53vU8JI473kG"
      },
      "source": [
        "from sklearn.tree import DecisionTreeClassifier\n",
        "from sklearn.decomposition import PCA"
      ],
      "execution_count": null,
      "outputs": []
    },
    {
      "cell_type": "code",
      "metadata": {
        "colab": {
          "base_uri": "https://localhost:8080/"
        },
        "id": "Fh0U_8mrAqMk",
        "outputId": "fb634e45-917c-495c-b15a-cebd6277febc"
      },
      "source": [
        "dt = DecisionTreeClassifier()\n",
        "dt.fit(X_train, y_train)"
      ],
      "execution_count": null,
      "outputs": [
        {
          "output_type": "execute_result",
          "data": {
            "text/plain": [
              "DecisionTreeClassifier(ccp_alpha=0.0, class_weight=None, criterion='gini',\n",
              "                       max_depth=None, max_features=None, max_leaf_nodes=None,\n",
              "                       min_impurity_decrease=0.0, min_impurity_split=None,\n",
              "                       min_samples_leaf=1, min_samples_split=2,\n",
              "                       min_weight_fraction_leaf=0.0, presort='deprecated',\n",
              "                       random_state=None, splitter='best')"
            ]
          },
          "metadata": {
            "tags": []
          },
          "execution_count": 149
        }
      ]
    },
    {
      "cell_type": "code",
      "metadata": {
        "id": "ArcwiqQrAu5k"
      },
      "source": [
        "dt_pred = dt.predict(X_test)"
      ],
      "execution_count": null,
      "outputs": []
    },
    {
      "cell_type": "code",
      "metadata": {
        "colab": {
          "base_uri": "https://localhost:8080/"
        },
        "id": "N8xfVRHEB69J",
        "outputId": "57a6ff56-efdd-49e7-f38c-1f6d5d7a9de2"
      },
      "source": [
        "accuracy_score(y_test, y_pred)"
      ],
      "execution_count": null,
      "outputs": [
        {
          "output_type": "execute_result",
          "data": {
            "text/plain": [
              "0.821"
            ]
          },
          "metadata": {
            "tags": []
          },
          "execution_count": 152
        }
      ]
    },
    {
      "cell_type": "code",
      "metadata": {
        "colab": {
          "base_uri": "https://localhost:8080/"
        },
        "id": "-TPFzYzrByQM",
        "outputId": "3e7f7f31-dc88-487b-fde8-8dd31c51ec7b"
      },
      "source": [
        "y_example4 = dt.predict([[3.9, 3.6, 3.7, 3.6, 3.5, 3.8]])\n",
        "y_example4"
      ],
      "execution_count": null,
      "outputs": [
        {
          "output_type": "execute_result",
          "data": {
            "text/plain": [
              "array([0])"
            ]
          },
          "metadata": {
            "tags": []
          },
          "execution_count": 153
        }
      ]
    },
    {
      "cell_type": "code",
      "metadata": {
        "colab": {
          "base_uri": "https://localhost:8080/"
        },
        "id": "dbmETlKuCL-U",
        "outputId": "b170c1fe-68a5-4b78-c384-59011a58c1a9"
      },
      "source": [
        "y_example5 = dt.predict([[3.0, 3.25, 3.10, 3.2, 2.9, 3.2]])\n",
        "y_example5"
      ],
      "execution_count": null,
      "outputs": [
        {
          "output_type": "execute_result",
          "data": {
            "text/plain": [
              "array([2])"
            ]
          },
          "metadata": {
            "tags": []
          },
          "execution_count": 154
        }
      ]
    },
    {
      "cell_type": "code",
      "metadata": {
        "colab": {
          "base_uri": "https://localhost:8080/"
        },
        "id": "HXBEGBcNCQr7",
        "outputId": "ec9b53ec-d437-4732-a6b3-bd7097b9d056"
      },
      "source": [
        "y_example6 = dt.predict([[1.0, 1.25, 1.10, 1.2, 1.9, 1.35]])\n",
        "y_example6"
      ],
      "execution_count": null,
      "outputs": [
        {
          "output_type": "execute_result",
          "data": {
            "text/plain": [
              "array([3])"
            ]
          },
          "metadata": {
            "tags": []
          },
          "execution_count": 157
        }
      ]
    },
    {
      "cell_type": "code",
      "metadata": {
        "colab": {
          "base_uri": "https://localhost:8080/"
        },
        "id": "lfGkqx-HCV2b",
        "outputId": "800513c2-7612-4e13-939b-c17eea4b0c1c"
      },
      "source": [
        "y_example7 = dt.predict([[2.0, 2.25, 2.10, 2.2, 2.9, 2.35]])\n",
        "y_example7"
      ],
      "execution_count": null,
      "outputs": [
        {
          "output_type": "execute_result",
          "data": {
            "text/plain": [
              "array([1])"
            ]
          },
          "metadata": {
            "tags": []
          },
          "execution_count": 158
        }
      ]
    },
    {
      "cell_type": "code",
      "metadata": {
        "colab": {
          "base_uri": "https://localhost:8080/"
        },
        "id": "zeQxGY0dCosw",
        "outputId": "5fb90297-2294-4577-83f2-7faca28056cb"
      },
      "source": [
        "test_acc(dt)"
      ],
      "execution_count": null,
      "outputs": [
        {
          "output_type": "stream",
          "text": [
            "DecisionTreeClassifier(ccp_alpha=0.0, class_weight=None, criterion='gini',\n",
            "                       max_depth=None, max_features=None, max_leaf_nodes=None,\n",
            "                       min_impurity_decrease=0.0, min_impurity_split=None,\n",
            "                       min_samples_leaf=1, min_samples_split=2,\n",
            "                       min_weight_fraction_leaf=0.0, presort='deprecated',\n",
            "                       random_state=None, splitter='best') score\n",
            "\n",
            "\n",
            "Classification Report:\n",
            "              precision    recall  f1-score   support\n",
            "\n",
            "           0       0.99      0.99      0.99       404\n",
            "           1       0.77      0.75      0.76       740\n",
            "           2       0.81      0.83      0.82       725\n",
            "           3       0.63      0.69      0.66       131\n",
            "\n",
            "    accuracy                           0.82      2000\n",
            "   macro avg       0.80      0.81      0.81      2000\n",
            "weighted avg       0.82      0.82      0.82      2000\n",
            "\n",
            "\n",
            "\n",
            "Confusion Matrix:\n",
            "[[398   1   5   0]\n",
            " [  0 555 134  51]\n",
            " [  2 123 599   1]\n",
            " [  0  40   1  90]]\n",
            "\n",
            "\n",
            "Accuracy Score:\n",
            "0.821\n"
          ],
          "name": "stdout"
        }
      ]
    },
    {
      "cell_type": "markdown",
      "metadata": {
        "id": "AGXLi7p8C3YI"
      },
      "source": [
        "## SVM"
      ]
    },
    {
      "cell_type": "code",
      "metadata": {
        "colab": {
          "base_uri": "https://localhost:8080/"
        },
        "id": "M1c0uRi5DJYX",
        "outputId": "d458b3db-ae29-41a0-812e-f587b060cbcd"
      },
      "source": [
        "from sklearn.svm import SVC\n",
        "\n",
        "svm = SVC(gamma=\"auto\")\n",
        "svm.fit(X_train, y_train)"
      ],
      "execution_count": null,
      "outputs": [
        {
          "output_type": "execute_result",
          "data": {
            "text/plain": [
              "SVC(C=1.0, break_ties=False, cache_size=200, class_weight=None, coef0=0.0,\n",
              "    decision_function_shape='ovr', degree=3, gamma='auto', kernel='rbf',\n",
              "    max_iter=-1, probability=False, random_state=None, shrinking=True,\n",
              "    tol=0.001, verbose=False)"
            ]
          },
          "metadata": {
            "tags": []
          },
          "execution_count": 162
        }
      ]
    },
    {
      "cell_type": "code",
      "metadata": {
        "id": "2GB_BMyBDQX9"
      },
      "source": [
        "svm_pred = svm.predict(X_test)"
      ],
      "execution_count": null,
      "outputs": []
    },
    {
      "cell_type": "code",
      "metadata": {
        "colab": {
          "base_uri": "https://localhost:8080/"
        },
        "id": "34iV68qNDn80",
        "outputId": "68737dce-f0a8-429d-d23d-a1e29abd1bd9"
      },
      "source": [
        "test_acc(svm)"
      ],
      "execution_count": null,
      "outputs": [
        {
          "output_type": "stream",
          "text": [
            "SVC(C=1.0, break_ties=False, cache_size=200, class_weight=None, coef0=0.0,\n",
            "    decision_function_shape='ovr', degree=3, gamma='auto', kernel='rbf',\n",
            "    max_iter=-1, probability=False, random_state=None, shrinking=True,\n",
            "    tol=0.001, verbose=False) score\n",
            "\n",
            "\n",
            "Classification Report:\n",
            "              precision    recall  f1-score   support\n",
            "\n",
            "           0       0.99      0.99      0.99       404\n",
            "           1       0.83      0.87      0.85       740\n",
            "           2       0.88      0.88      0.88       725\n",
            "           3       0.84      0.66      0.74       131\n",
            "\n",
            "    accuracy                           0.88      2000\n",
            "   macro avg       0.89      0.85      0.87      2000\n",
            "weighted avg       0.88      0.88      0.88      2000\n",
            "\n",
            "\n",
            "\n",
            "Confusion Matrix:\n",
            "[[399   0   5   0]\n",
            " [  0 646  78  16]\n",
            " [  3  86 636   0]\n",
            " [  0  45   0  86]]\n",
            "\n",
            "\n",
            "Accuracy Score:\n",
            "0.8835\n"
          ],
          "name": "stdout"
        }
      ]
    },
    {
      "cell_type": "markdown",
      "metadata": {
        "id": "4T3HB045EAwc"
      },
      "source": [
        "## Comparison"
      ]
    },
    {
      "cell_type": "code",
      "metadata": {
        "id": "C2sqfoCGDpZE"
      },
      "source": [
        "dt_value = accuracy_score(dt_pred, y_test)\n",
        "knn_value = accuracy_score(knn_pred, y_test)\n",
        "svm_value = accuracy_score(svm_pred, y_test)\n",
        "rf_value = accuracy_score(rf_pred, y_test)"
      ],
      "execution_count": null,
      "outputs": []
    },
    {
      "cell_type": "code",
      "metadata": {
        "id": "Vo_XuzNYEstT"
      },
      "source": [
        "compare = [dt_value, knn_value, svm_value, rf_value]\n",
        "index = ['Decision Tree', 'KNN', 'SVM', 'Random Forest']\n",
        "data_tuples = list(zip(index, compare))"
      ],
      "execution_count": null,
      "outputs": []
    },
    {
      "cell_type": "code",
      "metadata": {
        "colab": {
          "base_uri": "https://localhost:8080/"
        },
        "id": "IILsweRXFPlc",
        "outputId": "c9913147-cb55-4d2a-cec2-c0d0d1384324"
      },
      "source": [
        "data_tuples"
      ],
      "execution_count": null,
      "outputs": [
        {
          "output_type": "execute_result",
          "data": {
            "text/plain": [
              "[('Decision Tree', 0.821),\n",
              " ('KNN', 0.854),\n",
              " ('SVM', 0.8835),\n",
              " ('Random Forest', 0.8755)]"
            ]
          },
          "metadata": {
            "tags": []
          },
          "execution_count": 177
        }
      ]
    },
    {
      "cell_type": "code",
      "metadata": {
        "id": "ejew-V1hFcIb"
      },
      "source": [
        "df_compare = pd.DataFrame(data_tuples, columns=['Algorithm', 'Score'])"
      ],
      "execution_count": null,
      "outputs": []
    },
    {
      "cell_type": "code",
      "metadata": {
        "colab": {
          "base_uri": "https://localhost:8080/",
          "height": 439
        },
        "id": "1QiTeQLMFf6j",
        "outputId": "d311ba4e-98d3-4625-8642-39a8507e8aa9"
      },
      "source": [
        "df_compare.plot(kind='bar', x='Algorithm')"
      ],
      "execution_count": null,
      "outputs": [
        {
          "output_type": "execute_result",
          "data": {
            "text/plain": [
              "<matplotlib.axes._subplots.AxesSubplot at 0x7fe98c4a0c50>"
            ]
          },
          "metadata": {
            "tags": []
          },
          "execution_count": 188
        },
        {
          "output_type": "display_data",
          "data": {
            "image/png": "[encoded data removed]",
            "text/plain": [
              "<Figure size 576x396 with 1 Axes>"
            ]
          },
          "metadata": {
            "tags": []
          }
        }
      ]
    },
    {
      "cell_type": "code",
      "metadata": {
        "colab": {
          "base_uri": "https://localhost:8080/"
        },
        "id": "thhIbZIIFpij",
        "outputId": "293d62ba-0865-4d2a-afc0-bda88b22cfab"
      },
      "source": [
        "y_example3 = svm.predict([[1.0, 1.25, 1.10, 1.2, 1.9, 1.35]])\n",
        "print(y_example3)\n",
        "y_example2 = svm.predict([[2.0, 2.25, 2.10, 2.2, 2.9, 2.35]])\n",
        "print(y_example2)\n",
        "y_example1 = svm.predict([[3.0, 3.25, 3.10, 3.2, 2.9, 3.2]])\n",
        "print(y_example1)\n",
        "y_example = svm.predict([[3.9, 3.6, 3.7, 3.6, 3.5, 3.8]])\n",
        "print(y_example)"
      ],
      "execution_count": null,
      "outputs": [
        {
          "output_type": "stream",
          "text": [
            "[3]\n",
            "[1]\n",
            "[2]\n",
            "[0]\n"
          ],
          "name": "stdout"
        }
      ]
    },
    {
      "cell_type": "code",
      "metadata": {
        "id": "HtV1wcUXGWXE"
      },
      "source": [
        "# # All Model Save\n",
        "# pickle.dump(svm, open(\"model_svm_sarjana.pkl\", \"wb\"))\n",
        "# pickle.dump(dt, open(\"model_dt_sarjana.pkl\", \"wb\"))\n",
        "# pickle.dump(knn, open(\"model_knn_sarjana.pkl\", \"wb\"))\n",
        "# pickle.dump(clf, open(\"model_random_forest_sarjana.pkl\", \"wb\"))"
      ],
      "execution_count": null,
      "outputs": []
    },
    {
      "cell_type": "markdown",
      "metadata": {
        "id": "xqGQ1Dy2Pa7G"
      },
      "source": [
        "## Diploma"
      ]
    },
    {
      "cell_type": "code",
      "metadata": {
        "id": "enpaxt3LPcEK"
      },
      "source": [
        "df = pd.read_csv('new_lulus_diploma.csv')"
      ],
      "execution_count": null,
      "outputs": []
    },
    {
      "cell_type": "code",
      "metadata": {
        "colab": {
          "base_uri": "https://localhost:8080/",
          "height": 206
        },
        "id": "soDwINwBPilz",
        "outputId": "e84136e0-f57f-45ba-92ce-34a86eb27dba"
      },
      "source": [
        "df.head()"
      ],
      "execution_count": null,
      "outputs": [
        {
          "output_type": "execute_result",
          "data": {
            "text/html": [
              "<div>\n",
              "<style scoped>\n",
              "    .dataframe tbody tr th:only-of-type {\n",
              "        vertical-align: middle;\n",
              "    }\n",
              "\n",
              "    .dataframe tbody tr th {\n",
              "        vertical-align: top;\n",
              "    }\n",
              "\n",
              "    .dataframe thead th {\n",
              "        text-align: right;\n",
              "    }\n",
              "</style>\n",
              "<table border=\"1\" class=\"dataframe\">\n",
              "  <thead>\n",
              "    <tr style=\"text-align: right;\">\n",
              "      <th></th>\n",
              "      <th>IP1</th>\n",
              "      <th>IP2</th>\n",
              "      <th>IP3</th>\n",
              "      <th>IP4</th>\n",
              "      <th>IP5</th>\n",
              "      <th>IP6</th>\n",
              "      <th>Average</th>\n",
              "      <th>Predikat</th>\n",
              "    </tr>\n",
              "  </thead>\n",
              "  <tbody>\n",
              "    <tr>\n",
              "      <th>0</th>\n",
              "      <td>3.36</td>\n",
              "      <td>2.11</td>\n",
              "      <td>3.09</td>\n",
              "      <td>3.34</td>\n",
              "      <td>2.59</td>\n",
              "      <td>2.56</td>\n",
              "      <td>2.84</td>\n",
              "      <td>Sangat Memuaskan</td>\n",
              "    </tr>\n",
              "    <tr>\n",
              "      <th>1</th>\n",
              "      <td>3.61</td>\n",
              "      <td>3.66</td>\n",
              "      <td>3.61</td>\n",
              "      <td>3.90</td>\n",
              "      <td>3.84</td>\n",
              "      <td>3.89</td>\n",
              "      <td>3.75</td>\n",
              "      <td>Cumlaude</td>\n",
              "    </tr>\n",
              "    <tr>\n",
              "      <th>2</th>\n",
              "      <td>3.63</td>\n",
              "      <td>3.95</td>\n",
              "      <td>3.76</td>\n",
              "      <td>3.84</td>\n",
              "      <td>3.76</td>\n",
              "      <td>3.78</td>\n",
              "      <td>3.79</td>\n",
              "      <td>Cumlaude</td>\n",
              "    </tr>\n",
              "    <tr>\n",
              "      <th>3</th>\n",
              "      <td>3.51</td>\n",
              "      <td>3.62</td>\n",
              "      <td>3.98</td>\n",
              "      <td>3.77</td>\n",
              "      <td>3.65</td>\n",
              "      <td>3.61</td>\n",
              "      <td>3.69</td>\n",
              "      <td>Cumlaude</td>\n",
              "    </tr>\n",
              "    <tr>\n",
              "      <th>4</th>\n",
              "      <td>3.98</td>\n",
              "      <td>3.83</td>\n",
              "      <td>3.64</td>\n",
              "      <td>3.96</td>\n",
              "      <td>3.94</td>\n",
              "      <td>3.89</td>\n",
              "      <td>3.87</td>\n",
              "      <td>Cumlaude</td>\n",
              "    </tr>\n",
              "  </tbody>\n",
              "</table>\n",
              "</div>"
            ],
            "text/plain": [
              "    IP1   IP2   IP3   IP4   IP5   IP6  Average          Predikat\n",
              "0  3.36  2.11  3.09  3.34  2.59  2.56     2.84  Sangat Memuaskan\n",
              "1  3.61  3.66  3.61  3.90  3.84  3.89     3.75          Cumlaude\n",
              "2  3.63  3.95  3.76  3.84  3.76  3.78     3.79          Cumlaude\n",
              "3  3.51  3.62  3.98  3.77  3.65  3.61     3.69          Cumlaude\n",
              "4  3.98  3.83  3.64  3.96  3.94  3.89     3.87          Cumlaude"
            ]
          },
          "metadata": {
            "tags": []
          },
          "execution_count": 205
        }
      ]
    },
    {
      "cell_type": "code",
      "metadata": {
        "colab": {
          "base_uri": "https://localhost:8080/"
        },
        "id": "RVYRyUa0PjzJ",
        "outputId": "3a682803-94a4-4c39-c249-d5d11edae641"
      },
      "source": [
        "df.Predikat.value_counts()"
      ],
      "execution_count": null,
      "outputs": [
        {
          "output_type": "execute_result",
          "data": {
            "text/plain": [
              "Sangat Memuaskan    3974\n",
              "Memuaskan           3609\n",
              "Cumlaude            1666\n",
              "Tidak Lulus          751\n",
              "Name: Predikat, dtype: int64"
            ]
          },
          "metadata": {
            "tags": []
          },
          "execution_count": 206
        }
      ]
    },
    {
      "cell_type": "code",
      "metadata": {
        "colab": {
          "base_uri": "https://localhost:8080/",
          "height": 445
        },
        "id": "x5YhWYG7Pl_Z",
        "outputId": "163117ae-616b-47f2-c781-dbca0fb85e48"
      },
      "source": [
        "df['Predikat'].value_counts().plot(kind='bar')"
      ],
      "execution_count": null,
      "outputs": [
        {
          "output_type": "execute_result",
          "data": {
            "text/plain": [
              "<matplotlib.axes._subplots.AxesSubplot at 0x7fe98c445d50>"
            ]
          },
          "metadata": {
            "tags": []
          },
          "execution_count": 195
        },
        {
          "output_type": "display_data",
          "data": {
            "image/png": "[encoded data removed]",
            "text/plain": [
              "<Figure size 576x396 with 1 Axes>"
            ]
          },
          "metadata": {
            "tags": []
          }
        }
      ]
    },
    {
      "cell_type": "code",
      "metadata": {
        "id": "0Wyi-PtVPy2C"
      },
      "source": [
        "df_new = df.drop(['IP5', 'IP6'], axis=1)"
      ],
      "execution_count": null,
      "outputs": []
    },
    {
      "cell_type": "code",
      "metadata": {
        "id": "gAA4WkxUP1e7"
      },
      "source": [
        "# df_new.to_csv('nilai_diploma_predict.csv', index=False)"
      ],
      "execution_count": null,
      "outputs": []
    },
    {
      "cell_type": "code",
      "metadata": {
        "id": "2mVixBA5P9y6"
      },
      "source": [
        "df = pd.read_csv('nilai_diploma_predict.csv', index_col=False)"
      ],
      "execution_count": null,
      "outputs": []
    },
    {
      "cell_type": "code",
      "metadata": {
        "colab": {
          "base_uri": "https://localhost:8080/",
          "height": 206
        },
        "id": "ovhbGjnTQB5y",
        "outputId": "6436cdc9-4ad9-49e9-8fca-c0e06cd96cc1"
      },
      "source": [
        "from sklearn.preprocessing import LabelEncoder\n",
        "le = LabelEncoder()\n",
        "df['Predikat'] = le.fit_transform(df['Predikat'])\n",
        "df.head()"
      ],
      "execution_count": null,
      "outputs": [
        {
          "output_type": "execute_result",
          "data": {
            "text/html": [
              "<div>\n",
              "<style scoped>\n",
              "    .dataframe tbody tr th:only-of-type {\n",
              "        vertical-align: middle;\n",
              "    }\n",
              "\n",
              "    .dataframe tbody tr th {\n",
              "        vertical-align: top;\n",
              "    }\n",
              "\n",
              "    .dataframe thead th {\n",
              "        text-align: right;\n",
              "    }\n",
              "</style>\n",
              "<table border=\"1\" class=\"dataframe\">\n",
              "  <thead>\n",
              "    <tr style=\"text-align: right;\">\n",
              "      <th></th>\n",
              "      <th>IP1</th>\n",
              "      <th>IP2</th>\n",
              "      <th>IP3</th>\n",
              "      <th>IP4</th>\n",
              "      <th>Average</th>\n",
              "      <th>Predikat</th>\n",
              "    </tr>\n",
              "  </thead>\n",
              "  <tbody>\n",
              "    <tr>\n",
              "      <th>0</th>\n",
              "      <td>3.36</td>\n",
              "      <td>2.11</td>\n",
              "      <td>3.09</td>\n",
              "      <td>3.34</td>\n",
              "      <td>2.84</td>\n",
              "      <td>2</td>\n",
              "    </tr>\n",
              "    <tr>\n",
              "      <th>1</th>\n",
              "      <td>3.61</td>\n",
              "      <td>3.66</td>\n",
              "      <td>3.61</td>\n",
              "      <td>3.90</td>\n",
              "      <td>3.75</td>\n",
              "      <td>0</td>\n",
              "    </tr>\n",
              "    <tr>\n",
              "      <th>2</th>\n",
              "      <td>3.63</td>\n",
              "      <td>3.95</td>\n",
              "      <td>3.76</td>\n",
              "      <td>3.84</td>\n",
              "      <td>3.79</td>\n",
              "      <td>0</td>\n",
              "    </tr>\n",
              "    <tr>\n",
              "      <th>3</th>\n",
              "      <td>3.51</td>\n",
              "      <td>3.62</td>\n",
              "      <td>3.98</td>\n",
              "      <td>3.77</td>\n",
              "      <td>3.69</td>\n",
              "      <td>0</td>\n",
              "    </tr>\n",
              "    <tr>\n",
              "      <th>4</th>\n",
              "      <td>3.98</td>\n",
              "      <td>3.83</td>\n",
              "      <td>3.64</td>\n",
              "      <td>3.96</td>\n",
              "      <td>3.87</td>\n",
              "      <td>0</td>\n",
              "    </tr>\n",
              "  </tbody>\n",
              "</table>\n",
              "</div>"
            ],
            "text/plain": [
              "    IP1   IP2   IP3   IP4  Average  Predikat\n",
              "0  3.36  2.11  3.09  3.34     2.84         2\n",
              "1  3.61  3.66  3.61  3.90     3.75         0\n",
              "2  3.63  3.95  3.76  3.84     3.79         0\n",
              "3  3.51  3.62  3.98  3.77     3.69         0\n",
              "4  3.98  3.83  3.64  3.96     3.87         0"
            ]
          },
          "metadata": {
            "tags": []
          },
          "execution_count": 208
        }
      ]
    },
    {
      "cell_type": "markdown",
      "metadata": {
        "id": "BME9RERMSGI_"
      },
      "source": [
        "Keterangan:\n",
        "* Cumlaude: 0\n",
        "* Memuaskan: 1\n",
        "* Sangat Memuaskan: 2\n",
        "* Tidak Lulus: 3"
      ]
    },
    {
      "cell_type": "code",
      "metadata": {
        "id": "dagwgKjZSCGL"
      },
      "source": [
        "X = df.drop(['Average', 'Predikat'], axis=1)\n",
        "y = df['Predikat']"
      ],
      "execution_count": null,
      "outputs": []
    },
    {
      "cell_type": "code",
      "metadata": {
        "id": "KCofSKO6SLuq"
      },
      "source": [
        "X_train, X_test, y_train, y_test = train_test_split(X, y, test_size=0.2, \n",
        "                                                    random_state=42)"
      ],
      "execution_count": null,
      "outputs": []
    },
    {
      "cell_type": "markdown",
      "metadata": {
        "id": "7GkbCANGSjQt"
      },
      "source": [
        "## RF"
      ]
    },
    {
      "cell_type": "code",
      "metadata": {
        "id": "jsJW_RvfSOdx"
      },
      "source": [
        "from sklearn.ensemble import RandomForestClassifier\n",
        "clf = RandomForestClassifier(n_estimators=80, random_state=42)\n",
        "clf.fit(X_train, y_train)\n",
        "rf_pred = clf.predict(X_test)"
      ],
      "execution_count": null,
      "outputs": []
    },
    {
      "cell_type": "code",
      "metadata": {
        "colab": {
          "base_uri": "https://localhost:8080/"
        },
        "id": "wIbRSbroTMYG",
        "outputId": "3dfc6360-b63f-4b09-ba28-b6372a2f6a3e"
      },
      "source": [
        "accuracy_score(rf_pred, y_test)"
      ],
      "execution_count": null,
      "outputs": [
        {
          "output_type": "execute_result",
          "data": {
            "text/plain": [
              "0.8295"
            ]
          },
          "metadata": {
            "tags": []
          },
          "execution_count": 223
        }
      ]
    },
    {
      "cell_type": "code",
      "metadata": {
        "colab": {
          "base_uri": "https://localhost:8080/"
        },
        "id": "J3zuqai7SVah",
        "outputId": "417fc170-4216-4d5a-aeac-d6eb9ddf268e"
      },
      "source": [
        "y_example3 = clf.predict([[1.0, 1.25, 1.10, 1.2]])\n",
        "print(y_example3)\n",
        "y_example2 = clf.predict([[2.0, 2.25, 2.10, 2.2]])\n",
        "print(y_example2)\n",
        "y_example1 = clf.predict([[3.0, 3.25, 3.10, 3.2]])\n",
        "print(y_example1)\n",
        "y_example = clf.predict([[3.9, 3.6, 3.7, 3.6]])\n",
        "print(y_example)"
      ],
      "execution_count": null,
      "outputs": [
        {
          "output_type": "stream",
          "text": [
            "[3]\n",
            "[1]\n",
            "[2]\n",
            "[0]\n"
          ],
          "name": "stdout"
        }
      ]
    },
    {
      "cell_type": "markdown",
      "metadata": {
        "id": "z-hzRbdGS_fN"
      },
      "source": [
        "## DT"
      ]
    },
    {
      "cell_type": "code",
      "metadata": {
        "id": "7ZyIV1dgSaeC"
      },
      "source": [
        "from sklearn.tree import DecisionTreeClassifier\n",
        "from sklearn.decomposition import PCA\n",
        "dt = DecisionTreeClassifier()\n",
        "dt.fit(X_train, y_train)\n",
        "dt_pred = dt.predict(X_test)"
      ],
      "execution_count": null,
      "outputs": []
    },
    {
      "cell_type": "code",
      "metadata": {
        "colab": {
          "base_uri": "https://localhost:8080/"
        },
        "id": "ZDSOEmagTA6Z",
        "outputId": "8231ee7a-ccd4-4315-f746-51b1b58a1e2f"
      },
      "source": [
        "y_example3 = dt.predict([[1.0, 1.25, 1.10, 1.2]])\n",
        "print(y_example3)\n",
        "y_example2 = dt.predict([[2.0, 2.25, 2.10, 2.2]])\n",
        "print(y_example2)\n",
        "y_example1 = dt.predict([[3.0, 3.25, 3.10, 3.2]])\n",
        "print(y_example1)\n",
        "y_example = dt.predict([[3.9, 3.6, 3.7, 3.6]])\n",
        "print(y_example)"
      ],
      "execution_count": null,
      "outputs": [
        {
          "output_type": "stream",
          "text": [
            "[3]\n",
            "[3]\n",
            "[2]\n",
            "[0]\n"
          ],
          "name": "stdout"
        }
      ]
    },
    {
      "cell_type": "code",
      "metadata": {
        "colab": {
          "base_uri": "https://localhost:8080/"
        },
        "id": "KmjJT8wETC_R",
        "outputId": "bb4377a3-9f16-4ab3-929a-7b1804e3d831"
      },
      "source": [
        "accuracy_score(dt_pred, y_test)"
      ],
      "execution_count": null,
      "outputs": [
        {
          "output_type": "execute_result",
          "data": {
            "text/plain": [
              "0.7655"
            ]
          },
          "metadata": {
            "tags": []
          },
          "execution_count": 222
        }
      ]
    },
    {
      "cell_type": "markdown",
      "metadata": {
        "id": "Bj-uDglJTXFz"
      },
      "source": [
        "## KNN"
      ]
    },
    {
      "cell_type": "code",
      "metadata": {
        "id": "e-Hm54jqTJYa"
      },
      "source": [
        "from sklearn.neighbors import KNeighborsClassifier\n",
        "knn = KNeighborsClassifier(n_neighbors=4)\n",
        "knn.fit(X_train, y_train)\n",
        "knn_pred = knn.predict(X_test)"
      ],
      "execution_count": null,
      "outputs": []
    },
    {
      "cell_type": "code",
      "metadata": {
        "colab": {
          "base_uri": "https://localhost:8080/"
        },
        "id": "zcSeeplvTYkq",
        "outputId": "95b1e662-d21e-4cae-8c05-e1c315d65bc9"
      },
      "source": [
        "accuracy_score(knn_pred, y_test)"
      ],
      "execution_count": null,
      "outputs": [
        {
          "output_type": "execute_result",
          "data": {
            "text/plain": [
              "0.798"
            ]
          },
          "metadata": {
            "tags": []
          },
          "execution_count": 225
        }
      ]
    },
    {
      "cell_type": "code",
      "metadata": {
        "colab": {
          "base_uri": "https://localhost:8080/"
        },
        "id": "eAJk39o2TaQ6",
        "outputId": "4ede8da5-3996-48df-daa3-f8cfbc4c10eb"
      },
      "source": [
        "y_example3 = knn.predict([[1.0, 1.25, 1.10, 1.2]])\n",
        "print(y_example3)\n",
        "y_example2 = knn.predict([[2.0, 2.25, 2.10, 2.2]])\n",
        "print(y_example2)\n",
        "y_example1 = knn.predict([[3.0, 3.25, 3.10, 3.2]])\n",
        "print(y_example1)\n",
        "y_example = knn.predict([[3.9, 3.6, 3.7, 3.6]])\n",
        "print(y_example)"
      ],
      "execution_count": null,
      "outputs": [
        {
          "output_type": "stream",
          "text": [
            "[3]\n",
            "[1]\n",
            "[2]\n",
            "[0]\n"
          ],
          "name": "stdout"
        }
      ]
    },
    {
      "cell_type": "markdown",
      "metadata": {
        "id": "G2AhCa6jTlMo"
      },
      "source": [
        "## SVM"
      ]
    },
    {
      "cell_type": "code",
      "metadata": {
        "id": "6W40Lg_HTcGx"
      },
      "source": [
        "from sklearn.svm import SVC\n",
        "\n",
        "svm = SVC(gamma=\"auto\")\n",
        "svm.fit(X_train, y_train)\n",
        "svm_pred = svm.predict(X_test)"
      ],
      "execution_count": null,
      "outputs": []
    },
    {
      "cell_type": "code",
      "metadata": {
        "colab": {
          "base_uri": "https://localhost:8080/"
        },
        "id": "r5OGT2GITmNi",
        "outputId": "33d28aff-a857-4a1b-a6ef-d381809b1030"
      },
      "source": [
        "accuracy_score(svm_pred, y_test)"
      ],
      "execution_count": null,
      "outputs": [
        {
          "output_type": "execute_result",
          "data": {
            "text/plain": [
              "0.8305"
            ]
          },
          "metadata": {
            "tags": []
          },
          "execution_count": 228
        }
      ]
    },
    {
      "cell_type": "code",
      "metadata": {
        "colab": {
          "base_uri": "https://localhost:8080/"
        },
        "id": "3HMSM1P4Todp",
        "outputId": "92aaf37e-fe5a-40d1-9968-e0fec46b198d"
      },
      "source": [
        "# Jadi array 2 dimensi ndarayy-2\n",
        "y_example3 = svm.predict([[1.0, 1.25, 1.10, 1.2]])\n",
        "print(y_example3)\n",
        "y_example2 = svm.predict([[2.0, 2.25, 2.10, 2.2]])\n",
        "print(y_example2)\n",
        "y_example1 = svm.predict([[3.0, 3.25, 3.10, 3.2]])\n",
        "print(y_example1)\n",
        "y_example = svm.predict([[3.9, 3.6, 3.7, 3.6]])\n",
        "print(y_example)"
      ],
      "execution_count": null,
      "outputs": [
        {
          "output_type": "stream",
          "text": [
            "[3]\n",
            "[1]\n",
            "[2]\n",
            "[0]\n"
          ],
          "name": "stdout"
        }
      ]
    },
    {
      "cell_type": "markdown",
      "metadata": {
        "id": "XRbLc_1NTt3d"
      },
      "source": [
        "## Compare 2"
      ]
    },
    {
      "cell_type": "code",
      "metadata": {
        "id": "hVqMvkbdTqMB"
      },
      "source": [
        "dt_value = accuracy_score(dt_pred, y_test)\n",
        "knn_value = accuracy_score(knn_pred, y_test)\n",
        "svm_value = accuracy_score(svm_pred, y_test)\n",
        "rf_value = accuracy_score(rf_pred, y_test)"
      ],
      "execution_count": null,
      "outputs": []
    },
    {
      "cell_type": "code",
      "metadata": {
        "colab": {
          "base_uri": "https://localhost:8080/",
          "height": 439
        },
        "id": "auz5HPaXTvjh",
        "outputId": "89290638-d12c-463d-ef5c-8dc6a7749a69"
      },
      "source": [
        "compare = [dt_value, knn_value, svm_value, rf_value]\n",
        "index = ['Decision Tree', 'KNN', 'SVM', 'Random Forest']\n",
        "data_tuples = list(zip(index, compare))\n",
        "\n",
        "df_compare2 = pd.DataFrame(data_tuples, columns=['Algorithm', 'Score'])\n",
        "df_compare2.plot(kind='bar', x='Algorithm')"
      ],
      "execution_count": null,
      "outputs": [
        {
          "output_type": "execute_result",
          "data": {
            "text/plain": [
              "<matplotlib.axes._subplots.AxesSubplot at 0x7fe98c3c6c90>"
            ]
          },
          "metadata": {
            "tags": []
          },
          "execution_count": 231
        },
        {
          "output_type": "display_data",
          "data": {
            "image/png": "[encoded data removed]",
            "text/plain": [
              "<Figure size 576x396 with 1 Axes>"
            ]
          },
          "metadata": {
            "tags": []
          }
        }
      ]
    },
    {
      "cell_type": "code",
      "metadata": {
        "id": "pbtEVscBT4XJ"
      },
      "source": [
        "# # All Model Save\n",
        "# pickle.dump(svm, open(\"model_svm_diploma.pkl\", \"wb\"))\n",
        "# pickle.dump(dt, open(\"model_dt_diploma.pkl\", \"wb\"))\n",
        "# pickle.dump(knn, open(\"model_knn_diploma.pkl\", \"wb\"))\n",
        "# pickle.dump(clf, open(\"model_random_forest_diploma.pkl\", \"wb\"))"
      ],
      "execution_count": null,
      "outputs": []
    },
    {
      "cell_type": "markdown",
      "metadata": {
        "id": "Znltjj2I-pVP"
      },
      "source": [
        "## Kesimpulan\n",
        "\n",
        "Pada notebook ini, kami mendapati bahwa SVM jauh lebih baik dalam melakukan prediksi nilai kelulusan, untuk itu pada notebook selanjutnya akan dilakukan prediksi menggunakan SVM"
      ]
    }
  ]
}