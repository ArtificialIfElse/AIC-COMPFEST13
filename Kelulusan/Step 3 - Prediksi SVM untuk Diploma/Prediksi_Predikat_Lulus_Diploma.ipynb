{
  "nbformat": 4,
  "nbformat_minor": 0,
  "metadata": {
    "colab": {
      "name": "D3_Predictions_lulus.ipynb",
      "provenance": [],
      "collapsed_sections": []
    },
    "kernelspec": {
      "name": "python3",
      "display_name": "Python 3"
    },
    "language_info": {
      "name": "python"
    }
  },
  "cells": [
    {
      "cell_type": "markdown",
      "metadata": {
        "id": "mKA71T8LtMWK"
      },
      "source": [
        "# Prediksi Predikat Lulus"
      ]
    },
    {
      "cell_type": "markdown",
      "metadata": {
        "id": "LlRRFFjKtQyZ"
      },
      "source": [
        "## Drive - Colab"
      ]
    },
    {
      "cell_type": "code",
      "metadata": {
        "id": "-lwOOFQks92i"
      },
      "source": [
        "from google.colab import drive\n",
        "from google.colab import files"
      ],
      "execution_count": 1,
      "outputs": []
    },
    {
      "cell_type": "code",
      "metadata": {
        "colab": {
          "base_uri": "https://localhost:8080/"
        },
        "id": "ioogqPWCtV-I",
        "outputId": "cd5e8afb-f60d-40ee-ab1a-1ec54d5f9f27"
      },
      "source": [
        "drive.mount('/content/drive')"
      ],
      "execution_count": 2,
      "outputs": [
        {
          "output_type": "stream",
          "text": [
            "Drive already mounted at /content/drive; to attempt to forcibly remount, call drive.mount(\"/content/drive\", force_remount=True).\n"
          ],
          "name": "stdout"
        }
      ]
    },
    {
      "cell_type": "code",
      "metadata": {
        "colab": {
          "base_uri": "https://localhost:8080/"
        },
        "id": "pEtFRTzktZpQ",
        "outputId": "a2f2cb1d-f932-4fbb-e8f9-7d545e0214fb"
      },
      "source": [
        "%cd /content/drive/MyDrive/ai_contest/Kelulusan/olah"
      ],
      "execution_count": 3,
      "outputs": [
        {
          "output_type": "stream",
          "text": [
            "/content/drive/MyDrive/ai_contest/Kelulusan/olah\n"
          ],
          "name": "stdout"
        }
      ]
    },
    {
      "cell_type": "markdown",
      "metadata": {
        "id": "OGTziFvptwmi"
      },
      "source": [
        "## Import Modules "
      ]
    },
    {
      "cell_type": "code",
      "metadata": {
        "id": "uWAzvruAtyDs"
      },
      "source": [
        "import matplotlib.pyplot as plt\n",
        "import pandas as pd\n",
        "import numpy as np"
      ],
      "execution_count": 4,
      "outputs": []
    },
    {
      "cell_type": "markdown",
      "metadata": {
        "id": "KdfapdCutpG8"
      },
      "source": [
        "## D3 "
      ]
    },
    {
      "cell_type": "code",
      "metadata": {
        "id": "tXWVYydxtmaw"
      },
      "source": [
        "df = pd.read_csv('new_lulus_diploma.csv')"
      ],
      "execution_count": 5,
      "outputs": []
    },
    {
      "cell_type": "code",
      "metadata": {
        "id": "HbM-yWtETZWb"
      },
      "source": [
        "df_ori = df.copy()"
      ],
      "execution_count": 6,
      "outputs": []
    },
    {
      "cell_type": "code",
      "metadata": {
        "colab": {
          "base_uri": "https://localhost:8080/",
          "height": 202
        },
        "id": "VTOiwqTRtvOH",
        "outputId": "aacddc46-53fa-4325-c925-5eed4b429379"
      },
      "source": [
        "df.head()"
      ],
      "execution_count": 7,
      "outputs": [
        {
          "output_type": "execute_result",
          "data": {
            "text/html": [
              "<div>\n",
              "<style scoped>\n",
              "    .dataframe tbody tr th:only-of-type {\n",
              "        vertical-align: middle;\n",
              "    }\n",
              "\n",
              "    .dataframe tbody tr th {\n",
              "        vertical-align: top;\n",
              "    }\n",
              "\n",
              "    .dataframe thead th {\n",
              "        text-align: right;\n",
              "    }\n",
              "</style>\n",
              "<table border=\"1\" class=\"dataframe\">\n",
              "  <thead>\n",
              "    <tr style=\"text-align: right;\">\n",
              "      <th></th>\n",
              "      <th>IP1</th>\n",
              "      <th>IP2</th>\n",
              "      <th>IP3</th>\n",
              "      <th>IP4</th>\n",
              "      <th>IP5</th>\n",
              "      <th>IP6</th>\n",
              "      <th>Average</th>\n",
              "      <th>Predikat</th>\n",
              "    </tr>\n",
              "  </thead>\n",
              "  <tbody>\n",
              "    <tr>\n",
              "      <th>0</th>\n",
              "      <td>3.36</td>\n",
              "      <td>2.11</td>\n",
              "      <td>3.09</td>\n",
              "      <td>3.34</td>\n",
              "      <td>2.59</td>\n",
              "      <td>2.56</td>\n",
              "      <td>2.84</td>\n",
              "      <td>Sangat Memuaskan</td>\n",
              "    </tr>\n",
              "    <tr>\n",
              "      <th>1</th>\n",
              "      <td>3.61</td>\n",
              "      <td>3.66</td>\n",
              "      <td>3.61</td>\n",
              "      <td>3.90</td>\n",
              "      <td>3.84</td>\n",
              "      <td>3.89</td>\n",
              "      <td>3.75</td>\n",
              "      <td>Cumlaude</td>\n",
              "    </tr>\n",
              "    <tr>\n",
              "      <th>2</th>\n",
              "      <td>3.63</td>\n",
              "      <td>3.95</td>\n",
              "      <td>3.76</td>\n",
              "      <td>3.84</td>\n",
              "      <td>3.76</td>\n",
              "      <td>3.78</td>\n",
              "      <td>3.79</td>\n",
              "      <td>Cumlaude</td>\n",
              "    </tr>\n",
              "    <tr>\n",
              "      <th>3</th>\n",
              "      <td>3.51</td>\n",
              "      <td>3.62</td>\n",
              "      <td>3.98</td>\n",
              "      <td>3.77</td>\n",
              "      <td>3.65</td>\n",
              "      <td>3.61</td>\n",
              "      <td>3.69</td>\n",
              "      <td>Cumlaude</td>\n",
              "    </tr>\n",
              "    <tr>\n",
              "      <th>4</th>\n",
              "      <td>3.98</td>\n",
              "      <td>3.83</td>\n",
              "      <td>3.64</td>\n",
              "      <td>3.96</td>\n",
              "      <td>3.94</td>\n",
              "      <td>3.89</td>\n",
              "      <td>3.87</td>\n",
              "      <td>Cumlaude</td>\n",
              "    </tr>\n",
              "  </tbody>\n",
              "</table>\n",
              "</div>"
            ],
            "text/plain": [
              "    IP1   IP2   IP3   IP4   IP5   IP6  Average          Predikat\n",
              "0  3.36  2.11  3.09  3.34  2.59  2.56     2.84  Sangat Memuaskan\n",
              "1  3.61  3.66  3.61  3.90  3.84  3.89     3.75          Cumlaude\n",
              "2  3.63  3.95  3.76  3.84  3.76  3.78     3.79          Cumlaude\n",
              "3  3.51  3.62  3.98  3.77  3.65  3.61     3.69          Cumlaude\n",
              "4  3.98  3.83  3.64  3.96  3.94  3.89     3.87          Cumlaude"
            ]
          },
          "metadata": {
            "tags": []
          },
          "execution_count": 7
        }
      ]
    },
    {
      "cell_type": "code",
      "metadata": {
        "colab": {
          "base_uri": "https://localhost:8080/"
        },
        "id": "i-X3f86qt4Y3",
        "outputId": "eb66f652-9f12-4445-9243-d5252c2ae807"
      },
      "source": [
        "df.Predikat.value_counts()"
      ],
      "execution_count": 8,
      "outputs": [
        {
          "output_type": "execute_result",
          "data": {
            "text/plain": [
              "Sangat Memuaskan    3974\n",
              "Memuaskan           3609\n",
              "Cumlaude            1666\n",
              "Tidak Lulus          751\n",
              "Name: Predikat, dtype: int64"
            ]
          },
          "metadata": {
            "tags": []
          },
          "execution_count": 8
        }
      ]
    },
    {
      "cell_type": "code",
      "metadata": {
        "colab": {
          "base_uri": "https://localhost:8080/"
        },
        "id": "FyxLBZ5-t7f3",
        "outputId": "f8a53fdc-1d99-4318-ac98-a4c4bf77660f"
      },
      "source": [
        "df.info()"
      ],
      "execution_count": 9,
      "outputs": [
        {
          "output_type": "stream",
          "text": [
            "<class 'pandas.core.frame.DataFrame'>\n",
            "RangeIndex: 10000 entries, 0 to 9999\n",
            "Data columns (total 8 columns):\n",
            " #   Column    Non-Null Count  Dtype  \n",
            "---  ------    --------------  -----  \n",
            " 0   IP1       10000 non-null  float64\n",
            " 1   IP2       10000 non-null  float64\n",
            " 2   IP3       10000 non-null  float64\n",
            " 3   IP4       10000 non-null  float64\n",
            " 4   IP5       10000 non-null  float64\n",
            " 5   IP6       10000 non-null  float64\n",
            " 6   Average   10000 non-null  float64\n",
            " 7   Predikat  10000 non-null  object \n",
            "dtypes: float64(7), object(1)\n",
            "memory usage: 625.1+ KB\n"
          ],
          "name": "stdout"
        }
      ]
    },
    {
      "cell_type": "code",
      "metadata": {
        "colab": {
          "base_uri": "https://localhost:8080/",
          "height": 371
        },
        "id": "gJp6s94buBDv",
        "outputId": "e92b0677-8c48-4a12-ba2a-a09a04f51570"
      },
      "source": [
        "df['Predikat'].value_counts().plot(kind='bar')"
      ],
      "execution_count": 10,
      "outputs": [
        {
          "output_type": "execute_result",
          "data": {
            "text/plain": [
              "<matplotlib.axes._subplots.AxesSubplot at 0x7f5254186dd0>"
            ]
          },
          "metadata": {
            "tags": []
          },
          "execution_count": 10
        },
        {
          "output_type": "display_data",
          "data": {
            "image/png": "[encoded data removed]",
            "text/plain": [
              "<Figure size 432x288 with 1 Axes>"
            ]
          },
          "metadata": {
            "tags": [],
            "needs_background": "light"
          }
        }
      ]
    },
    {
      "cell_type": "markdown",
      "metadata": {
        "id": "kjiNquwz4VEH"
      },
      "source": [
        "## Semester 5"
      ]
    },
    {
      "cell_type": "code",
      "metadata": {
        "id": "KNA6kwuTunf4"
      },
      "source": [
        "df_new = df.drop(['IP6'], axis=1)"
      ],
      "execution_count": 11,
      "outputs": []
    },
    {
      "cell_type": "code",
      "metadata": {
        "id": "fCywet5Iu2xP"
      },
      "source": [
        "# Backup\n",
        "df_new.to_csv('nilai_diploma_5_semester.csv', index=False)"
      ],
      "execution_count": 12,
      "outputs": []
    },
    {
      "cell_type": "markdown",
      "metadata": {
        "id": "kmaD_ZTAwk0c"
      },
      "source": [
        "### Label Encoding"
      ]
    },
    {
      "cell_type": "code",
      "metadata": {
        "id": "waV62jvPwfze"
      },
      "source": [
        "df = pd.read_csv('nilai_diploma_5_semester.csv', index_col=None)"
      ],
      "execution_count": 13,
      "outputs": []
    },
    {
      "cell_type": "code",
      "metadata": {
        "colab": {
          "base_uri": "https://localhost:8080/",
          "height": 202
        },
        "id": "jGxf7i07wqpf",
        "outputId": "3612de8f-bb24-4554-c5bf-2a8ee49ec12f"
      },
      "source": [
        "df.head()"
      ],
      "execution_count": 14,
      "outputs": [
        {
          "output_type": "execute_result",
          "data": {
            "text/html": [
              "<div>\n",
              "<style scoped>\n",
              "    .dataframe tbody tr th:only-of-type {\n",
              "        vertical-align: middle;\n",
              "    }\n",
              "\n",
              "    .dataframe tbody tr th {\n",
              "        vertical-align: top;\n",
              "    }\n",
              "\n",
              "    .dataframe thead th {\n",
              "        text-align: right;\n",
              "    }\n",
              "</style>\n",
              "<table border=\"1\" class=\"dataframe\">\n",
              "  <thead>\n",
              "    <tr style=\"text-align: right;\">\n",
              "      <th></th>\n",
              "      <th>IP1</th>\n",
              "      <th>IP2</th>\n",
              "      <th>IP3</th>\n",
              "      <th>IP4</th>\n",
              "      <th>IP5</th>\n",
              "      <th>Average</th>\n",
              "      <th>Predikat</th>\n",
              "    </tr>\n",
              "  </thead>\n",
              "  <tbody>\n",
              "    <tr>\n",
              "      <th>0</th>\n",
              "      <td>3.36</td>\n",
              "      <td>2.11</td>\n",
              "      <td>3.09</td>\n",
              "      <td>3.34</td>\n",
              "      <td>2.59</td>\n",
              "      <td>2.84</td>\n",
              "      <td>Sangat Memuaskan</td>\n",
              "    </tr>\n",
              "    <tr>\n",
              "      <th>1</th>\n",
              "      <td>3.61</td>\n",
              "      <td>3.66</td>\n",
              "      <td>3.61</td>\n",
              "      <td>3.90</td>\n",
              "      <td>3.84</td>\n",
              "      <td>3.75</td>\n",
              "      <td>Cumlaude</td>\n",
              "    </tr>\n",
              "    <tr>\n",
              "      <th>2</th>\n",
              "      <td>3.63</td>\n",
              "      <td>3.95</td>\n",
              "      <td>3.76</td>\n",
              "      <td>3.84</td>\n",
              "      <td>3.76</td>\n",
              "      <td>3.79</td>\n",
              "      <td>Cumlaude</td>\n",
              "    </tr>\n",
              "    <tr>\n",
              "      <th>3</th>\n",
              "      <td>3.51</td>\n",
              "      <td>3.62</td>\n",
              "      <td>3.98</td>\n",
              "      <td>3.77</td>\n",
              "      <td>3.65</td>\n",
              "      <td>3.69</td>\n",
              "      <td>Cumlaude</td>\n",
              "    </tr>\n",
              "    <tr>\n",
              "      <th>4</th>\n",
              "      <td>3.98</td>\n",
              "      <td>3.83</td>\n",
              "      <td>3.64</td>\n",
              "      <td>3.96</td>\n",
              "      <td>3.94</td>\n",
              "      <td>3.87</td>\n",
              "      <td>Cumlaude</td>\n",
              "    </tr>\n",
              "  </tbody>\n",
              "</table>\n",
              "</div>"
            ],
            "text/plain": [
              "    IP1   IP2   IP3   IP4   IP5  Average          Predikat\n",
              "0  3.36  2.11  3.09  3.34  2.59     2.84  Sangat Memuaskan\n",
              "1  3.61  3.66  3.61  3.90  3.84     3.75          Cumlaude\n",
              "2  3.63  3.95  3.76  3.84  3.76     3.79          Cumlaude\n",
              "3  3.51  3.62  3.98  3.77  3.65     3.69          Cumlaude\n",
              "4  3.98  3.83  3.64  3.96  3.94     3.87          Cumlaude"
            ]
          },
          "metadata": {
            "tags": []
          },
          "execution_count": 14
        }
      ]
    },
    {
      "cell_type": "code",
      "metadata": {
        "colab": {
          "base_uri": "https://localhost:8080/"
        },
        "id": "rc1a4nVXxQ0O",
        "outputId": "58a058ac-8b40-4e87-a7b0-e86bb25eaf53"
      },
      "source": [
        "df.Predikat.unique()"
      ],
      "execution_count": 15,
      "outputs": [
        {
          "output_type": "execute_result",
          "data": {
            "text/plain": [
              "array(['Sangat Memuaskan', 'Cumlaude', 'Memuaskan', 'Tidak Lulus'],\n",
              "      dtype=object)"
            ]
          },
          "metadata": {
            "tags": []
          },
          "execution_count": 15
        }
      ]
    },
    {
      "cell_type": "code",
      "metadata": {
        "colab": {
          "base_uri": "https://localhost:8080/",
          "height": 202
        },
        "id": "bkkBVglxw9Om",
        "outputId": "afee3d0d-6288-4ad7-cc3d-4cfb10c67cf0"
      },
      "source": [
        "from sklearn.preprocessing import LabelEncoder\n",
        "le = LabelEncoder()\n",
        "df['Predikat'] = le.fit_transform(df['Predikat'])\n",
        "df.head()"
      ],
      "execution_count": 16,
      "outputs": [
        {
          "output_type": "execute_result",
          "data": {
            "text/html": [
              "<div>\n",
              "<style scoped>\n",
              "    .dataframe tbody tr th:only-of-type {\n",
              "        vertical-align: middle;\n",
              "    }\n",
              "\n",
              "    .dataframe tbody tr th {\n",
              "        vertical-align: top;\n",
              "    }\n",
              "\n",
              "    .dataframe thead th {\n",
              "        text-align: right;\n",
              "    }\n",
              "</style>\n",
              "<table border=\"1\" class=\"dataframe\">\n",
              "  <thead>\n",
              "    <tr style=\"text-align: right;\">\n",
              "      <th></th>\n",
              "      <th>IP1</th>\n",
              "      <th>IP2</th>\n",
              "      <th>IP3</th>\n",
              "      <th>IP4</th>\n",
              "      <th>IP5</th>\n",
              "      <th>Average</th>\n",
              "      <th>Predikat</th>\n",
              "    </tr>\n",
              "  </thead>\n",
              "  <tbody>\n",
              "    <tr>\n",
              "      <th>0</th>\n",
              "      <td>3.36</td>\n",
              "      <td>2.11</td>\n",
              "      <td>3.09</td>\n",
              "      <td>3.34</td>\n",
              "      <td>2.59</td>\n",
              "      <td>2.84</td>\n",
              "      <td>2</td>\n",
              "    </tr>\n",
              "    <tr>\n",
              "      <th>1</th>\n",
              "      <td>3.61</td>\n",
              "      <td>3.66</td>\n",
              "      <td>3.61</td>\n",
              "      <td>3.90</td>\n",
              "      <td>3.84</td>\n",
              "      <td>3.75</td>\n",
              "      <td>0</td>\n",
              "    </tr>\n",
              "    <tr>\n",
              "      <th>2</th>\n",
              "      <td>3.63</td>\n",
              "      <td>3.95</td>\n",
              "      <td>3.76</td>\n",
              "      <td>3.84</td>\n",
              "      <td>3.76</td>\n",
              "      <td>3.79</td>\n",
              "      <td>0</td>\n",
              "    </tr>\n",
              "    <tr>\n",
              "      <th>3</th>\n",
              "      <td>3.51</td>\n",
              "      <td>3.62</td>\n",
              "      <td>3.98</td>\n",
              "      <td>3.77</td>\n",
              "      <td>3.65</td>\n",
              "      <td>3.69</td>\n",
              "      <td>0</td>\n",
              "    </tr>\n",
              "    <tr>\n",
              "      <th>4</th>\n",
              "      <td>3.98</td>\n",
              "      <td>3.83</td>\n",
              "      <td>3.64</td>\n",
              "      <td>3.96</td>\n",
              "      <td>3.94</td>\n",
              "      <td>3.87</td>\n",
              "      <td>0</td>\n",
              "    </tr>\n",
              "  </tbody>\n",
              "</table>\n",
              "</div>"
            ],
            "text/plain": [
              "    IP1   IP2   IP3   IP4   IP5  Average  Predikat\n",
              "0  3.36  2.11  3.09  3.34  2.59     2.84         2\n",
              "1  3.61  3.66  3.61  3.90  3.84     3.75         0\n",
              "2  3.63  3.95  3.76  3.84  3.76     3.79         0\n",
              "3  3.51  3.62  3.98  3.77  3.65     3.69         0\n",
              "4  3.98  3.83  3.64  3.96  3.94     3.87         0"
            ]
          },
          "metadata": {
            "tags": []
          },
          "execution_count": 16
        }
      ]
    },
    {
      "cell_type": "code",
      "metadata": {
        "colab": {
          "base_uri": "https://localhost:8080/"
        },
        "id": "EwSboVygxKyH",
        "outputId": "047ffe63-021e-4c24-a33d-bc23eb4bb5f0"
      },
      "source": [
        "df.Predikat.unique()"
      ],
      "execution_count": 17,
      "outputs": [
        {
          "output_type": "execute_result",
          "data": {
            "text/plain": [
              "array([2, 0, 1, 3])"
            ]
          },
          "metadata": {
            "tags": []
          },
          "execution_count": 17
        }
      ]
    },
    {
      "cell_type": "markdown",
      "metadata": {
        "id": "Y0e8amEXxZvK"
      },
      "source": [
        "Keterangan:\n",
        "* Cumlaude: 0\n",
        "* Memuaskan: 1\n",
        "* Sangat Memuaskan: 2\n",
        "* Tidak Lulus: 3"
      ]
    },
    {
      "cell_type": "code",
      "metadata": {
        "colab": {
          "base_uri": "https://localhost:8080/"
        },
        "id": "mpJwEa6nxW5O",
        "outputId": "b00d53f4-cde0-4604-f708-97abe0fc94c6"
      },
      "source": [
        "df.Predikat.value_counts()"
      ],
      "execution_count": 18,
      "outputs": [
        {
          "output_type": "execute_result",
          "data": {
            "text/plain": [
              "2    3974\n",
              "1    3609\n",
              "0    1666\n",
              "3     751\n",
              "Name: Predikat, dtype: int64"
            ]
          },
          "metadata": {
            "tags": []
          },
          "execution_count": 18
        }
      ]
    },
    {
      "cell_type": "markdown",
      "metadata": {
        "id": "cyFKSligxk6N"
      },
      "source": [
        "### Predict"
      ]
    },
    {
      "cell_type": "code",
      "metadata": {
        "id": "W9q60s1dxjEv"
      },
      "source": [
        "from sklearn.model_selection import train_test_split"
      ],
      "execution_count": 19,
      "outputs": []
    },
    {
      "cell_type": "code",
      "metadata": {
        "id": "EPVc6qoFxomf"
      },
      "source": [
        "X = df.drop(['Average', 'Predikat'], axis=1)\n",
        "y = df['Predikat']"
      ],
      "execution_count": 20,
      "outputs": []
    },
    {
      "cell_type": "code",
      "metadata": {
        "colab": {
          "base_uri": "https://localhost:8080/",
          "height": 414
        },
        "id": "4f4D5FE6xw8m",
        "outputId": "6a3ddf2d-f4b6-4c2c-f560-bfacdabdd22b"
      },
      "source": [
        "X"
      ],
      "execution_count": 21,
      "outputs": [
        {
          "output_type": "execute_result",
          "data": {
            "text/html": [
              "<div>\n",
              "<style scoped>\n",
              "    .dataframe tbody tr th:only-of-type {\n",
              "        vertical-align: middle;\n",
              "    }\n",
              "\n",
              "    .dataframe tbody tr th {\n",
              "        vertical-align: top;\n",
              "    }\n",
              "\n",
              "    .dataframe thead th {\n",
              "        text-align: right;\n",
              "    }\n",
              "</style>\n",
              "<table border=\"1\" class=\"dataframe\">\n",
              "  <thead>\n",
              "    <tr style=\"text-align: right;\">\n",
              "      <th></th>\n",
              "      <th>IP1</th>\n",
              "      <th>IP2</th>\n",
              "      <th>IP3</th>\n",
              "      <th>IP4</th>\n",
              "      <th>IP5</th>\n",
              "    </tr>\n",
              "  </thead>\n",
              "  <tbody>\n",
              "    <tr>\n",
              "      <th>0</th>\n",
              "      <td>3.36</td>\n",
              "      <td>2.11</td>\n",
              "      <td>3.09</td>\n",
              "      <td>3.34</td>\n",
              "      <td>2.59</td>\n",
              "    </tr>\n",
              "    <tr>\n",
              "      <th>1</th>\n",
              "      <td>3.61</td>\n",
              "      <td>3.66</td>\n",
              "      <td>3.61</td>\n",
              "      <td>3.90</td>\n",
              "      <td>3.84</td>\n",
              "    </tr>\n",
              "    <tr>\n",
              "      <th>2</th>\n",
              "      <td>3.63</td>\n",
              "      <td>3.95</td>\n",
              "      <td>3.76</td>\n",
              "      <td>3.84</td>\n",
              "      <td>3.76</td>\n",
              "    </tr>\n",
              "    <tr>\n",
              "      <th>3</th>\n",
              "      <td>3.51</td>\n",
              "      <td>3.62</td>\n",
              "      <td>3.98</td>\n",
              "      <td>3.77</td>\n",
              "      <td>3.65</td>\n",
              "    </tr>\n",
              "    <tr>\n",
              "      <th>4</th>\n",
              "      <td>3.98</td>\n",
              "      <td>3.83</td>\n",
              "      <td>3.64</td>\n",
              "      <td>3.96</td>\n",
              "      <td>3.94</td>\n",
              "    </tr>\n",
              "    <tr>\n",
              "      <th>...</th>\n",
              "      <td>...</td>\n",
              "      <td>...</td>\n",
              "      <td>...</td>\n",
              "      <td>...</td>\n",
              "      <td>...</td>\n",
              "    </tr>\n",
              "    <tr>\n",
              "      <th>9995</th>\n",
              "      <td>2.54</td>\n",
              "      <td>3.69</td>\n",
              "      <td>2.20</td>\n",
              "      <td>3.20</td>\n",
              "      <td>1.46</td>\n",
              "    </tr>\n",
              "    <tr>\n",
              "      <th>9996</th>\n",
              "      <td>3.78</td>\n",
              "      <td>1.80</td>\n",
              "      <td>0.19</td>\n",
              "      <td>1.97</td>\n",
              "      <td>0.24</td>\n",
              "    </tr>\n",
              "    <tr>\n",
              "      <th>9997</th>\n",
              "      <td>1.73</td>\n",
              "      <td>3.22</td>\n",
              "      <td>0.20</td>\n",
              "      <td>0.07</td>\n",
              "      <td>1.61</td>\n",
              "    </tr>\n",
              "    <tr>\n",
              "      <th>9998</th>\n",
              "      <td>3.46</td>\n",
              "      <td>2.06</td>\n",
              "      <td>0.71</td>\n",
              "      <td>3.78</td>\n",
              "      <td>0.24</td>\n",
              "    </tr>\n",
              "    <tr>\n",
              "      <th>9999</th>\n",
              "      <td>1.23</td>\n",
              "      <td>1.77</td>\n",
              "      <td>1.85</td>\n",
              "      <td>1.93</td>\n",
              "      <td>0.02</td>\n",
              "    </tr>\n",
              "  </tbody>\n",
              "</table>\n",
              "<p>10000 rows × 5 columns</p>\n",
              "</div>"
            ],
            "text/plain": [
              "       IP1   IP2   IP3   IP4   IP5\n",
              "0     3.36  2.11  3.09  3.34  2.59\n",
              "1     3.61  3.66  3.61  3.90  3.84\n",
              "2     3.63  3.95  3.76  3.84  3.76\n",
              "3     3.51  3.62  3.98  3.77  3.65\n",
              "4     3.98  3.83  3.64  3.96  3.94\n",
              "...    ...   ...   ...   ...   ...\n",
              "9995  2.54  3.69  2.20  3.20  1.46\n",
              "9996  3.78  1.80  0.19  1.97  0.24\n",
              "9997  1.73  3.22  0.20  0.07  1.61\n",
              "9998  3.46  2.06  0.71  3.78  0.24\n",
              "9999  1.23  1.77  1.85  1.93  0.02\n",
              "\n",
              "[10000 rows x 5 columns]"
            ]
          },
          "metadata": {
            "tags": []
          },
          "execution_count": 21
        }
      ]
    },
    {
      "cell_type": "code",
      "metadata": {
        "colab": {
          "base_uri": "https://localhost:8080/"
        },
        "id": "aSJnDqDjxxr2",
        "outputId": "462c388e-1cce-4066-edb7-e41aeb10e2ed"
      },
      "source": [
        "y"
      ],
      "execution_count": 22,
      "outputs": [
        {
          "output_type": "execute_result",
          "data": {
            "text/plain": [
              "0       2\n",
              "1       0\n",
              "2       0\n",
              "3       0\n",
              "4       0\n",
              "       ..\n",
              "9995    1\n",
              "9996    3\n",
              "9997    3\n",
              "9998    1\n",
              "9999    3\n",
              "Name: Predikat, Length: 10000, dtype: int64"
            ]
          },
          "metadata": {
            "tags": []
          },
          "execution_count": 22
        }
      ]
    },
    {
      "cell_type": "code",
      "metadata": {
        "id": "DPKeXduexybf"
      },
      "source": [
        "X_train, X_test, y_train, y_test = train_test_split(X, y, test_size=0.2, \n",
        "                                                    random_state=42)"
      ],
      "execution_count": 23,
      "outputs": []
    },
    {
      "cell_type": "markdown",
      "metadata": {
        "id": "Rw2h6Tjv5Gux"
      },
      "source": [
        "### SVM"
      ]
    },
    {
      "cell_type": "code",
      "metadata": {
        "colab": {
          "base_uri": "https://localhost:8080/"
        },
        "id": "FmDzn5F-5Guy",
        "outputId": "b9bc9d80-26d6-4936-d081-1d8159a14ecd"
      },
      "source": [
        "from sklearn.svm import SVC\n",
        "\n",
        "svm = SVC(gamma=\"auto\")\n",
        "svm.fit(X_train, y_train)"
      ],
      "execution_count": 24,
      "outputs": [
        {
          "output_type": "execute_result",
          "data": {
            "text/plain": [
              "SVC(C=1.0, break_ties=False, cache_size=200, class_weight=None, coef0=0.0,\n",
              "    decision_function_shape='ovr', degree=3, gamma='auto', kernel='rbf',\n",
              "    max_iter=-1, probability=False, random_state=None, shrinking=True,\n",
              "    tol=0.001, verbose=False)"
            ]
          },
          "metadata": {
            "tags": []
          },
          "execution_count": 24
        }
      ]
    },
    {
      "cell_type": "code",
      "metadata": {
        "id": "HEk5S62d5Guy"
      },
      "source": [
        "y_pred = svm.predict(X_test)"
      ],
      "execution_count": 25,
      "outputs": []
    },
    {
      "cell_type": "code",
      "metadata": {
        "id": "jC8lLfKnyTuW"
      },
      "source": [
        "from sklearn.metrics import classification_report, confusion_matrix, accuracy_score"
      ],
      "execution_count": 26,
      "outputs": []
    },
    {
      "cell_type": "code",
      "metadata": {
        "id": "POZLQQiTyepm"
      },
      "source": [
        "def test_acc(model):\n",
        "  print(f\"{model} score\")\n",
        "  print('\\n')\n",
        "  print(\"Classification Report:\")\n",
        "  print(classification_report(y_test, y_pred))\n",
        "  print('\\n')\n",
        "  print(\"Confusion Matrix:\")\n",
        "  print(confusion_matrix(y_test, y_pred))\n",
        "  print('\\n')\n",
        "  print(\"Accuracy Score:\")\n",
        "  print(accuracy_score(y_test, y_pred))"
      ],
      "execution_count": 27,
      "outputs": []
    },
    {
      "cell_type": "code",
      "metadata": {
        "colab": {
          "base_uri": "https://localhost:8080/"
        },
        "id": "OTElKG1M5Guy",
        "outputId": "40f71bf3-28a1-4d1f-afb2-9f5c6d72216a"
      },
      "source": [
        "test_acc(svm)"
      ],
      "execution_count": 28,
      "outputs": [
        {
          "output_type": "stream",
          "text": [
            "SVC(C=1.0, break_ties=False, cache_size=200, class_weight=None, coef0=0.0,\n",
            "    decision_function_shape='ovr', degree=3, gamma='auto', kernel='rbf',\n",
            "    max_iter=-1, probability=False, random_state=None, shrinking=True,\n",
            "    tol=0.001, verbose=False) score\n",
            "\n",
            "\n",
            "Classification Report:\n",
            "              precision    recall  f1-score   support\n",
            "\n",
            "           0       0.98      0.96      0.97       334\n",
            "           1       0.84      0.86      0.85       699\n",
            "           2       0.89      0.93      0.91       821\n",
            "           3       0.83      0.60      0.70       146\n",
            "\n",
            "    accuracy                           0.88      2000\n",
            "   macro avg       0.89      0.84      0.86      2000\n",
            "weighted avg       0.88      0.88      0.88      2000\n",
            "\n",
            "\n",
            "\n",
            "Confusion Matrix:\n",
            "[[320   0  14   0]\n",
            " [  0 599  82  18]\n",
            " [  5  56 760   0]\n",
            " [  0  58   0  88]]\n",
            "\n",
            "\n",
            "Accuracy Score:\n",
            "0.8835\n"
          ],
          "name": "stdout"
        }
      ]
    },
    {
      "cell_type": "markdown",
      "metadata": {
        "id": "7zqWCin350WA"
      },
      "source": [
        "### Export Semester 5"
      ]
    },
    {
      "cell_type": "code",
      "metadata": {
        "id": "JrFnlH7o50D8"
      },
      "source": [
        "import pickle"
      ],
      "execution_count": 29,
      "outputs": []
    },
    {
      "cell_type": "code",
      "metadata": {
        "id": "R0Dp-pAD5xQy"
      },
      "source": [
        "pickle.dump(svm, open(\"Semester5.pkl\", 'wb'))"
      ],
      "execution_count": 30,
      "outputs": []
    },
    {
      "cell_type": "code",
      "metadata": {
        "id": "iqauaPIk5xrN"
      },
      "source": [
        "del svm"
      ],
      "execution_count": 31,
      "outputs": []
    },
    {
      "cell_type": "code",
      "metadata": {
        "id": "st_ICdZ75x9K"
      },
      "source": [
        "model = pickle.load(open(\"Semester5.pkl\", \"rb\"))"
      ],
      "execution_count": 32,
      "outputs": []
    },
    {
      "cell_type": "code",
      "metadata": {
        "colab": {
          "base_uri": "https://localhost:8080/"
        },
        "id": "EReNGAnA5zwD",
        "outputId": "219562fa-d68a-4bbb-9f0f-4fc53df2e1f6"
      },
      "source": [
        "y_example = model.predict([[3.9, 3.6, 3.7, 3.6, 3.5]])\n",
        "y_example"
      ],
      "execution_count": 33,
      "outputs": [
        {
          "output_type": "execute_result",
          "data": {
            "text/plain": [
              "array([0])"
            ]
          },
          "metadata": {
            "tags": []
          },
          "execution_count": 33
        }
      ]
    },
    {
      "cell_type": "markdown",
      "metadata": {
        "id": "PV1NV4no6srT"
      },
      "source": [
        "## Semester 4"
      ]
    },
    {
      "cell_type": "code",
      "metadata": {
        "id": "jJxVLVxmio7w"
      },
      "source": [
        "df = df_ori.copy()"
      ],
      "execution_count": 34,
      "outputs": []
    },
    {
      "cell_type": "code",
      "metadata": {
        "id": "JziRQEen6srU"
      },
      "source": [
        "df_new = df.drop(['IP5', 'IP6'], axis=1)"
      ],
      "execution_count": 35,
      "outputs": []
    },
    {
      "cell_type": "code",
      "metadata": {
        "id": "q2hHLekc6srU"
      },
      "source": [
        "# Backup\n",
        "df_new.to_csv('nilai_diploma_4_semester.csv', index=False)"
      ],
      "execution_count": 36,
      "outputs": []
    },
    {
      "cell_type": "markdown",
      "metadata": {
        "id": "S2hc9zca6srU"
      },
      "source": [
        "### Label Encoding"
      ]
    },
    {
      "cell_type": "code",
      "metadata": {
        "id": "87SnhAit6srU"
      },
      "source": [
        "df = pd.read_csv('nilai_diploma_4_semester.csv', index_col=None)"
      ],
      "execution_count": 37,
      "outputs": []
    },
    {
      "cell_type": "code",
      "metadata": {
        "colab": {
          "base_uri": "https://localhost:8080/",
          "height": 202
        },
        "id": "SrE14RsS6srU",
        "outputId": "c25051ae-d2fd-4a9d-c508-aac0c83d1df5"
      },
      "source": [
        "df.head()"
      ],
      "execution_count": 38,
      "outputs": [
        {
          "output_type": "execute_result",
          "data": {
            "text/html": [
              "<div>\n",
              "<style scoped>\n",
              "    .dataframe tbody tr th:only-of-type {\n",
              "        vertical-align: middle;\n",
              "    }\n",
              "\n",
              "    .dataframe tbody tr th {\n",
              "        vertical-align: top;\n",
              "    }\n",
              "\n",
              "    .dataframe thead th {\n",
              "        text-align: right;\n",
              "    }\n",
              "</style>\n",
              "<table border=\"1\" class=\"dataframe\">\n",
              "  <thead>\n",
              "    <tr style=\"text-align: right;\">\n",
              "      <th></th>\n",
              "      <th>IP1</th>\n",
              "      <th>IP2</th>\n",
              "      <th>IP3</th>\n",
              "      <th>IP4</th>\n",
              "      <th>Average</th>\n",
              "      <th>Predikat</th>\n",
              "    </tr>\n",
              "  </thead>\n",
              "  <tbody>\n",
              "    <tr>\n",
              "      <th>0</th>\n",
              "      <td>3.36</td>\n",
              "      <td>2.11</td>\n",
              "      <td>3.09</td>\n",
              "      <td>3.34</td>\n",
              "      <td>2.84</td>\n",
              "      <td>Sangat Memuaskan</td>\n",
              "    </tr>\n",
              "    <tr>\n",
              "      <th>1</th>\n",
              "      <td>3.61</td>\n",
              "      <td>3.66</td>\n",
              "      <td>3.61</td>\n",
              "      <td>3.90</td>\n",
              "      <td>3.75</td>\n",
              "      <td>Cumlaude</td>\n",
              "    </tr>\n",
              "    <tr>\n",
              "      <th>2</th>\n",
              "      <td>3.63</td>\n",
              "      <td>3.95</td>\n",
              "      <td>3.76</td>\n",
              "      <td>3.84</td>\n",
              "      <td>3.79</td>\n",
              "      <td>Cumlaude</td>\n",
              "    </tr>\n",
              "    <tr>\n",
              "      <th>3</th>\n",
              "      <td>3.51</td>\n",
              "      <td>3.62</td>\n",
              "      <td>3.98</td>\n",
              "      <td>3.77</td>\n",
              "      <td>3.69</td>\n",
              "      <td>Cumlaude</td>\n",
              "    </tr>\n",
              "    <tr>\n",
              "      <th>4</th>\n",
              "      <td>3.98</td>\n",
              "      <td>3.83</td>\n",
              "      <td>3.64</td>\n",
              "      <td>3.96</td>\n",
              "      <td>3.87</td>\n",
              "      <td>Cumlaude</td>\n",
              "    </tr>\n",
              "  </tbody>\n",
              "</table>\n",
              "</div>"
            ],
            "text/plain": [
              "    IP1   IP2   IP3   IP4  Average          Predikat\n",
              "0  3.36  2.11  3.09  3.34     2.84  Sangat Memuaskan\n",
              "1  3.61  3.66  3.61  3.90     3.75          Cumlaude\n",
              "2  3.63  3.95  3.76  3.84     3.79          Cumlaude\n",
              "3  3.51  3.62  3.98  3.77     3.69          Cumlaude\n",
              "4  3.98  3.83  3.64  3.96     3.87          Cumlaude"
            ]
          },
          "metadata": {
            "tags": []
          },
          "execution_count": 38
        }
      ]
    },
    {
      "cell_type": "code",
      "metadata": {
        "colab": {
          "base_uri": "https://localhost:8080/"
        },
        "id": "SeENQFpZ6srU",
        "outputId": "6652677a-d188-4bf2-f9e6-7a6a5fe32c34"
      },
      "source": [
        "df.Predikat.unique()"
      ],
      "execution_count": 39,
      "outputs": [
        {
          "output_type": "execute_result",
          "data": {
            "text/plain": [
              "array(['Sangat Memuaskan', 'Cumlaude', 'Memuaskan', 'Tidak Lulus'],\n",
              "      dtype=object)"
            ]
          },
          "metadata": {
            "tags": []
          },
          "execution_count": 39
        }
      ]
    },
    {
      "cell_type": "code",
      "metadata": {
        "colab": {
          "base_uri": "https://localhost:8080/",
          "height": 202
        },
        "id": "Gl6lsEFx6srV",
        "outputId": "e75c70cd-caf1-4978-e967-41fcaa402a0f"
      },
      "source": [
        "from sklearn.preprocessing import LabelEncoder\n",
        "le = LabelEncoder()\n",
        "df['Predikat'] = le.fit_transform(df['Predikat'])\n",
        "df.head()"
      ],
      "execution_count": 40,
      "outputs": [
        {
          "output_type": "execute_result",
          "data": {
            "text/html": [
              "<div>\n",
              "<style scoped>\n",
              "    .dataframe tbody tr th:only-of-type {\n",
              "        vertical-align: middle;\n",
              "    }\n",
              "\n",
              "    .dataframe tbody tr th {\n",
              "        vertical-align: top;\n",
              "    }\n",
              "\n",
              "    .dataframe thead th {\n",
              "        text-align: right;\n",
              "    }\n",
              "</style>\n",
              "<table border=\"1\" class=\"dataframe\">\n",
              "  <thead>\n",
              "    <tr style=\"text-align: right;\">\n",
              "      <th></th>\n",
              "      <th>IP1</th>\n",
              "      <th>IP2</th>\n",
              "      <th>IP3</th>\n",
              "      <th>IP4</th>\n",
              "      <th>Average</th>\n",
              "      <th>Predikat</th>\n",
              "    </tr>\n",
              "  </thead>\n",
              "  <tbody>\n",
              "    <tr>\n",
              "      <th>0</th>\n",
              "      <td>3.36</td>\n",
              "      <td>2.11</td>\n",
              "      <td>3.09</td>\n",
              "      <td>3.34</td>\n",
              "      <td>2.84</td>\n",
              "      <td>2</td>\n",
              "    </tr>\n",
              "    <tr>\n",
              "      <th>1</th>\n",
              "      <td>3.61</td>\n",
              "      <td>3.66</td>\n",
              "      <td>3.61</td>\n",
              "      <td>3.90</td>\n",
              "      <td>3.75</td>\n",
              "      <td>0</td>\n",
              "    </tr>\n",
              "    <tr>\n",
              "      <th>2</th>\n",
              "      <td>3.63</td>\n",
              "      <td>3.95</td>\n",
              "      <td>3.76</td>\n",
              "      <td>3.84</td>\n",
              "      <td>3.79</td>\n",
              "      <td>0</td>\n",
              "    </tr>\n",
              "    <tr>\n",
              "      <th>3</th>\n",
              "      <td>3.51</td>\n",
              "      <td>3.62</td>\n",
              "      <td>3.98</td>\n",
              "      <td>3.77</td>\n",
              "      <td>3.69</td>\n",
              "      <td>0</td>\n",
              "    </tr>\n",
              "    <tr>\n",
              "      <th>4</th>\n",
              "      <td>3.98</td>\n",
              "      <td>3.83</td>\n",
              "      <td>3.64</td>\n",
              "      <td>3.96</td>\n",
              "      <td>3.87</td>\n",
              "      <td>0</td>\n",
              "    </tr>\n",
              "  </tbody>\n",
              "</table>\n",
              "</div>"
            ],
            "text/plain": [
              "    IP1   IP2   IP3   IP4  Average  Predikat\n",
              "0  3.36  2.11  3.09  3.34     2.84         2\n",
              "1  3.61  3.66  3.61  3.90     3.75         0\n",
              "2  3.63  3.95  3.76  3.84     3.79         0\n",
              "3  3.51  3.62  3.98  3.77     3.69         0\n",
              "4  3.98  3.83  3.64  3.96     3.87         0"
            ]
          },
          "metadata": {
            "tags": []
          },
          "execution_count": 40
        }
      ]
    },
    {
      "cell_type": "code",
      "metadata": {
        "colab": {
          "base_uri": "https://localhost:8080/"
        },
        "id": "UP9akRO06srV",
        "outputId": "44d6966d-1ee9-4355-dce7-88e9212661ef"
      },
      "source": [
        "df.Predikat.unique()"
      ],
      "execution_count": 41,
      "outputs": [
        {
          "output_type": "execute_result",
          "data": {
            "text/plain": [
              "array([2, 0, 1, 3])"
            ]
          },
          "metadata": {
            "tags": []
          },
          "execution_count": 41
        }
      ]
    },
    {
      "cell_type": "markdown",
      "metadata": {
        "id": "SZRULPZs6srV"
      },
      "source": [
        "Keterangan:\n",
        "* Cumlaude: 0\n",
        "* Memuaskan: 1\n",
        "* Sangat Memuaskan: 2\n",
        "* Tidak Lulus: 3"
      ]
    },
    {
      "cell_type": "code",
      "metadata": {
        "colab": {
          "base_uri": "https://localhost:8080/"
        },
        "id": "HCGy6J4U6srV",
        "outputId": "7b438ce1-3701-4b50-8f54-fde7ce2e6fe1"
      },
      "source": [
        "df.Predikat.value_counts()"
      ],
      "execution_count": 42,
      "outputs": [
        {
          "output_type": "execute_result",
          "data": {
            "text/plain": [
              "2    3974\n",
              "1    3609\n",
              "0    1666\n",
              "3     751\n",
              "Name: Predikat, dtype: int64"
            ]
          },
          "metadata": {
            "tags": []
          },
          "execution_count": 42
        }
      ]
    },
    {
      "cell_type": "markdown",
      "metadata": {
        "id": "5LyXsexj6srV"
      },
      "source": [
        "### Predict"
      ]
    },
    {
      "cell_type": "code",
      "metadata": {
        "id": "UHGtCteq6srV"
      },
      "source": [
        "from sklearn.model_selection import train_test_split"
      ],
      "execution_count": 43,
      "outputs": []
    },
    {
      "cell_type": "code",
      "metadata": {
        "id": "C4xDIxMv6srV"
      },
      "source": [
        "X = df.drop(['Average', 'Predikat'], axis=1)\n",
        "y = df['Predikat']"
      ],
      "execution_count": 44,
      "outputs": []
    },
    {
      "cell_type": "code",
      "metadata": {
        "id": "D0_zHB1q6srV"
      },
      "source": [
        "X_train, X_test, y_train, y_test = train_test_split(X, y, test_size=0.2, \n",
        "                                                    random_state=42)"
      ],
      "execution_count": 45,
      "outputs": []
    },
    {
      "cell_type": "markdown",
      "metadata": {
        "id": "cVnxK3Rn6srW"
      },
      "source": [
        "### SVM"
      ]
    },
    {
      "cell_type": "code",
      "metadata": {
        "colab": {
          "base_uri": "https://localhost:8080/"
        },
        "id": "QS9b73_u6srW",
        "outputId": "e7d4528a-0c96-4bfd-c6ad-d48bd1b6d668"
      },
      "source": [
        "from sklearn.svm import SVC\n",
        "\n",
        "svm = SVC(gamma=\"auto\")\n",
        "svm.fit(X_train, y_train)"
      ],
      "execution_count": 46,
      "outputs": [
        {
          "output_type": "execute_result",
          "data": {
            "text/plain": [
              "SVC(C=1.0, break_ties=False, cache_size=200, class_weight=None, coef0=0.0,\n",
              "    decision_function_shape='ovr', degree=3, gamma='auto', kernel='rbf',\n",
              "    max_iter=-1, probability=False, random_state=None, shrinking=True,\n",
              "    tol=0.001, verbose=False)"
            ]
          },
          "metadata": {
            "tags": []
          },
          "execution_count": 46
        }
      ]
    },
    {
      "cell_type": "code",
      "metadata": {
        "id": "DFEM-Yhq6srW"
      },
      "source": [
        "y_pred = svm.predict(X_test)"
      ],
      "execution_count": 47,
      "outputs": []
    },
    {
      "cell_type": "code",
      "metadata": {
        "colab": {
          "base_uri": "https://localhost:8080/"
        },
        "id": "WU3RUwJL6srW",
        "outputId": "7f8f7256-02bd-40df-93be-02b608559f90"
      },
      "source": [
        "test_acc(svm)"
      ],
      "execution_count": 48,
      "outputs": [
        {
          "output_type": "stream",
          "text": [
            "SVC(C=1.0, break_ties=False, cache_size=200, class_weight=None, coef0=0.0,\n",
            "    decision_function_shape='ovr', degree=3, gamma='auto', kernel='rbf',\n",
            "    max_iter=-1, probability=False, random_state=None, shrinking=True,\n",
            "    tol=0.001, verbose=False) score\n",
            "\n",
            "\n",
            "Classification Report:\n",
            "              precision    recall  f1-score   support\n",
            "\n",
            "           0       0.96      0.96      0.96       334\n",
            "           1       0.77      0.79      0.78       699\n",
            "           2       0.84      0.88      0.86       821\n",
            "           3       0.77      0.46      0.58       146\n",
            "\n",
            "    accuracy                           0.83      2000\n",
            "   macro avg       0.83      0.77      0.79      2000\n",
            "weighted avg       0.83      0.83      0.83      2000\n",
            "\n",
            "\n",
            "\n",
            "Confusion Matrix:\n",
            "[[320   0  14   0]\n",
            " [  0 554 125  20]\n",
            " [ 13  88 720   0]\n",
            " [  0  79   0  67]]\n",
            "\n",
            "\n",
            "Accuracy Score:\n",
            "0.8305\n"
          ],
          "name": "stdout"
        }
      ]
    },
    {
      "cell_type": "markdown",
      "metadata": {
        "id": "dLsvcWIN6srW"
      },
      "source": [
        "### Export Semester 4"
      ]
    },
    {
      "cell_type": "code",
      "metadata": {
        "id": "3aLWb96P6srW"
      },
      "source": [
        "pickle.dump(svm, open(\"Semester4.pkl\", 'wb'))"
      ],
      "execution_count": 49,
      "outputs": []
    },
    {
      "cell_type": "code",
      "metadata": {
        "id": "y1oEfsiR6srW"
      },
      "source": [
        "del svm"
      ],
      "execution_count": 50,
      "outputs": []
    },
    {
      "cell_type": "code",
      "metadata": {
        "id": "0Qes4KYg6srW"
      },
      "source": [
        "model = pickle.load(open(\"Semester4.pkl\", \"rb\"))"
      ],
      "execution_count": 51,
      "outputs": []
    },
    {
      "cell_type": "code",
      "metadata": {
        "colab": {
          "base_uri": "https://localhost:8080/"
        },
        "id": "chdTmEHs6srX",
        "outputId": "383c97e8-cb3b-47e8-d65d-0375c0f205bb"
      },
      "source": [
        "y_example = model.predict([[3.9, 3.6, 3.5, 3.6]])\n",
        "y_example"
      ],
      "execution_count": 52,
      "outputs": [
        {
          "output_type": "execute_result",
          "data": {
            "text/plain": [
              "array([0])"
            ]
          },
          "metadata": {
            "tags": []
          },
          "execution_count": 52
        }
      ]
    },
    {
      "cell_type": "markdown",
      "metadata": {
        "id": "AMkJONSJ7sTL"
      },
      "source": [
        "## Semester 3"
      ]
    },
    {
      "cell_type": "code",
      "metadata": {
        "id": "SJTCjR_-ixMi"
      },
      "source": [
        "df = df_ori.copy()"
      ],
      "execution_count": 53,
      "outputs": []
    },
    {
      "cell_type": "code",
      "metadata": {
        "id": "3V5ihnBF7sTL"
      },
      "source": [
        "df_new = df.drop(['IP4', 'IP5', 'IP6'], axis=1)"
      ],
      "execution_count": 54,
      "outputs": []
    },
    {
      "cell_type": "code",
      "metadata": {
        "id": "8rEBxeeJ7sTL"
      },
      "source": [
        "# Backup\n",
        "df_new.to_csv('nilai_diploma_3_semester.csv', index=False)"
      ],
      "execution_count": 55,
      "outputs": []
    },
    {
      "cell_type": "markdown",
      "metadata": {
        "id": "ybo9SQ2a7sTL"
      },
      "source": [
        "### Label Encoding"
      ]
    },
    {
      "cell_type": "code",
      "metadata": {
        "id": "zOJaqUKv7sTL"
      },
      "source": [
        "df = pd.read_csv('nilai_diploma_3_semester.csv', index_col=None)"
      ],
      "execution_count": 56,
      "outputs": []
    },
    {
      "cell_type": "code",
      "metadata": {
        "colab": {
          "base_uri": "https://localhost:8080/",
          "height": 202
        },
        "id": "WOZqbVS57sTL",
        "outputId": "44887057-5d6d-43e7-e794-44144a2983c8"
      },
      "source": [
        "df.head()"
      ],
      "execution_count": 57,
      "outputs": [
        {
          "output_type": "execute_result",
          "data": {
            "text/html": [
              "<div>\n",
              "<style scoped>\n",
              "    .dataframe tbody tr th:only-of-type {\n",
              "        vertical-align: middle;\n",
              "    }\n",
              "\n",
              "    .dataframe tbody tr th {\n",
              "        vertical-align: top;\n",
              "    }\n",
              "\n",
              "    .dataframe thead th {\n",
              "        text-align: right;\n",
              "    }\n",
              "</style>\n",
              "<table border=\"1\" class=\"dataframe\">\n",
              "  <thead>\n",
              "    <tr style=\"text-align: right;\">\n",
              "      <th></th>\n",
              "      <th>IP1</th>\n",
              "      <th>IP2</th>\n",
              "      <th>IP3</th>\n",
              "      <th>Average</th>\n",
              "      <th>Predikat</th>\n",
              "    </tr>\n",
              "  </thead>\n",
              "  <tbody>\n",
              "    <tr>\n",
              "      <th>0</th>\n",
              "      <td>3.36</td>\n",
              "      <td>2.11</td>\n",
              "      <td>3.09</td>\n",
              "      <td>2.84</td>\n",
              "      <td>Sangat Memuaskan</td>\n",
              "    </tr>\n",
              "    <tr>\n",
              "      <th>1</th>\n",
              "      <td>3.61</td>\n",
              "      <td>3.66</td>\n",
              "      <td>3.61</td>\n",
              "      <td>3.75</td>\n",
              "      <td>Cumlaude</td>\n",
              "    </tr>\n",
              "    <tr>\n",
              "      <th>2</th>\n",
              "      <td>3.63</td>\n",
              "      <td>3.95</td>\n",
              "      <td>3.76</td>\n",
              "      <td>3.79</td>\n",
              "      <td>Cumlaude</td>\n",
              "    </tr>\n",
              "    <tr>\n",
              "      <th>3</th>\n",
              "      <td>3.51</td>\n",
              "      <td>3.62</td>\n",
              "      <td>3.98</td>\n",
              "      <td>3.69</td>\n",
              "      <td>Cumlaude</td>\n",
              "    </tr>\n",
              "    <tr>\n",
              "      <th>4</th>\n",
              "      <td>3.98</td>\n",
              "      <td>3.83</td>\n",
              "      <td>3.64</td>\n",
              "      <td>3.87</td>\n",
              "      <td>Cumlaude</td>\n",
              "    </tr>\n",
              "  </tbody>\n",
              "</table>\n",
              "</div>"
            ],
            "text/plain": [
              "    IP1   IP2   IP3  Average          Predikat\n",
              "0  3.36  2.11  3.09     2.84  Sangat Memuaskan\n",
              "1  3.61  3.66  3.61     3.75          Cumlaude\n",
              "2  3.63  3.95  3.76     3.79          Cumlaude\n",
              "3  3.51  3.62  3.98     3.69          Cumlaude\n",
              "4  3.98  3.83  3.64     3.87          Cumlaude"
            ]
          },
          "metadata": {
            "tags": []
          },
          "execution_count": 57
        }
      ]
    },
    {
      "cell_type": "code",
      "metadata": {
        "colab": {
          "base_uri": "https://localhost:8080/"
        },
        "id": "2gKAME8q7sTL",
        "outputId": "cc6d2031-b762-458e-9e0c-8194705d587f"
      },
      "source": [
        "df.Predikat.unique()"
      ],
      "execution_count": 58,
      "outputs": [
        {
          "output_type": "execute_result",
          "data": {
            "text/plain": [
              "array(['Sangat Memuaskan', 'Cumlaude', 'Memuaskan', 'Tidak Lulus'],\n",
              "      dtype=object)"
            ]
          },
          "metadata": {
            "tags": []
          },
          "execution_count": 58
        }
      ]
    },
    {
      "cell_type": "code",
      "metadata": {
        "colab": {
          "base_uri": "https://localhost:8080/",
          "height": 202
        },
        "id": "HEFH7dcu7sTM",
        "outputId": "64a0b301-1aea-497d-c540-16679c498c23"
      },
      "source": [
        "from sklearn.preprocessing import LabelEncoder\n",
        "le = LabelEncoder()\n",
        "df['Predikat'] = le.fit_transform(df['Predikat'])\n",
        "df.head()"
      ],
      "execution_count": 59,
      "outputs": [
        {
          "output_type": "execute_result",
          "data": {
            "text/html": [
              "<div>\n",
              "<style scoped>\n",
              "    .dataframe tbody tr th:only-of-type {\n",
              "        vertical-align: middle;\n",
              "    }\n",
              "\n",
              "    .dataframe tbody tr th {\n",
              "        vertical-align: top;\n",
              "    }\n",
              "\n",
              "    .dataframe thead th {\n",
              "        text-align: right;\n",
              "    }\n",
              "</style>\n",
              "<table border=\"1\" class=\"dataframe\">\n",
              "  <thead>\n",
              "    <tr style=\"text-align: right;\">\n",
              "      <th></th>\n",
              "      <th>IP1</th>\n",
              "      <th>IP2</th>\n",
              "      <th>IP3</th>\n",
              "      <th>Average</th>\n",
              "      <th>Predikat</th>\n",
              "    </tr>\n",
              "  </thead>\n",
              "  <tbody>\n",
              "    <tr>\n",
              "      <th>0</th>\n",
              "      <td>3.36</td>\n",
              "      <td>2.11</td>\n",
              "      <td>3.09</td>\n",
              "      <td>2.84</td>\n",
              "      <td>2</td>\n",
              "    </tr>\n",
              "    <tr>\n",
              "      <th>1</th>\n",
              "      <td>3.61</td>\n",
              "      <td>3.66</td>\n",
              "      <td>3.61</td>\n",
              "      <td>3.75</td>\n",
              "      <td>0</td>\n",
              "    </tr>\n",
              "    <tr>\n",
              "      <th>2</th>\n",
              "      <td>3.63</td>\n",
              "      <td>3.95</td>\n",
              "      <td>3.76</td>\n",
              "      <td>3.79</td>\n",
              "      <td>0</td>\n",
              "    </tr>\n",
              "    <tr>\n",
              "      <th>3</th>\n",
              "      <td>3.51</td>\n",
              "      <td>3.62</td>\n",
              "      <td>3.98</td>\n",
              "      <td>3.69</td>\n",
              "      <td>0</td>\n",
              "    </tr>\n",
              "    <tr>\n",
              "      <th>4</th>\n",
              "      <td>3.98</td>\n",
              "      <td>3.83</td>\n",
              "      <td>3.64</td>\n",
              "      <td>3.87</td>\n",
              "      <td>0</td>\n",
              "    </tr>\n",
              "  </tbody>\n",
              "</table>\n",
              "</div>"
            ],
            "text/plain": [
              "    IP1   IP2   IP3  Average  Predikat\n",
              "0  3.36  2.11  3.09     2.84         2\n",
              "1  3.61  3.66  3.61     3.75         0\n",
              "2  3.63  3.95  3.76     3.79         0\n",
              "3  3.51  3.62  3.98     3.69         0\n",
              "4  3.98  3.83  3.64     3.87         0"
            ]
          },
          "metadata": {
            "tags": []
          },
          "execution_count": 59
        }
      ]
    },
    {
      "cell_type": "code",
      "metadata": {
        "colab": {
          "base_uri": "https://localhost:8080/"
        },
        "id": "lXx2I7WZ7sTM",
        "outputId": "37e06c91-eb33-47e6-fdb9-8094406fe3d4"
      },
      "source": [
        "df.Predikat.unique()"
      ],
      "execution_count": 60,
      "outputs": [
        {
          "output_type": "execute_result",
          "data": {
            "text/plain": [
              "array([2, 0, 1, 3])"
            ]
          },
          "metadata": {
            "tags": []
          },
          "execution_count": 60
        }
      ]
    },
    {
      "cell_type": "markdown",
      "metadata": {
        "id": "rXBkDwWP7sTM"
      },
      "source": [
        "Keterangan:\n",
        "* Cumlaude: 0\n",
        "* Memuaskan: 1\n",
        "* Sangat Memuaskan: 2\n",
        "* Tidak Lulus: 3"
      ]
    },
    {
      "cell_type": "code",
      "metadata": {
        "colab": {
          "base_uri": "https://localhost:8080/"
        },
        "id": "cHvI0-ek7sTM",
        "outputId": "ce332db0-2f93-40f1-c57b-6970ff2284b1"
      },
      "source": [
        "df.Predikat.value_counts()"
      ],
      "execution_count": 61,
      "outputs": [
        {
          "output_type": "execute_result",
          "data": {
            "text/plain": [
              "2    3974\n",
              "1    3609\n",
              "0    1666\n",
              "3     751\n",
              "Name: Predikat, dtype: int64"
            ]
          },
          "metadata": {
            "tags": []
          },
          "execution_count": 61
        }
      ]
    },
    {
      "cell_type": "markdown",
      "metadata": {
        "id": "cvJTpeas7sTM"
      },
      "source": [
        "### Predict"
      ]
    },
    {
      "cell_type": "code",
      "metadata": {
        "id": "2_VSG1-Q7sTM"
      },
      "source": [
        "from sklearn.model_selection import train_test_split"
      ],
      "execution_count": 62,
      "outputs": []
    },
    {
      "cell_type": "code",
      "metadata": {
        "id": "9Ggk8JhL7sTM"
      },
      "source": [
        "X = df.drop(['Average', 'Predikat'], axis=1)\n",
        "y = df['Predikat']"
      ],
      "execution_count": 63,
      "outputs": []
    },
    {
      "cell_type": "code",
      "metadata": {
        "id": "2qButbRR7sTM"
      },
      "source": [
        "X_train, X_test, y_train, y_test = train_test_split(X, y, test_size=0.2, \n",
        "                                                    random_state=42)"
      ],
      "execution_count": 64,
      "outputs": []
    },
    {
      "cell_type": "markdown",
      "metadata": {
        "id": "I6V8H2Tz7sTM"
      },
      "source": [
        "### SVM"
      ]
    },
    {
      "cell_type": "code",
      "metadata": {
        "colab": {
          "base_uri": "https://localhost:8080/"
        },
        "id": "12yRKvZ47sTM",
        "outputId": "659608e9-bed3-41a0-a7a9-01473e614d9d"
      },
      "source": [
        "from sklearn.svm import SVC\n",
        "\n",
        "svm = SVC(gamma=\"auto\")\n",
        "svm.fit(X_train, y_train)"
      ],
      "execution_count": 65,
      "outputs": [
        {
          "output_type": "execute_result",
          "data": {
            "text/plain": [
              "SVC(C=1.0, break_ties=False, cache_size=200, class_weight=None, coef0=0.0,\n",
              "    decision_function_shape='ovr', degree=3, gamma='auto', kernel='rbf',\n",
              "    max_iter=-1, probability=False, random_state=None, shrinking=True,\n",
              "    tol=0.001, verbose=False)"
            ]
          },
          "metadata": {
            "tags": []
          },
          "execution_count": 65
        }
      ]
    },
    {
      "cell_type": "code",
      "metadata": {
        "id": "5zP9bgeN7sTN"
      },
      "source": [
        "y_pred = svm.predict(X_test)"
      ],
      "execution_count": 66,
      "outputs": []
    },
    {
      "cell_type": "code",
      "metadata": {
        "colab": {
          "base_uri": "https://localhost:8080/"
        },
        "id": "I4y4rXIb7sTN",
        "outputId": "143c02ce-2b5d-4932-f547-82cbd3b8413e"
      },
      "source": [
        "test_acc(svm)"
      ],
      "execution_count": 67,
      "outputs": [
        {
          "output_type": "stream",
          "text": [
            "SVC(C=1.0, break_ties=False, cache_size=200, class_weight=None, coef0=0.0,\n",
            "    decision_function_shape='ovr', degree=3, gamma='auto', kernel='rbf',\n",
            "    max_iter=-1, probability=False, random_state=None, shrinking=True,\n",
            "    tol=0.001, verbose=False) score\n",
            "\n",
            "\n",
            "Classification Report:\n",
            "              precision    recall  f1-score   support\n",
            "\n",
            "           0       0.91      0.94      0.92       334\n",
            "           1       0.72      0.74      0.73       699\n",
            "           2       0.78      0.84      0.81       821\n",
            "           3       0.78      0.29      0.43       146\n",
            "\n",
            "    accuracy                           0.78      2000\n",
            "   macro avg       0.80      0.70      0.72      2000\n",
            "weighted avg       0.78      0.78      0.77      2000\n",
            "\n",
            "\n",
            "\n",
            "Confusion Matrix:\n",
            "[[313   0  21   0]\n",
            " [  1 515 171  12]\n",
            " [ 31  97 693   0]\n",
            " [  0 103   0  43]]\n",
            "\n",
            "\n",
            "Accuracy Score:\n",
            "0.782\n"
          ],
          "name": "stdout"
        }
      ]
    },
    {
      "cell_type": "markdown",
      "metadata": {
        "id": "8DSuT47f7sTN"
      },
      "source": [
        "### Export Semester 3"
      ]
    },
    {
      "cell_type": "code",
      "metadata": {
        "id": "1Tpf4fr17sTN"
      },
      "source": [
        "pickle.dump(svm, open(\"Semester3.pkl\", 'wb'))"
      ],
      "execution_count": 68,
      "outputs": []
    },
    {
      "cell_type": "code",
      "metadata": {
        "id": "cnLSGrrg7sTN"
      },
      "source": [
        "del svm"
      ],
      "execution_count": 69,
      "outputs": []
    },
    {
      "cell_type": "code",
      "metadata": {
        "id": "ImHNzntW7sTN"
      },
      "source": [
        "model = pickle.load(open(\"Semester3.pkl\", \"rb\"))"
      ],
      "execution_count": 70,
      "outputs": []
    },
    {
      "cell_type": "code",
      "metadata": {
        "colab": {
          "base_uri": "https://localhost:8080/"
        },
        "id": "7JsVAFP97sTN",
        "outputId": "6326cdbc-7819-4dc6-dfbb-b63eda1d6f43"
      },
      "source": [
        "y_example = model.predict([[3.9, 3.6, 3.6]])\n",
        "y_example"
      ],
      "execution_count": 72,
      "outputs": [
        {
          "output_type": "execute_result",
          "data": {
            "text/plain": [
              "array([0])"
            ]
          },
          "metadata": {
            "tags": []
          },
          "execution_count": 72
        }
      ]
    },
    {
      "cell_type": "markdown",
      "metadata": {
        "id": "fdiLznpZi5UM"
      },
      "source": [
        "## Catatan\n",
        "\n",
        "Bagian ini merupakan bagian untuk membuat prediksi pada program studi diploma (D3)"
      ]
    }
  ]
}