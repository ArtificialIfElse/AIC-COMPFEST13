{
  "nbformat": 4,
  "nbformat_minor": 0,
  "metadata": {
    "accelerator": "GPU",
    "colab": {
      "name": "Paper_Topic_Predictions.ipynb",
      "provenance": [],
      "collapsed_sections": []
    },
    "kernelspec": {
      "display_name": "Python 3",
      "name": "python3"
    },
    "language_info": {
      "name": "python"
    }
  },
  "cells": [
    {
      "cell_type": "markdown",
      "metadata": {
        "id": "sEd3pARY4yY4"
      },
      "source": [
        "## Paper Topic Prediction\n"
      ]
    },
    {
      "cell_type": "code",
      "metadata": {
        "id": "jIaYjyNc4iQk"
      },
      "source": [
        "from google.colab import files\n",
        "from google.colab import drive"
      ],
      "execution_count": null,
      "outputs": []
    },
    {
      "cell_type": "code",
      "metadata": {
        "colab": {
          "base_uri": "https://localhost:8080/"
        },
        "id": "5DxUDqnn4_HM",
        "outputId": "eed61a08-12c3-40ba-ff9a-e52573e117ef"
      },
      "source": [
        "drive.mount('/content/drive')"
      ],
      "execution_count": null,
      "outputs": [
        {
          "name": "stdout",
          "output_type": "stream",
          "text": [
            "Mounted at /content/drive\n"
          ]
        }
      ]
    },
    {
      "cell_type": "code",
      "metadata": {
        "colab": {
          "base_uri": "https://localhost:8080/"
        },
        "id": "v0IEIvKwQM-T",
        "outputId": "f8472574-f354-421d-95af-edc2f1a7d97c"
      },
      "source": [
        "%cd /content/drive/MyDrive/ai_contest/paper/test2/"
      ],
      "execution_count": null,
      "outputs": [
        {
          "name": "stdout",
          "output_type": "stream",
          "text": [
            "/content/drive/MyDrive/ai_contest/paper/test2\n"
          ]
        }
      ]
    },
    {
      "cell_type": "code",
      "metadata": {
        "colab": {
          "base_uri": "https://localhost:8080/"
        },
        "id": "a0hGXbYWQmIs",
        "outputId": "780f8674-0cb6-4371-d504-3aedb37d7ec1"
      },
      "source": [
        "!ls"
      ],
      "execution_count": null,
      "outputs": [
        {
          "name": "stdout",
          "output_type": "stream",
          "text": [
            "arxivData.json\t\tdataset_paper.csv\t paper_renamed_topic.csv.csv\n",
            "arxivdataset.zip\tmanual.csv\t\t paper_summary.h5\n",
            "data_clean_final_2.csv\tpaper_cleaned.csv\t tokenizer_summary.pkl\n",
            "data_clean_final.csv\tpaper_one_topic.csv\n",
            "dataset\t\t\tpaper_renamed_topic.csv\n"
          ]
        }
      ]
    },
    {
      "cell_type": "markdown",
      "metadata": {
        "id": "q4PKpVeEQoeA"
      },
      "source": [
        "## Import modules"
      ]
    },
    {
      "cell_type": "code",
      "metadata": {
        "id": "05OIXdePQmpJ"
      },
      "source": [
        "import matplotlib.pyplot as plt\n",
        "import pandas as pd\n",
        "import numpy as np"
      ],
      "execution_count": null,
      "outputs": []
    },
    {
      "cell_type": "code",
      "metadata": {
        "id": "CMPyREokQy6y"
      },
      "source": [
        "data = pd.read_csv('dataset_paper.csv', index_col=False)"
      ],
      "execution_count": null,
      "outputs": []
    },
    {
      "cell_type": "code",
      "metadata": {
        "colab": {
          "base_uri": "https://localhost:8080/",
          "height": 205
        },
        "id": "OQUdQZ2SQ4wX",
        "outputId": "2c4f4ddc-9c96-4da8-9afe-a96b67dcefaf"
      },
      "source": [
        "data.head()"
      ],
      "execution_count": null,
      "outputs": [
        {
          "data": {
            "text/html": [
              "<div>\n",
              "<style scoped>\n",
              "    .dataframe tbody tr th:only-of-type {\n",
              "        vertical-align: middle;\n",
              "    }\n",
              "\n",
              "    .dataframe tbody tr th {\n",
              "        vertical-align: top;\n",
              "    }\n",
              "\n",
              "    .dataframe thead th {\n",
              "        text-align: right;\n",
              "    }\n",
              "</style>\n",
              "<table border=\"1\" class=\"dataframe\">\n",
              "  <thead>\n",
              "    <tr style=\"text-align: right;\">\n",
              "      <th></th>\n",
              "      <th>title</th>\n",
              "      <th>abstract</th>\n",
              "      <th>topic</th>\n",
              "    </tr>\n",
              "  </thead>\n",
              "  <tbody>\n",
              "    <tr>\n",
              "      <th>0</th>\n",
              "      <td>Reconstructing Subject-Specific Effect Maps</td>\n",
              "      <td>predict model allow subjectspecif infer analyz...</td>\n",
              "      <td>Computer Science</td>\n",
              "    </tr>\n",
              "    <tr>\n",
              "      <th>1</th>\n",
              "      <td>Rotation Invariance Neural Network</td>\n",
              "      <td>rotat invari translat invari great valu imager...</td>\n",
              "      <td>Computer Science</td>\n",
              "    </tr>\n",
              "    <tr>\n",
              "      <th>2</th>\n",
              "      <td>Spherical polyharmonics and Poisson kernels fo...</td>\n",
              "      <td>introduc develop notion spheric polyharmon ana...</td>\n",
              "      <td>Math &amp; Stats</td>\n",
              "    </tr>\n",
              "    <tr>\n",
              "      <th>3</th>\n",
              "      <td>A finite element approximation for the stochas...</td>\n",
              "      <td>stochast landaulifshitzgilbert llg equat coupl...</td>\n",
              "      <td>Math &amp; Stats</td>\n",
              "    </tr>\n",
              "    <tr>\n",
              "      <th>4</th>\n",
              "      <td>Comparative study of Discrete Wavelet Transfor...</td>\n",
              "      <td>fouriertransform infrar ftir spectra sampl pla...</td>\n",
              "      <td>Computer Science</td>\n",
              "    </tr>\n",
              "  </tbody>\n",
              "</table>\n",
              "</div>"
            ],
            "text/plain": [
              "                                               title  ...             topic\n",
              "0        Reconstructing Subject-Specific Effect Maps  ...  Computer Science\n",
              "1                 Rotation Invariance Neural Network  ...  Computer Science\n",
              "2  Spherical polyharmonics and Poisson kernels fo...  ...      Math & Stats\n",
              "3  A finite element approximation for the stochas...  ...      Math & Stats\n",
              "4  Comparative study of Discrete Wavelet Transfor...  ...  Computer Science\n",
              "\n",
              "[5 rows x 3 columns]"
            ]
          },
          "execution_count": 7,
          "metadata": {},
          "output_type": "execute_result"
        }
      ]
    },
    {
      "cell_type": "code",
      "metadata": {
        "colab": {
          "base_uri": "https://localhost:8080/"
        },
        "id": "woW6RScKQ9xo",
        "outputId": "b7af19a2-5312-459c-a859-100944bcc9d9"
      },
      "source": [
        "data.topic.value_counts()"
      ],
      "execution_count": null,
      "outputs": [
        {
          "data": {
            "text/plain": [
              "AI/ML               12815\n",
              "Computer Vision     11728\n",
              "Computer Science    11594\n",
              "Math & Stats        10001\n",
              "Physics              7899\n",
              "Others               3427\n",
              "Name: topic, dtype: int64"
            ]
          },
          "execution_count": 8,
          "metadata": {},
          "output_type": "execute_result"
        }
      ]
    },
    {
      "cell_type": "code",
      "metadata": {
        "colab": {
          "base_uri": "https://localhost:8080/",
          "height": 365
        },
        "id": "SyyuA4MhRApw",
        "outputId": "68069fa0-cf8e-45ff-d74a-36f446209003"
      },
      "source": [
        "data.topic.value_counts().plot(kind='bar')"
      ],
      "execution_count": null,
      "outputs": [
        {
          "data": {
            "text/plain": [
              "<matplotlib.axes._subplots.AxesSubplot at 0x7fca132d4a90>"
            ]
          },
          "execution_count": 9,
          "metadata": {},
          "output_type": "execute_result"
        },
        {
          "data": {
            "image/png": "[encoded data removed]",
            "text/plain": [
              "<Figure size 432x288 with 1 Axes>"
            ]
          },
          "metadata": {},
          "output_type": "display_data"
        }
      ]
    },
    {
      "cell_type": "code",
      "metadata": {
        "id": "7LZmBiKTQ527"
      },
      "source": [
        "data = data[data.topic != 'Others']"
      ],
      "execution_count": null,
      "outputs": []
    },
    {
      "cell_type": "markdown",
      "metadata": {
        "id": "9KkqYFozRHgx"
      },
      "source": [
        "## Preprocessing"
      ]
    },
    {
      "cell_type": "markdown",
      "metadata": {
        "id": "yS76rxzkRJmp"
      },
      "source": [
        "### A. One Hot Encoding"
      ]
    },
    {
      "cell_type": "code",
      "metadata": {
        "colab": {
          "base_uri": "https://localhost:8080/",
          "height": 205
        },
        "id": "Uc2uaKVTt0to",
        "outputId": "ba5145ab-1107-4c92-9df8-85a9d5df43f9"
      },
      "source": [
        "category = pd.get_dummies(data.topic)\n",
        "df_new = pd.concat([data, category], axis=1)\n",
        "df_new = df_new.drop(columns='topic')\n",
        "df_new.head()"
      ],
      "execution_count": null,
      "outputs": [
        {
          "data": {
            "text/html": [
              "<div>\n",
              "<style scoped>\n",
              "    .dataframe tbody tr th:only-of-type {\n",
              "        vertical-align: middle;\n",
              "    }\n",
              "\n",
              "    .dataframe tbody tr th {\n",
              "        vertical-align: top;\n",
              "    }\n",
              "\n",
              "    .dataframe thead th {\n",
              "        text-align: right;\n",
              "    }\n",
              "</style>\n",
              "<table border=\"1\" class=\"dataframe\">\n",
              "  <thead>\n",
              "    <tr style=\"text-align: right;\">\n",
              "      <th></th>\n",
              "      <th>title</th>\n",
              "      <th>abstract</th>\n",
              "      <th>AI/ML</th>\n",
              "      <th>Computer Science</th>\n",
              "      <th>Computer Vision</th>\n",
              "      <th>Math &amp; Stats</th>\n",
              "      <th>Physics</th>\n",
              "    </tr>\n",
              "  </thead>\n",
              "  <tbody>\n",
              "    <tr>\n",
              "      <th>0</th>\n",
              "      <td>Reconstructing Subject-Specific Effect Maps</td>\n",
              "      <td>predict model allow subjectspecif infer analyz...</td>\n",
              "      <td>0</td>\n",
              "      <td>1</td>\n",
              "      <td>0</td>\n",
              "      <td>0</td>\n",
              "      <td>0</td>\n",
              "    </tr>\n",
              "    <tr>\n",
              "      <th>1</th>\n",
              "      <td>Rotation Invariance Neural Network</td>\n",
              "      <td>rotat invari translat invari great valu imager...</td>\n",
              "      <td>0</td>\n",
              "      <td>1</td>\n",
              "      <td>0</td>\n",
              "      <td>0</td>\n",
              "      <td>0</td>\n",
              "    </tr>\n",
              "    <tr>\n",
              "      <th>2</th>\n",
              "      <td>Spherical polyharmonics and Poisson kernels fo...</td>\n",
              "      <td>introduc develop notion spheric polyharmon ana...</td>\n",
              "      <td>0</td>\n",
              "      <td>0</td>\n",
              "      <td>0</td>\n",
              "      <td>1</td>\n",
              "      <td>0</td>\n",
              "    </tr>\n",
              "    <tr>\n",
              "      <th>3</th>\n",
              "      <td>A finite element approximation for the stochas...</td>\n",
              "      <td>stochast landaulifshitzgilbert llg equat coupl...</td>\n",
              "      <td>0</td>\n",
              "      <td>0</td>\n",
              "      <td>0</td>\n",
              "      <td>1</td>\n",
              "      <td>0</td>\n",
              "    </tr>\n",
              "    <tr>\n",
              "      <th>4</th>\n",
              "      <td>Comparative study of Discrete Wavelet Transfor...</td>\n",
              "      <td>fouriertransform infrar ftir spectra sampl pla...</td>\n",
              "      <td>0</td>\n",
              "      <td>1</td>\n",
              "      <td>0</td>\n",
              "      <td>0</td>\n",
              "      <td>0</td>\n",
              "    </tr>\n",
              "  </tbody>\n",
              "</table>\n",
              "</div>"
            ],
            "text/plain": [
              "                                               title  ... Physics\n",
              "0        Reconstructing Subject-Specific Effect Maps  ...       0\n",
              "1                 Rotation Invariance Neural Network  ...       0\n",
              "2  Spherical polyharmonics and Poisson kernels fo...  ...       0\n",
              "3  A finite element approximation for the stochas...  ...       0\n",
              "4  Comparative study of Discrete Wavelet Transfor...  ...       0\n",
              "\n",
              "[5 rows x 7 columns]"
            ]
          },
          "execution_count": 11,
          "metadata": {},
          "output_type": "execute_result"
        }
      ]
    },
    {
      "cell_type": "code",
      "metadata": {
        "colab": {
          "base_uri": "https://localhost:8080/"
        },
        "id": "bbdyXfoGwqH-",
        "outputId": "0473519e-1d47-443a-b4a2-35af95479298"
      },
      "source": [
        "from nltk.stem import PorterStemmer\n",
        "from nltk.corpus import stopwords\n",
        "import nltk\n",
        "import re\n",
        "\n",
        "nltk.download('stopwords')"
      ],
      "execution_count": null,
      "outputs": [
        {
          "name": "stdout",
          "output_type": "stream",
          "text": [
            "[nltk_data] Downloading package stopwords to /root/nltk_data...\n",
            "[nltk_data]   Unzipping corpora/stopwords.zip.\n"
          ]
        },
        {
          "data": {
            "text/plain": [
              "True"
            ]
          },
          "execution_count": 12,
          "metadata": {},
          "output_type": "execute_result"
        }
      ]
    },
    {
      "cell_type": "code",
      "metadata": {
        "id": "ASdlz54CwrYv"
      },
      "source": [
        "stemmer = PorterStemmer()\n",
        "\n",
        "STOPWORDS = set(stopwords.words('english'))\n",
        "\n",
        "def clean_text(text):\n",
        "    \"\"\"\n",
        "    text: a string\n",
        "    return: modified initial string\n",
        "    \"\"\"\n",
        "    # lowercase text\n",
        "    text = text.lower() \n",
        "\n",
        "    # replace REPLACE_BY_SPACE_RE symbols by space in text\n",
        "    text = re.compile('[/(){}\\[\\]\\|@,;]').sub(' ', text) \n",
        "    \n",
        "    # Remove the XXXX values\n",
        "    text = text.replace('x', '') \n",
        "    \n",
        "    # Remove white space\n",
        "    text = re.compile('[\\d+]').sub('', text)\n",
        "\n",
        "    #  delete symbols which are in BAD_SYMBOLS_RE from text\n",
        "    text = re.compile('[^0-9a-z #+_]').sub('', text) \n",
        "\n",
        "    # delete stopwords from text\n",
        "    text = ' '.join(word for word in text.split() if word not in STOPWORDS) \n",
        "    \n",
        "    # removes any words composed of less than 2 or more than 21 letters\n",
        "    #text = ' '.join(word for word in text.split() if (len(word) >= 2 and len(word) <= 21))\n",
        "\n",
        "    # remove single char\n",
        "    text = re.sub(r\"\\b[a-zA-Z]\\b\", \"\", text)\n",
        "\n",
        "    # Stemming the words\n",
        "    text = ' '.join([stemmer.stem(word) for word in text.split()])\n",
        "\n",
        "    # remove incomplete URL\n",
        "    text = text.replace(\"http://\", \" \").replace(\"https://\", \" \")\n",
        "    \n",
        "    return text\n",
        "    \n",
        "df_new[\"abstract\"] = df_new[\"abstract\"].apply(clean_text)"
      ],
      "execution_count": null,
      "outputs": []
    },
    {
      "cell_type": "markdown",
      "metadata": {
        "id": "6Eo-_uBytyif"
      },
      "source": [
        "### B. Pemisahan Features"
      ]
    },
    {
      "cell_type": "code",
      "metadata": {
        "colab": {
          "base_uri": "https://localhost:8080/",
          "height": 422
        },
        "id": "DgBchMvru1gH",
        "outputId": "04458745-e26f-44fe-b0a7-9869b0e8ef4c"
      },
      "source": [
        "df_new.iloc[:, 2:7]"
      ],
      "execution_count": null,
      "outputs": [
        {
          "data": {
            "text/html": [
              "<div>\n",
              "<style scoped>\n",
              "    .dataframe tbody tr th:only-of-type {\n",
              "        vertical-align: middle;\n",
              "    }\n",
              "\n",
              "    .dataframe tbody tr th {\n",
              "        vertical-align: top;\n",
              "    }\n",
              "\n",
              "    .dataframe thead th {\n",
              "        text-align: right;\n",
              "    }\n",
              "</style>\n",
              "<table border=\"1\" class=\"dataframe\">\n",
              "  <thead>\n",
              "    <tr style=\"text-align: right;\">\n",
              "      <th></th>\n",
              "      <th>AI/ML</th>\n",
              "      <th>Computer Science</th>\n",
              "      <th>Computer Vision</th>\n",
              "      <th>Math &amp; Stats</th>\n",
              "      <th>Physics</th>\n",
              "    </tr>\n",
              "  </thead>\n",
              "  <tbody>\n",
              "    <tr>\n",
              "      <th>0</th>\n",
              "      <td>0</td>\n",
              "      <td>1</td>\n",
              "      <td>0</td>\n",
              "      <td>0</td>\n",
              "      <td>0</td>\n",
              "    </tr>\n",
              "    <tr>\n",
              "      <th>1</th>\n",
              "      <td>0</td>\n",
              "      <td>1</td>\n",
              "      <td>0</td>\n",
              "      <td>0</td>\n",
              "      <td>0</td>\n",
              "    </tr>\n",
              "    <tr>\n",
              "      <th>2</th>\n",
              "      <td>0</td>\n",
              "      <td>0</td>\n",
              "      <td>0</td>\n",
              "      <td>1</td>\n",
              "      <td>0</td>\n",
              "    </tr>\n",
              "    <tr>\n",
              "      <th>3</th>\n",
              "      <td>0</td>\n",
              "      <td>0</td>\n",
              "      <td>0</td>\n",
              "      <td>1</td>\n",
              "      <td>0</td>\n",
              "    </tr>\n",
              "    <tr>\n",
              "      <th>4</th>\n",
              "      <td>0</td>\n",
              "      <td>1</td>\n",
              "      <td>0</td>\n",
              "      <td>0</td>\n",
              "      <td>0</td>\n",
              "    </tr>\n",
              "    <tr>\n",
              "      <th>...</th>\n",
              "      <td>...</td>\n",
              "      <td>...</td>\n",
              "      <td>...</td>\n",
              "      <td>...</td>\n",
              "      <td>...</td>\n",
              "    </tr>\n",
              "    <tr>\n",
              "      <th>56453</th>\n",
              "      <td>0</td>\n",
              "      <td>0</td>\n",
              "      <td>0</td>\n",
              "      <td>0</td>\n",
              "      <td>1</td>\n",
              "    </tr>\n",
              "    <tr>\n",
              "      <th>56454</th>\n",
              "      <td>0</td>\n",
              "      <td>0</td>\n",
              "      <td>0</td>\n",
              "      <td>0</td>\n",
              "      <td>1</td>\n",
              "    </tr>\n",
              "    <tr>\n",
              "      <th>56455</th>\n",
              "      <td>0</td>\n",
              "      <td>0</td>\n",
              "      <td>0</td>\n",
              "      <td>0</td>\n",
              "      <td>1</td>\n",
              "    </tr>\n",
              "    <tr>\n",
              "      <th>56456</th>\n",
              "      <td>0</td>\n",
              "      <td>0</td>\n",
              "      <td>0</td>\n",
              "      <td>0</td>\n",
              "      <td>1</td>\n",
              "    </tr>\n",
              "    <tr>\n",
              "      <th>56457</th>\n",
              "      <td>0</td>\n",
              "      <td>0</td>\n",
              "      <td>0</td>\n",
              "      <td>0</td>\n",
              "      <td>1</td>\n",
              "    </tr>\n",
              "  </tbody>\n",
              "</table>\n",
              "<p>54037 rows × 5 columns</p>\n",
              "</div>"
            ],
            "text/plain": [
              "       AI/ML  Computer Science  Computer Vision  Math & Stats  Physics\n",
              "0          0                 1                0             0        0\n",
              "1          0                 1                0             0        0\n",
              "2          0                 0                0             1        0\n",
              "3          0                 0                0             1        0\n",
              "4          0                 1                0             0        0\n",
              "...      ...               ...              ...           ...      ...\n",
              "56453      0                 0                0             0        1\n",
              "56454      0                 0                0             0        1\n",
              "56455      0                 0                0             0        1\n",
              "56456      0                 0                0             0        1\n",
              "56457      0                 0                0             0        1\n",
              "\n",
              "[54037 rows x 5 columns]"
            ]
          },
          "execution_count": 14,
          "metadata": {},
          "output_type": "execute_result"
        }
      ]
    },
    {
      "cell_type": "code",
      "metadata": {
        "id": "TmO7Bxy0tyTv"
      },
      "source": [
        "abstract = df_new['abstract']\n",
        "target = df_new.iloc[:, 2:7]"
      ],
      "execution_count": null,
      "outputs": []
    },
    {
      "cell_type": "code",
      "metadata": {
        "colab": {
          "base_uri": "https://localhost:8080/"
        },
        "id": "r8L2ZDT_w4nw",
        "outputId": "e922e112-c62a-47a8-9bd0-cee80093a24b"
      },
      "source": [
        "nltk.download('punkt')"
      ],
      "execution_count": null,
      "outputs": [
        {
          "name": "stdout",
          "output_type": "stream",
          "text": [
            "[nltk_data] Downloading package punkt to /root/nltk_data...\n",
            "[nltk_data]   Unzipping tokenizers/punkt.zip.\n"
          ]
        },
        {
          "data": {
            "text/plain": [
              "True"
            ]
          },
          "execution_count": 16,
          "metadata": {},
          "output_type": "execute_result"
        }
      ]
    },
    {
      "cell_type": "code",
      "metadata": {
        "colab": {
          "base_uri": "https://localhost:8080/"
        },
        "id": "Yoiur5ipcHYK",
        "outputId": "1db5b947-1d60-471a-cf00-7cfb6f1873e1"
      },
      "source": [
        "maxlen=-1\n",
        "for doc in abstract:\n",
        "    tokens=nltk.word_tokenize(doc)\n",
        "    if(maxlen<len(tokens)):\n",
        "        maxlen=len(tokens)\n",
        "print(\"Kata maksimal pada document yaitu: \", maxlen)"
      ],
      "execution_count": null,
      "outputs": [
        {
          "name": "stdout",
          "output_type": "stream",
          "text": [
            "Kata maksimal pada document yaitu:  290\n"
          ]
        }
      ]
    },
    {
      "cell_type": "markdown",
      "metadata": {
        "id": "ulbd2diHvESr"
      },
      "source": [
        "### C. Split Data"
      ]
    },
    {
      "cell_type": "code",
      "metadata": {
        "id": "azOycX0mTS4a"
      },
      "source": [
        "from sklearn.model_selection import train_test_split"
      ],
      "execution_count": null,
      "outputs": []
    },
    {
      "cell_type": "code",
      "metadata": {
        "id": "Kt1h8KG-pD1y"
      },
      "source": [
        "X_train, X_test, y_train, y_test = train_test_split(abstract, target, test_size=0.2)"
      ],
      "execution_count": null,
      "outputs": []
    },
    {
      "cell_type": "markdown",
      "metadata": {
        "id": "-cIa76CevR_g"
      },
      "source": [
        "### D. Tokenization"
      ]
    },
    {
      "cell_type": "code",
      "metadata": {
        "id": "LjqYLFwfpD78"
      },
      "source": [
        "from tensorflow.keras.preprocessing.text import Tokenizer\n",
        "\n",
        "tokenizer = Tokenizer(num_words=10000, oov_token='_')\n",
        "tokenizer.fit_on_texts(X_train)\n",
        "tokenizer.fit_on_texts(X_test)\n",
        "\n",
        "X_train_sequence = tokenizer.texts_to_sequences(X_train)\n",
        "X_test_sequence = tokenizer.texts_to_sequences(X_test)"
      ],
      "execution_count": null,
      "outputs": []
    },
    {
      "cell_type": "markdown",
      "metadata": {
        "id": "HZAEXVbovdaU"
      },
      "source": [
        "### E. Padding"
      ]
    },
    {
      "cell_type": "code",
      "metadata": {
        "id": "itga_G3Evbii"
      },
      "source": [
        "from tensorflow.keras.preprocessing.sequence import pad_sequences\n",
        "\n",
        "X_train_padded = pad_sequences(X_train_sequence)\n",
        "X_test_padded = pad_sequences(X_test_sequence)"
      ],
      "execution_count": null,
      "outputs": []
    },
    {
      "cell_type": "code",
      "metadata": {
        "colab": {
          "base_uri": "https://localhost:8080/"
        },
        "id": "OcCUSpYDvqwv",
        "outputId": "baa36a9d-c11c-4771-e098-831cf11d0728"
      },
      "source": [
        "len(X_train_padded[0])"
      ],
      "execution_count": null,
      "outputs": [
        {
          "data": {
            "text/plain": [
              "290"
            ]
          },
          "execution_count": 22,
          "metadata": {},
          "output_type": "execute_result"
        }
      ]
    },
    {
      "cell_type": "markdown",
      "metadata": {
        "id": "dRflbq4evyY4"
      },
      "source": [
        "### F. Embedding + LSTM"
      ]
    },
    {
      "cell_type": "code",
      "metadata": {
        "id": "IxAMqF5-vv3c"
      },
      "source": [
        "import tensorflow as tf\n",
        "\n",
        "model = tf.keras.Sequential([\n",
        "          tf.keras.layers.Embedding(input_dim=10000, output_dim=290),\n",
        "          # tf.keras.layers.Flatten(),\n",
        "          tf.keras.layers.LSTM(128, dropout=0.5),\n",
        "          # tf.keras.layers.Dense(128, activation='relu'),\n",
        "          # tf.keras.layers.Dropout(0.5),\n",
        "          tf.keras.layers.Dense(64, activation='relu'),\n",
        "          tf.keras.layers.Dropout(0.5),\n",
        "          # tf.keras.layers.Dense(32, activation='relu'),\n",
        "          # tf.keras.layers.Dropout(0.2),\n",
        "          tf.keras.layers.Dense(5, activation='softmax')\n",
        "        ])\n",
        "\n",
        "model.compile(optimizer='adam',\n",
        "              loss='categorical_crossentropy',\n",
        "              metrics=['accuracy'])"
      ],
      "execution_count": null,
      "outputs": []
    },
    {
      "cell_type": "code",
      "metadata": {
        "colab": {
          "base_uri": "https://localhost:8080/"
        },
        "id": "jO28nrDKwC0B",
        "outputId": "a5fb88e9-0c6c-46b5-97b9-1823be1362d1"
      },
      "source": [
        "model.summary()"
      ],
      "execution_count": null,
      "outputs": [
        {
          "name": "stdout",
          "output_type": "stream",
          "text": [
            "Model: \"sequential_2\"\n",
            "_________________________________________________________________\n",
            "Layer (type)                 Output Shape              Param #   \n",
            "=================================================================\n",
            "embedding_2 (Embedding)      (None, None, 290)         2900000   \n",
            "_________________________________________________________________\n",
            "lstm_2 (LSTM)                (None, 128)               214528    \n",
            "_________________________________________________________________\n",
            "dense_4 (Dense)              (None, 64)                8256      \n",
            "_________________________________________________________________\n",
            "dropout_2 (Dropout)          (None, 64)                0         \n",
            "_________________________________________________________________\n",
            "dense_5 (Dense)              (None, 5)                 325       \n",
            "=================================================================\n",
            "Total params: 3,123,109\n",
            "Trainable params: 3,123,109\n",
            "Non-trainable params: 0\n",
            "_________________________________________________________________\n"
          ]
        }
      ]
    },
    {
      "cell_type": "code",
      "metadata": {
        "id": "nXsG3ccvwFnh"
      },
      "source": [
        "class myCallback(tf.keras.callbacks.Callback):\n",
        "  def on_epoch_end(self, epoch, logs={}):\n",
        "    if(logs.get('val_accuracy') > 0.72):\n",
        "      print(\"\\nValidasi Akurasi telah mencapai > 72%\")\n",
        "      self.model.stop_training = True\n",
        "\n",
        "callbacks= myCallback()"
      ],
      "execution_count": null,
      "outputs": []
    },
    {
      "cell_type": "code",
      "metadata": {
        "colab": {
          "background_save": true,
          "base_uri": "https://localhost:8080/"
        },
        "id": "oWn-WuCrwKur",
        "outputId": "25b7e8fc-8d89-4515-b8f3-a085f41fdada"
      },
      "source": [
        "epoch=50\n",
        "\n",
        "history = model.fit(X_train_padded, y_train, epochs=epoch,\n",
        "                    validation_data=(X_test_padded, y_test),\n",
        "                    batch_size=64, callbacks=[callbacks])"
      ],
      "execution_count": null,
      "outputs": [
        {
          "name": "stdout",
          "output_type": "stream",
          "text": [
            "Epoch 1/50\n",
            "676/676 [==============================] - 692s 1s/step - loss: 1.1268 - accuracy: 0.5536 - val_loss: 0.8651 - val_accuracy: 0.6924\n",
            "Epoch 2/50\n",
            "676/676 [==============================] - 646s 955ms/step - loss: 0.8150 - accuracy: 0.7228 - val_loss: 0.8369 - val_accuracy: 0.7145\n",
            "Epoch 3/50\n",
            "676/676 [==============================] - 709s 1s/step - loss: 0.7095 - accuracy: 0.7598 - val_loss: 0.8303 - val_accuracy: 0.7187\n",
            "Epoch 4/50\n",
            "676/676 [==============================] - 676s 1s/step - loss: 0.6425 - accuracy: 0.7824 - val_loss: 0.8231 - val_accuracy: 0.7253\n",
            "Epoch 5/50\n",
            "676/676 [==============================] - 672s 994ms/step - loss: 0.5744 - accuracy: 0.8037 - val_loss: 0.8512 - val_accuracy: 0.7200\n",
            "Epoch 6/50\n",
            "676/676 [==============================] - 698s 1s/step - loss: 0.5046 - accuracy: 0.8247 - val_loss: 0.9016 - val_accuracy: 0.7060\n",
            "Epoch 7/50\n",
            "676/676 [==============================] - 749s 1s/step - loss: 0.4486 - accuracy: 0.8448 - val_loss: 1.0250 - val_accuracy: 0.6956\n",
            "Epoch 8/50\n",
            "676/676 [==============================] - 685s 1s/step - loss: 0.3977 - accuracy: 0.8640 - val_loss: 1.0694 - val_accuracy: 0.7047\n",
            "Epoch 9/50\n",
            "676/676 [==============================] - 706s 1s/step - loss: 0.3514 - accuracy: 0.8798 - val_loss: 1.1546 - val_accuracy: 0.6988\n",
            "Epoch 10/50\n",
            "676/676 [==============================] - 685s 1s/step - loss: 0.3003 - accuracy: 0.8953 - val_loss: 1.2717 - val_accuracy: 0.6970\n",
            "Epoch 11/50\n",
            "676/676 [==============================] - 653s 966ms/step - loss: 0.2604 - accuracy: 0.9101 - val_loss: 1.3322 - val_accuracy: 0.6898\n",
            "Epoch 12/50\n",
            "676/676 [==============================] - 651s 963ms/step - loss: 0.2321 - accuracy: 0.9204 - val_loss: 1.4610 - val_accuracy: 0.6933\n",
            "Epoch 13/50\n",
            "676/676 [==============================] - 653s 966ms/step - loss: 0.2035 - accuracy: 0.9310 - val_loss: 1.5426 - val_accuracy: 0.6962\n",
            "Epoch 14/50\n",
            "138/676 [=====>........................] - ETA: 8:06 - loss: 0.1583 - accuracy: 0.9479"
          ]
        }
      ]
    },
    {
      "cell_type": "code",
      "metadata": {
        "colab": {
          "base_uri": "https://localhost:8080/",
          "height": 513
        },
        "id": "ZG-YFpjDSjdF",
        "outputId": "d8c2ef27-1788-4d79-e560-f7e04764efc0"
      },
      "source": [
        "plt.figure(figsize=(12,8))\n",
        "plt.plot(history.history['val_accuracy'])\n",
        "plt.plot(history.history['accuracy'])\n",
        "plt.plot(history.history['val_loss'])\n",
        "plt.plot(history.history['loss'])\n",
        "plt.title('Grafik Akurasi dan Loss')\n",
        "plt.ylabel('accuracy')\n",
        "plt.xlabel('epoch')\n",
        "plt.legend(['val_accuracy', 'accuracy', 'val_loss', 'loss'], loc='right')\n",
        "plt.show()"
      ],
      "execution_count": null,
      "outputs": [
        {
          "data": {
            "image/png": "[encoded data removed]",
            "text/plain": [
              "<Figure size 864x576 with 1 Axes>"
            ]
          },
          "metadata": {},
          "output_type": "display_data"
        }
      ]
    },
    {
      "cell_type": "markdown",
      "metadata": {
        "id": "5a5qk3PPsxwr"
      },
      "source": [
        "## Prediksi"
      ]
    },
    {
      "cell_type": "code",
      "metadata": {
        "colab": {
          "base_uri": "https://localhost:8080/"
        },
        "id": "gltRcD40suCm",
        "outputId": "aeeaf6b0-9add-4388-f5d0-113140068649"
      },
      "source": [
        "X_train_padded[0]"
      ],
      "execution_count": null,
      "outputs": [
        {
          "data": {
            "text/plain": [
              "array([   0,    0,    0,    0,    0,    0,    0,    0,    0,    0,    0,\n",
              "          0,    0,    0,    0,    0,    0,    0,    0,    0,    0,    0,\n",
              "          0,    0,    0,    0,    0,    0,    0,    0,    0,    0,    0,\n",
              "          0,    0,    0,    0,    0,    0,    0,    0,    0,    0,    0,\n",
              "          0,    0,    0,    0,    0,    0,    0,    0,    0,    0,    0,\n",
              "          0,    0,    0,    0,    0,    0,    0,    0,    0,    0,    0,\n",
              "          0,    0,    0,    0,    0,    0,    0,    0,    0,    0,    0,\n",
              "          0,    0,    0,    0,    0,    0,    0,    0,    0,    0,    0,\n",
              "          0,    0,    0,    0,    0,    0,    0,    0,    0,    0,    0,\n",
              "          0,    0,    0,    0,    0,    0,    0,    0,    0,    0,    0,\n",
              "          0,    0,    0,    0,    0,    0,    0,    0,    0,    0,    0,\n",
              "          0,    0,    0,    0,    0,    0,    0,    0,    0,    0,    0,\n",
              "          0,    0,    0,    0,    0,    0,    0,    0,    0,    0,    0,\n",
              "          0,    0,    0,    0,    0,    0,    0,    0,    0,    0,    0,\n",
              "          0,    0,    0,    0,    0,    0,    0,    0,    0,    0,    0,\n",
              "          0,    0,    0,   21,   11, 8806,   36,    1,    1,    1, 2696,\n",
              "       1006, 4087,  259,    1,   76,    1, 9974,   11,   54, 7429, 7430,\n",
              "          1,    1,  351,  257,  422, 2105,  630,    1,   71, 2049,    1,\n",
              "          1,  141,  975,  814, 6721,  885,  751, 2610,    1, 8553,   10,\n",
              "        562,  512, 2686,    1,  144,  212,  391,    1,  357, 3052, 3326,\n",
              "        256, 1675,  334,  982, 8320, 1814,    1,  844,  212,  624, 1498,\n",
              "        136,  569,    1,  621,  157, 1500,  136,  592,    1,  855,    1,\n",
              "       1675,  334,  242,    1, 6615,    1,  434, 1526, 4059, 1636, 2527,\n",
              "       1493,  460, 1444, 9975,  621,  416, 2031, 4087, 6615,    1,  367,\n",
              "       2686,  775, 8554, 4087,    1, 1526, 3598,   57,  939,    1, 8806,\n",
              "          1,  102,  153,  496,  259,   52,  505,    1,    1, 3915,    3,\n",
              "        132,    1, 4287, 1126], dtype=int32)"
            ]
          },
          "execution_count": 33,
          "metadata": {},
          "output_type": "execute_result"
        }
      ]
    },
    {
      "cell_type": "code",
      "metadata": {
        "colab": {
          "base_uri": "https://localhost:8080/",
          "height": 108
        },
        "id": "xSBefsl3szx9",
        "outputId": "828d9851-fa60-49d7-8987-4897a8d7b7de"
      },
      "source": [
        "data.abstract.loc[5]"
      ],
      "execution_count": null,
      "outputs": [
        {
          "data": {
            "application/vnd.google.colaboratory.intrinsic+json": {
              "type": "string"
            },
            "text/plain": [
              "'let omega subset mathbb bound domain satisfi ahaymantyp asymmetri condit let arbitrari bound domainref obstacl interest behaviour firstdirichlet eigenvalu lambda_ omega setminu first prove anupp bound lambda_ omega setminu term distanceof set set maimum point _ first dirichletground state phi_ lambda_ omega short directcorollari begin equat mu_omega ma_ lambda_ omegasetminu end equat larg enough term lambda_ omega maimiz set mu_omega close maimumpoint _ phi_ lambda_ second discuss distribut phi_ lambda_ omega theposs inscrib wavelength ball given point omega final specifi observ conv obstacl show thatif mu_omega suffici larg respect lambda_ omega maimiz mu_omega contain maimum point _ phi_ lambda_ omega'"
            ]
          },
          "execution_count": 49,
          "metadata": {},
          "output_type": "execute_result"
        }
      ]
    },
    {
      "cell_type": "code",
      "metadata": {
        "id": "P1DJ3u37s1vj"
      },
      "source": [
        "new_abstr = ['let omega subset mathbb bound domain satisfi ahaymantyp asymmetri condit let arbitrari bound domainref obstacl interest behaviour firstdirichlet eigenvalu lambda_ omega setminu first prove anupp bound lambda_ omega setminu term distanceof set set maimum point _ first dirichletground state phi_ lambda_ omega short directcorollari begin equat mu_omega ma_ lambda_ omegasetminu end equat larg enough term lambda_ omega maimiz set mu_omega close maimumpoint _ phi_ lambda_ second discuss distribut phi_ lambda_ omega theposs inscrib wavelength ball given point omega final specifi observ conv obstacl show thatif mu_omega suffici larg respect lambda_ omega maimiz mu_omega contain maimum point _ phi_ lambda_ omega']"
      ],
      "execution_count": null,
      "outputs": []
    },
    {
      "cell_type": "code",
      "metadata": {
        "id": "c320SwXqs5wu"
      },
      "source": [
        "seq = tokenizer.texts_to_sequences(new_abstr)"
      ],
      "execution_count": null,
      "outputs": []
    },
    {
      "cell_type": "code",
      "metadata": {
        "id": "fi01rbgBs8gN"
      },
      "source": [
        "padded = pad_sequences(seq, maxlen=10000)"
      ],
      "execution_count": null,
      "outputs": []
    },
    {
      "cell_type": "code",
      "metadata": {
        "id": "ktk8shbls9sJ"
      },
      "source": [
        "pred = model.predict(padded)"
      ],
      "execution_count": null,
      "outputs": []
    },
    {
      "cell_type": "code",
      "metadata": {
        "colab": {
          "base_uri": "https://localhost:8080/"
        },
        "id": "_3FNqt_-tAF0",
        "outputId": "a9470fa2-525d-4e74-d485-c32958d49fd6"
      },
      "source": [
        "pred"
      ],
      "execution_count": null,
      "outputs": [
        {
          "data": {
            "text/plain": [
              "array([[9.1680000e-03, 1.6252404e-02, 2.0396407e-04, 9.4992971e-01,\n",
              "        2.4445860e-02]], dtype=float32)"
            ]
          },
          "execution_count": 54,
          "metadata": {},
          "output_type": "execute_result"
        }
      ]
    },
    {
      "cell_type": "code",
      "metadata": {
        "colab": {
          "base_uri": "https://localhost:8080/"
        },
        "id": "VnGPf-nOtBU4",
        "outputId": "62479a48-ae0c-4766-fb78-7d79a03fd550"
      },
      "source": [
        "data.topic.unique()"
      ],
      "execution_count": null,
      "outputs": [
        {
          "data": {
            "text/plain": [
              "array(['Computer Science', 'Math & Stats', 'Physics', 'AI/ML',\n",
              "       'Computer Vision'], dtype=object)"
            ]
          },
          "execution_count": 55,
          "metadata": {},
          "output_type": "execute_result"
        }
      ]
    },
    {
      "cell_type": "code",
      "metadata": {
        "colab": {
          "base_uri": "https://localhost:8080/",
          "height": 205
        },
        "id": "_jP5aruDtDwC",
        "outputId": "4c51dd8a-11b7-4d8c-c641-1543aa0f5707"
      },
      "source": [
        "df_new.head()"
      ],
      "execution_count": null,
      "outputs": [
        {
          "data": {
            "text/html": [
              "<div>\n",
              "<style scoped>\n",
              "    .dataframe tbody tr th:only-of-type {\n",
              "        vertical-align: middle;\n",
              "    }\n",
              "\n",
              "    .dataframe tbody tr th {\n",
              "        vertical-align: top;\n",
              "    }\n",
              "\n",
              "    .dataframe thead th {\n",
              "        text-align: right;\n",
              "    }\n",
              "</style>\n",
              "<table border=\"1\" class=\"dataframe\">\n",
              "  <thead>\n",
              "    <tr style=\"text-align: right;\">\n",
              "      <th></th>\n",
              "      <th>title</th>\n",
              "      <th>abstract</th>\n",
              "      <th>AI/ML</th>\n",
              "      <th>Computer Science</th>\n",
              "      <th>Computer Vision</th>\n",
              "      <th>Math &amp; Stats</th>\n",
              "      <th>Physics</th>\n",
              "    </tr>\n",
              "  </thead>\n",
              "  <tbody>\n",
              "    <tr>\n",
              "      <th>0</th>\n",
              "      <td>Reconstructing Subject-Specific Effect Maps</td>\n",
              "      <td>predict model allow subjectspecif infer analyz...</td>\n",
              "      <td>0</td>\n",
              "      <td>1</td>\n",
              "      <td>0</td>\n",
              "      <td>0</td>\n",
              "      <td>0</td>\n",
              "    </tr>\n",
              "    <tr>\n",
              "      <th>1</th>\n",
              "      <td>Rotation Invariance Neural Network</td>\n",
              "      <td>rotat invari translat invari great valu imager...</td>\n",
              "      <td>0</td>\n",
              "      <td>1</td>\n",
              "      <td>0</td>\n",
              "      <td>0</td>\n",
              "      <td>0</td>\n",
              "    </tr>\n",
              "    <tr>\n",
              "      <th>2</th>\n",
              "      <td>Spherical polyharmonics and Poisson kernels fo...</td>\n",
              "      <td>introduc develop notion spheric polyharmon ana...</td>\n",
              "      <td>0</td>\n",
              "      <td>0</td>\n",
              "      <td>0</td>\n",
              "      <td>1</td>\n",
              "      <td>0</td>\n",
              "    </tr>\n",
              "    <tr>\n",
              "      <th>3</th>\n",
              "      <td>A finite element approximation for the stochas...</td>\n",
              "      <td>stochast landaulifshitzgilbert llg equat coupl...</td>\n",
              "      <td>0</td>\n",
              "      <td>0</td>\n",
              "      <td>0</td>\n",
              "      <td>1</td>\n",
              "      <td>0</td>\n",
              "    </tr>\n",
              "    <tr>\n",
              "      <th>4</th>\n",
              "      <td>Comparative study of Discrete Wavelet Transfor...</td>\n",
              "      <td>fouriertransform infrar ftir spectra sampl pla...</td>\n",
              "      <td>0</td>\n",
              "      <td>1</td>\n",
              "      <td>0</td>\n",
              "      <td>0</td>\n",
              "      <td>0</td>\n",
              "    </tr>\n",
              "  </tbody>\n",
              "</table>\n",
              "</div>"
            ],
            "text/plain": [
              "                                               title  ... Physics\n",
              "0        Reconstructing Subject-Specific Effect Maps  ...       0\n",
              "1                 Rotation Invariance Neural Network  ...       0\n",
              "2  Spherical polyharmonics and Poisson kernels fo...  ...       0\n",
              "3  A finite element approximation for the stochas...  ...       0\n",
              "4  Comparative study of Discrete Wavelet Transfor...  ...       0\n",
              "\n",
              "[5 rows x 7 columns]"
            ]
          },
          "execution_count": 56,
          "metadata": {},
          "output_type": "execute_result"
        }
      ]
    },
    {
      "cell_type": "code",
      "metadata": {
        "id": "tUxZWIiEtG7r"
      },
      "source": [
        "topic = ['AI/ML',\t'Computer Science',\t'Computer Vision',\t'Math & Stats',\t'Physics']"
      ],
      "execution_count": null,
      "outputs": []
    },
    {
      "cell_type": "code",
      "metadata": {
        "colab": {
          "base_uri": "https://localhost:8080/"
        },
        "id": "KvpB033DtUPb",
        "outputId": "fea9dbeb-cb6a-40b1-d274-c7f2b550cd61"
      },
      "source": [
        "print(topic[np.argmax(pred)])"
      ],
      "execution_count": null,
      "outputs": [
        {
          "name": "stdout",
          "output_type": "stream",
          "text": [
            "Math & Stats\n"
          ]
        }
      ]
    },
    {
      "cell_type": "code",
      "metadata": {
        "colab": {
          "base_uri": "https://localhost:8080/"
        },
        "id": "uYGo24ZAtVqU",
        "outputId": "af7b2ede-0979-4fd2-8ab0-ba7c47a22b2b"
      },
      "source": [
        "data.loc[5]"
      ],
      "execution_count": null,
      "outputs": [
        {
          "data": {
            "text/plain": [
              "title       On maximizing the fundamental frequency of the...\n",
              "abstract    let omega subset mathbb bound domain satisfi a...\n",
              "topic                                            Math & Stats\n",
              "Name: 5, dtype: object"
            ]
          },
          "execution_count": 59,
          "metadata": {},
          "output_type": "execute_result"
        }
      ]
    },
    {
      "cell_type": "code",
      "metadata": {
        "id": "9RVoEbmItcWK"
      },
      "source": [
        "def get_category(abstract):\n",
        "  abstract = tokenizer.texts_to_sequences(abstract)\n",
        "  abstract = pad_sequences(abstract, maxlen=10000)\n",
        "  prediction = model.predict(abstract)\n",
        "  print(np.argmax(prediction))\n",
        "  print(topic[np.argmax(prediction)])"
      ],
      "execution_count": null,
      "outputs": []
    },
    {
      "cell_type": "code",
      "metadata": {
        "colab": {
          "base_uri": "https://localhost:8080/"
        },
        "id": "cna95suDtpm3",
        "outputId": "e3718e93-450e-469c-869f-a4234e1cee2d"
      },
      "source": [
        "text = \"In this paper, we propose a general meta learning approach to computing approximate Nash equilibrium for finite n-player normal-form games. Unlike existing solutions that approximate or learn a Nash equilibrium from scratch for each of the games, our meta solver directly constructs a mapping from a game utility matrix to a joint strategy profile. The mapping is parameterized and learned in a self-supervised fashion by a proposed Nash equilibrium approximation metric without ground truth data informing any Nash equilibrium. As such, it can immediately predict the joint strategy profile that approximates a Nash equilibrium for any unseen new game under the same game distribution. Moreover, the meta-solver can be further fine-tuned and adaptive to a new game if iteration updates are allowed. We theoretically prove that our meta-solver is not affected by the non-smoothness of exact Nash equilibrium solutions, and derive a sample complexity bound to demonstrate its generalization ability across normal-form games. Experimental results demonstrate its substantial approximation power against other strong baselines in both adaptive and non-adaptive cases.\"\n",
        "get_category([text])"
      ],
      "execution_count": null,
      "outputs": [
        {
          "name": "stdout",
          "output_type": "stream",
          "text": [
            "3\n",
            "Math & Stats\n"
          ]
        }
      ]
    },
    {
      "cell_type": "code",
      "metadata": {
        "colab": {
          "base_uri": "https://localhost:8080/"
        },
        "id": "jdPQaJQ9tqps",
        "outputId": "44d18aad-4346-4b5e-bac2-f2a9b34550b1"
      },
      "source": [
        "text = \"\"\"Let G be a complex reductive group and V a G-module. There is a natural moment mapping μ:V⊕V∗→g∗ and we denote μ−1(0) (the shell) by N. We find criteria for N to have rational singularities and for the categorical quotient N//G to have symplectic singularities, the latter results improving upon [HSS20]. It turns out that for \"most\" G-modules V, the shell N has rational singularities. For the case of direct sums of classical representations of the classical groups, N has rational singularities and N//G has symplectic singularities if N is a reduced and irreducible complete intersection. Another important special case is V=pg (the direct sum of p copies of the Lie algebra of G) where p≥2. We show that N has rational singularities and that N//G has symplectic singularities, improving upon results of [Bud19] and [AA16]. Let π=π1(Σ) where Σ is a closed Riemann surface of genus p≥2. Let G be semisimple and let Hom(π,G) and X(π,G) be the corresponding representation variety and character variety. We show that Hom(π,G) is a complete intersection with rational singularities and that X(π,G) has symplectic singularities. If p>2 or G contains no simple factor of rank 1, then the singularities of Hom(π,G) and X(π,G) are in codimension at least four and Hom(π,G) is locally factorial. If, in addition, G is simply connected, then X(π,G) is locally factorial.\"\"\"\n",
        "get_category([text])"
      ],
      "execution_count": null,
      "outputs": [
        {
          "name": "stdout",
          "output_type": "stream",
          "text": [
            "4\n",
            "Physics\n"
          ]
        }
      ]
    },
    {
      "cell_type": "code",
      "metadata": {
        "colab": {
          "base_uri": "https://localhost:8080/"
        },
        "id": "96TuGuWYtxoC",
        "outputId": "cd7fc707-59e4-4027-c81d-35a589bdabfd"
      },
      "source": [
        "wordss = \"In this work, stable and convergent numerical schemes on nonuniform time meshes are proposed, for the solution of distributed-order diffusion equations. The stability and convergence of the numerical methods are proven, and a set of numerical results illustrate that the use of particular nonuniform time meshes provides more accurate results than the use of a uniform mesh, in the case of nonsmooth solutions\"\n",
        "get_category([wordss])"
      ],
      "execution_count": null,
      "outputs": [
        {
          "name": "stdout",
          "output_type": "stream",
          "text": [
            "3\n",
            "Math & Stats\n"
          ]
        }
      ]
    },
    {
      "cell_type": "markdown",
      "metadata": {
        "id": "-8QIol5_t2ny"
      },
      "source": [
        "## Export"
      ]
    },
    {
      "cell_type": "code",
      "metadata": {
        "id": "6ncgblfRt71v"
      },
      "source": [
        "!mkdir model"
      ],
      "execution_count": null,
      "outputs": []
    },
    {
      "cell_type": "code",
      "metadata": {
        "id": "jmeJtv2it0Kq"
      },
      "source": [
        "import pickle"
      ],
      "execution_count": null,
      "outputs": []
    },
    {
      "cell_type": "code",
      "metadata": {
        "id": "6Zmt5MhUt4sC"
      },
      "source": [
        "pickle.dump(tokenizer, open(\"model/tokenizer_abstract.pkl\", \"wb\"))"
      ],
      "execution_count": null,
      "outputs": []
    },
    {
      "cell_type": "code",
      "metadata": {
        "id": "gjXpyQX0t5ir"
      },
      "source": [
        "from keras.models import load_model"
      ],
      "execution_count": null,
      "outputs": []
    },
    {
      "cell_type": "code",
      "metadata": {
        "id": "vzuLnkVtuA4l"
      },
      "source": [
        "model.save('model/paper_abstract.h5')"
      ],
      "execution_count": null,
      "outputs": []
    },
    {
      "cell_type": "markdown",
      "metadata": {
        "id": "BujemXEHuFH2"
      },
      "source": [
        "## Test"
      ]
    },
    {
      "cell_type": "code",
      "metadata": {
        "id": "1toFV4-QuEIM"
      },
      "source": [
        "import numpy as np\n",
        "\n",
        "from keras.models import load_model\n",
        "import pickle"
      ],
      "execution_count": null,
      "outputs": []
    },
    {
      "cell_type": "code",
      "metadata": {
        "id": "ktxRa0jpuGsx"
      },
      "source": [
        "# Tokenisasi\n",
        "tokenizer = pickle.load(open(\"model/tokenizer_abstract.pkl\", \"rb\"))\n",
        "\n",
        "# Padding\n",
        "from tensorflow.keras.preprocessing.sequence import pad_sequences"
      ],
      "execution_count": null,
      "outputs": []
    },
    {
      "cell_type": "code",
      "metadata": {
        "id": "XH2wIOESuJx9"
      },
      "source": [
        "model = load_model('model/paper_abstract.h5')"
      ],
      "execution_count": null,
      "outputs": []
    },
    {
      "cell_type": "code",
      "metadata": {
        "id": "OVa9xV2guM6Y"
      },
      "source": [
        "topic = ['AI/ML',\t'Computer Science',\t'Computer Vision',\t'Math & Stats',\t'Physics']"
      ],
      "execution_count": null,
      "outputs": []
    },
    {
      "cell_type": "code",
      "metadata": {
        "id": "rMy0yyD2uPD9"
      },
      "source": [
        "def get_category(abstract):\n",
        "  abstract = tokenizer.texts_to_sequences(abstract)\n",
        "  abstract = pad_sequences(abstract, maxlen=10000)\n",
        "  prediction = model.predict(abstract)\n",
        "  print(np.argmax(prediction))\n",
        "  print(topic[np.argmax(prediction)])"
      ],
      "execution_count": null,
      "outputs": []
    },
    {
      "cell_type": "code",
      "metadata": {
        "colab": {
          "base_uri": "https://localhost:8080/"
        },
        "id": "dHrmbwFnuQhQ",
        "outputId": "48528c90-cc3d-42b4-830f-d11815bad42e"
      },
      "source": [
        "tex2 = \"As computer vision has become a part of our daily life. Using smartphones features like face recognition is all a part of computer vision. In this paper, we will talk aboutCV or Computer Vision which is preferably used to read and display a video stream in real time through which one can access the web camera and using machine learning one can let their system learn through data sent by user or through datasets which is easily available on the internet and then system trains itself. After training part it is ready to solve the real life problems. But using both computer vision and machine learning at the same time is always a challenging task asone has to capture and another has to train the system at the same timeso that the system could be able to recognize the things to which they are trained is the most innovative work in this paper as we have to keep in mind that both the things should be done at the same time\"\n",
        "get_category([tex2])"
      ],
      "execution_count": null,
      "outputs": [
        {
          "name": "stdout",
          "output_type": "stream",
          "text": [
            "2\n",
            "Computer Vision\n"
          ]
        }
      ]
    }
  ]
}